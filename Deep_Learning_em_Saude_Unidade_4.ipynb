{
  "nbformat": 4,
  "nbformat_minor": 0,
  "metadata": {
    "colab": {
      "name": "Deep Learning em Saude - Unidade 4.ipynb",
      "provenance": []
    },
    "kernelspec": {
      "name": "python3",
      "display_name": "Python 3"
    },
    "language_info": {
      "name": "python"
    },
    "accelerator": "GPU",
    "gpuClass": "standard"
  },
  "cells": [
    {
      "cell_type": "markdown",
      "source": [
        "#Pegar os dados"
      ],
      "metadata": {
        "id": "0GKFoXq0yGTv"
      }
    },
    {
      "cell_type": "code",
      "execution_count": 1,
      "metadata": {
        "colab": {
          "base_uri": "https://localhost:8080/"
        },
        "id": "JSuZRqYkvkYc",
        "outputId": "4039c780-804f-43f6-b7ea-f5f7cffe75aa"
      },
      "outputs": [
        {
          "output_type": "stream",
          "name": "stdout",
          "text": [
            "--2022-07-05 02:30:52--  https://s3.amazonaws.com/keras-datasets/jena_climate_2009_2016.csv.zip\n",
            "Resolving s3.amazonaws.com (s3.amazonaws.com)... 54.231.235.16\n",
            "Connecting to s3.amazonaws.com (s3.amazonaws.com)|54.231.235.16|:443... connected.\n",
            "HTTP request sent, awaiting response... 200 OK\n",
            "Length: 13565642 (13M) [application/zip]\n",
            "Saving to: ‘jena_climate_2009_2016.csv.zip’\n",
            "\n",
            "jena_climate_2009_2 100%[===================>]  12.94M  5.38MB/s    in 2.4s    \n",
            "\n",
            "2022-07-05 02:30:56 (5.38 MB/s) - ‘jena_climate_2009_2016.csv.zip’ saved [13565642/13565642]\n",
            "\n"
          ]
        }
      ],
      "source": [
        "!wget https://s3.amazonaws.com/keras-datasets/jena_climate_2009_2016.csv.zip"
      ]
    },
    {
      "cell_type": "code",
      "source": [
        "!unzip /content/jena_climate_2009_2016.csv.zip"
      ],
      "metadata": {
        "colab": {
          "base_uri": "https://localhost:8080/"
        },
        "id": "m5Omsfv-y-vt",
        "outputId": "c46d8088-a15b-451f-c7cf-7ac268fdad45"
      },
      "execution_count": 2,
      "outputs": [
        {
          "output_type": "stream",
          "name": "stdout",
          "text": [
            "Archive:  /content/jena_climate_2009_2016.csv.zip\n",
            "  inflating: jena_climate_2009_2016.csv  \n",
            "  inflating: __MACOSX/._jena_climate_2009_2016.csv  \n"
          ]
        }
      ]
    },
    {
      "cell_type": "code",
      "source": [
        "import os\n",
        "fname = os.path.join(\"jena_climate_2009_2016.csv\")"
      ],
      "metadata": {
        "id": "ViFaEefUzXWM"
      },
      "execution_count": 3,
      "outputs": []
    },
    {
      "cell_type": "code",
      "source": [
        "with open(fname) as f:\n",
        "  data=f.read()"
      ],
      "metadata": {
        "id": "BdJDAYtazf6R"
      },
      "execution_count": 4,
      "outputs": []
    },
    {
      "cell_type": "code",
      "source": [
        "lines = data.split(\"\\n\")\n",
        "header=lines[0].split(',')"
      ],
      "metadata": {
        "id": "erpYtMc1zlT5"
      },
      "execution_count": 5,
      "outputs": []
    },
    {
      "cell_type": "code",
      "source": [
        "lines = lines[1:]"
      ],
      "metadata": {
        "id": "oq0zFTELzyeL"
      },
      "execution_count": 6,
      "outputs": []
    },
    {
      "cell_type": "code",
      "source": [
        "print(header)"
      ],
      "metadata": {
        "colab": {
          "base_uri": "https://localhost:8080/"
        },
        "id": "D5PF6o55z3e-",
        "outputId": "f89b33cf-f744-4f98-920b-7ae0636b0440"
      },
      "execution_count": 7,
      "outputs": [
        {
          "output_type": "stream",
          "name": "stdout",
          "text": [
            "['\"Date Time\"', '\"p (mbar)\"', '\"T (degC)\"', '\"Tpot (K)\"', '\"Tdew (degC)\"', '\"rh (%)\"', '\"VPmax (mbar)\"', '\"VPact (mbar)\"', '\"VPdef (mbar)\"', '\"sh (g/kg)\"', '\"H2OC (mmol/mol)\"', '\"rho (g/m**3)\"', '\"wv (m/s)\"', '\"max. wv (m/s)\"', '\"wd (deg)\"']\n"
          ]
        }
      ]
    },
    {
      "cell_type": "code",
      "source": [
        "print(len(lines))"
      ],
      "metadata": {
        "colab": {
          "base_uri": "https://localhost:8080/"
        },
        "id": "SmgyYPSzz4oK",
        "outputId": "b93ba1ff-4455-4fa4-d35c-52c47687fa5f"
      },
      "execution_count": 8,
      "outputs": [
        {
          "output_type": "stream",
          "name": "stdout",
          "text": [
            "420451\n"
          ]
        }
      ]
    },
    {
      "cell_type": "code",
      "source": [
        "lines[0]"
      ],
      "metadata": {
        "colab": {
          "base_uri": "https://localhost:8080/",
          "height": 36
        },
        "id": "tG9MGZXL0CS1",
        "outputId": "a65eb971-60ee-4bcf-91a5-59d9b5e07fe9"
      },
      "execution_count": 9,
      "outputs": [
        {
          "output_type": "execute_result",
          "data": {
            "text/plain": [
              "'01.01.2009 00:10:00,996.52,-8.02,265.40,-8.90,93.30,3.33,3.11,0.22,1.94,3.12,1307.75,1.03,1.75,152.30'"
            ],
            "application/vnd.google.colaboratory.intrinsic+json": {
              "type": "string"
            }
          },
          "metadata": {},
          "execution_count": 9
        }
      ]
    },
    {
      "cell_type": "code",
      "source": [
        "import numpy as np\n",
        "temperature = np.zeros((len(lines),))"
      ],
      "metadata": {
        "id": "svl2hUTF0tkq"
      },
      "execution_count": 10,
      "outputs": []
    },
    {
      "cell_type": "code",
      "source": [
        "temperature.shape"
      ],
      "metadata": {
        "colab": {
          "base_uri": "https://localhost:8080/"
        },
        "id": "RXQodVuv19uF",
        "outputId": "59933fce-3a40-4ec1-f17c-c1a516d671fa"
      },
      "execution_count": 11,
      "outputs": [
        {
          "output_type": "execute_result",
          "data": {
            "text/plain": [
              "(420451,)"
            ]
          },
          "metadata": {},
          "execution_count": 11
        }
      ]
    },
    {
      "cell_type": "code",
      "source": [
        "raw_data = np.zeros((len(lines),len(header)-1))"
      ],
      "metadata": {
        "id": "j70bNsN52AAp"
      },
      "execution_count": 12,
      "outputs": []
    },
    {
      "cell_type": "code",
      "source": [
        "raw_data.shape"
      ],
      "metadata": {
        "colab": {
          "base_uri": "https://localhost:8080/"
        },
        "id": "8dL3nX002Poa",
        "outputId": "e3e2c341-79b0-4bcb-d618-a1f8e3bf41cc"
      },
      "execution_count": 13,
      "outputs": [
        {
          "output_type": "execute_result",
          "data": {
            "text/plain": [
              "(420451, 14)"
            ]
          },
          "metadata": {},
          "execution_count": 13
        }
      ]
    },
    {
      "cell_type": "code",
      "source": [
        "for i, line in enumerate(lines):\n",
        "  valores = [float(x) for x in line.split(\",\")[1:]]\n",
        "  temperature[i]=valores[1]\n",
        "  raw_data[i,:]=valores[:]"
      ],
      "metadata": {
        "id": "TdVM6wc42YTP"
      },
      "execution_count": 14,
      "outputs": []
    },
    {
      "cell_type": "code",
      "source": [
        "raw_data[0]"
      ],
      "metadata": {
        "colab": {
          "base_uri": "https://localhost:8080/"
        },
        "id": "LcTAhfmv2828",
        "outputId": "03bbc0c6-a5cd-43f6-c133-70b9e3f43da9"
      },
      "execution_count": 15,
      "outputs": [
        {
          "output_type": "execute_result",
          "data": {
            "text/plain": [
              "array([ 9.96520e+02, -8.02000e+00,  2.65400e+02, -8.90000e+00,\n",
              "        9.33000e+01,  3.33000e+00,  3.11000e+00,  2.20000e-01,\n",
              "        1.94000e+00,  3.12000e+00,  1.30775e+03,  1.03000e+00,\n",
              "        1.75000e+00,  1.52300e+02])"
            ]
          },
          "metadata": {},
          "execution_count": 15
        }
      ]
    },
    {
      "cell_type": "code",
      "source": [
        "from matplotlib import pyplot as plt\n",
        "plt.plot(temperature)"
      ],
      "metadata": {
        "colab": {
          "base_uri": "https://localhost:8080/",
          "height": 286
        },
        "id": "_3npE9sA3AqJ",
        "outputId": "21f92728-eaf1-4c87-9ace-8ea1c229bd98"
      },
      "execution_count": 16,
      "outputs": [
        {
          "output_type": "execute_result",
          "data": {
            "text/plain": [
              "[<matplotlib.lines.Line2D at 0x7f463a59aa50>]"
            ]
          },
          "metadata": {},
          "execution_count": 16
        },
        {
          "output_type": "display_data",
          "data": {
            "text/plain": [
              "<Figure size 432x288 with 1 Axes>"
            ],
            "image/png": "[encoded data removed]"
          },
          "metadata": {
            "needs_background": "light"
          }
        }
      ]
    },
    {
      "cell_type": "code",
      "source": [
        "6*24"
      ],
      "metadata": {
        "colab": {
          "base_uri": "https://localhost:8080/"
        },
        "id": "1dx_bHqg3XVr",
        "outputId": "c7fc1022-c2c8-46f3-9eb0-34522342681c"
      },
      "execution_count": 17,
      "outputs": [
        {
          "output_type": "execute_result",
          "data": {
            "text/plain": [
              "144"
            ]
          },
          "metadata": {},
          "execution_count": 17
        }
      ]
    },
    {
      "cell_type": "code",
      "source": [
        "plt.plot(temperature[:1440])"
      ],
      "metadata": {
        "colab": {
          "base_uri": "https://localhost:8080/",
          "height": 283
        },
        "id": "1DMlHitW3Kga",
        "outputId": "9e614b91-09b4-4bf9-f369-34b24ecd8106"
      },
      "execution_count": 18,
      "outputs": [
        {
          "output_type": "execute_result",
          "data": {
            "text/plain": [
              "[<matplotlib.lines.Line2D at 0x7f463a078ed0>]"
            ]
          },
          "metadata": {},
          "execution_count": 18
        },
        {
          "output_type": "display_data",
          "data": {
            "text/plain": [
              "<Figure size 432x288 with 1 Axes>"
            ],
            "image/png": "[encoded data removed]"
          },
          "metadata": {
            "needs_background": "light"
          }
        }
      ]
    },
    {
      "cell_type": "markdown",
      "source": [
        "##calculando numero de amostras"
      ],
      "metadata": {
        "id": "IwynAKce38ax"
      }
    },
    {
      "cell_type": "code",
      "source": [
        "num_train_samples = int(0.5 * len(raw_data))"
      ],
      "metadata": {
        "id": "mBIc8rL33UT9"
      },
      "execution_count": 19,
      "outputs": []
    },
    {
      "cell_type": "code",
      "source": [
        "num_val_samples = int(0.25 * len(raw_data))"
      ],
      "metadata": {
        "id": "_BtZBGNb4C8u"
      },
      "execution_count": 20,
      "outputs": []
    },
    {
      "cell_type": "code",
      "source": [
        "num_test_samples=len(raw_data) - num_train_samples - num_val_samples"
      ],
      "metadata": {
        "id": "qR2FuLmU4KX0"
      },
      "execution_count": 21,
      "outputs": []
    },
    {
      "cell_type": "code",
      "source": [
        "print(num_train_samples)\n",
        "print(num_val_samples)\n",
        "print(num_test_samples)"
      ],
      "metadata": {
        "colab": {
          "base_uri": "https://localhost:8080/"
        },
        "id": "bDLPFMsJ4TZV",
        "outputId": "5b2ac7bb-dae7-4d03-9965-e38fbd8cf7c1"
      },
      "execution_count": 22,
      "outputs": [
        {
          "output_type": "stream",
          "name": "stdout",
          "text": [
            "210225\n",
            "105112\n",
            "105114\n"
          ]
        }
      ]
    },
    {
      "cell_type": "code",
      "source": [
        "mean = raw_data[:num_train_samples].mean(axis=0)"
      ],
      "metadata": {
        "id": "2Ins7ceV4YbF"
      },
      "execution_count": 23,
      "outputs": []
    },
    {
      "cell_type": "code",
      "source": [
        "mean"
      ],
      "metadata": {
        "colab": {
          "base_uri": "https://localhost:8080/"
        },
        "id": "Iv7oZX_x4wrg",
        "outputId": "5636f415-2abd-4988-fd4e-0d965a6159e4"
      },
      "execution_count": 24,
      "outputs": [
        {
          "output_type": "execute_result",
          "data": {
            "text/plain": [
              "array([ 988.74929466,    8.82590329,  282.9050718 ,    4.31331863,\n",
              "         75.87275476,   13.14569946,    9.19414209,    3.95148184,\n",
              "          5.81050741,    9.30208943, 1218.45204015,    2.14977462,\n",
              "          3.56048029,  176.4405232 ])"
            ]
          },
          "metadata": {},
          "execution_count": 24
        }
      ]
    },
    {
      "cell_type": "code",
      "source": [
        "raw_data = raw_data-mean"
      ],
      "metadata": {
        "id": "y4bcvalO4xgU"
      },
      "execution_count": 25,
      "outputs": []
    },
    {
      "cell_type": "code",
      "source": [
        "raw_data[0]"
      ],
      "metadata": {
        "colab": {
          "base_uri": "https://localhost:8080/"
        },
        "id": "K-SwGpbA44Fs",
        "outputId": "a79b1b44-c24c-47c5-d550-d72546aab416"
      },
      "execution_count": 26,
      "outputs": [
        {
          "output_type": "execute_result",
          "data": {
            "text/plain": [
              "array([  7.77070534, -16.84590329, -17.5050718 , -13.21331863,\n",
              "        17.42724524,  -9.81569946,  -6.08414209,  -3.73148184,\n",
              "        -3.87050741,  -6.18208943,  89.29795985,  -1.11977462,\n",
              "        -1.81048029, -24.1405232 ])"
            ]
          },
          "metadata": {},
          "execution_count": 26
        }
      ]
    },
    {
      "cell_type": "code",
      "source": [
        "std = raw_data[:num_train_samples].std(axis=0)"
      ],
      "metadata": {
        "id": "YtxGYT5C47Yx"
      },
      "execution_count": 27,
      "outputs": []
    },
    {
      "cell_type": "code",
      "source": [
        "raw_data/=std"
      ],
      "metadata": {
        "id": "o1NjFnKi5Ho-"
      },
      "execution_count": 28,
      "outputs": []
    },
    {
      "cell_type": "code",
      "source": [
        "raw_data[0]"
      ],
      "metadata": {
        "colab": {
          "base_uri": "https://localhost:8080/"
        },
        "id": "nequejnR5Osw",
        "outputId": "c21f4b59-a3ee-47b1-c279-11b6314cdf20"
      },
      "execution_count": 29,
      "outputs": [
        {
          "output_type": "execute_result",
          "data": {
            "text/plain": [
              "array([ 0.91365151, -1.92064015, -1.97449272, -1.86625827,  1.04801712,\n",
              "       -1.29131928, -1.46715535, -0.78234525, -1.47012583, -1.4720352 ,\n",
              "        2.12415558, -0.73016651, -0.77935289, -0.28119316])"
            ]
          },
          "metadata": {},
          "execution_count": 29
        }
      ]
    },
    {
      "cell_type": "code",
      "source": [
        "from tensorflow import keras\n",
        "\n",
        "sampling_rate = 6\n",
        "sequence_length = 120 # 24*5\n",
        "delay = sampling_rate * (sequence_length + 24 -1)\n",
        "batch_size = 256\n",
        "\n",
        "train_dataset = keras.utils.timeseries_dataset_from_array(\n",
        "    raw_data[:-delay],\n",
        "    targets=temperature[delay:],\n",
        "    sampling_rate=sampling_rate,\n",
        "    sequence_length=sequence_length,\n",
        "    shuffle=True,\n",
        "    batch_size=batch_size,\n",
        "    start_index=0,\n",
        "    end_index=num_train_samples\n",
        ")\n",
        "\n",
        "val_dataset = keras.utils.timeseries_dataset_from_array(\n",
        "    raw_data[:-delay],\n",
        "    targets=temperature[delay:],\n",
        "    sampling_rate=sampling_rate,\n",
        "    sequence_length=sequence_length,\n",
        "    shuffle=True,\n",
        "    batch_size=batch_size,\n",
        "    start_index=num_train_samples,\n",
        "    end_index=num_train_samples + num_val_samples\n",
        ")\n",
        "\n",
        "test_dataset = keras.utils.timeseries_dataset_from_array(\n",
        "    raw_data[:-delay],\n",
        "    targets=temperature[delay:],\n",
        "    sampling_rate=sampling_rate,\n",
        "    sequence_length=sequence_length,\n",
        "    shuffle=True,\n",
        "    batch_size=batch_size,\n",
        "    start_index=num_train_samples + num_val_samples\n",
        ")\n"
      ],
      "metadata": {
        "id": "t9m6f9zw5QgM"
      },
      "execution_count": 30,
      "outputs": []
    },
    {
      "cell_type": "code",
      "source": [
        "type(train_dataset)"
      ],
      "metadata": {
        "colab": {
          "base_uri": "https://localhost:8080/"
        },
        "id": "0Ws1cCs97y6I",
        "outputId": "739a3710-8895-460b-ee60-84d9be0a714e"
      },
      "execution_count": 39,
      "outputs": [
        {
          "output_type": "execute_result",
          "data": {
            "text/plain": [
              "tensorflow.python.data.ops.dataset_ops.BatchDataset"
            ]
          },
          "metadata": {},
          "execution_count": 39
        }
      ]
    },
    {
      "cell_type": "code",
      "source": [
        "for samples, targets in train_dataset:\n",
        "  print(samples.shape)\n",
        "  print(targets.shape)\n",
        "  break"
      ],
      "metadata": {
        "colab": {
          "base_uri": "https://localhost:8080/"
        },
        "id": "tFClhDOS7vWd",
        "outputId": "f7ef9a50-c3d5-467b-8254-5efd4fabc98e"
      },
      "execution_count": 41,
      "outputs": [
        {
          "output_type": "stream",
          "name": "stdout",
          "text": [
            "(256, 120, 14)\n",
            "(256,)\n"
          ]
        }
      ]
    },
    {
      "cell_type": "markdown",
      "source": [
        "## Rede Neural Densa"
      ],
      "metadata": {
        "id": "rB80qrNa8OqC"
      }
    },
    {
      "cell_type": "code",
      "source": [
        "from tensorflow import keras\n",
        "\n",
        "input=keras.Input(shape=(sequence_length, raw_data.shape[-1]))\n",
        "x=keras.layers.Flatten()(input)\n",
        "x=keras.layers.Dense(16, activation='relu')(x)\n",
        "output = keras.layers.Dense(1)(x)\n",
        "model = keras.Model(input, output)\n",
        "\n"
      ],
      "metadata": {
        "id": "HdeDQSrt7_7b"
      },
      "execution_count": 42,
      "outputs": []
    },
    {
      "cell_type": "code",
      "source": [
        "callbacks=[\n",
        "   keras.callbacks.ModelCheckpoint(\"jean_dense.keras\", save_best_only=True)\n",
        "]"
      ],
      "metadata": {
        "id": "MvuEHkR79I8F"
      },
      "execution_count": 43,
      "outputs": []
    },
    {
      "cell_type": "code",
      "source": [
        "model.compile(\n",
        "    optimizer=\"rmsprop\",\n",
        "    loss=\"mse\", # mean squared error\n",
        "    metrics=[\"mae\"]\n",
        ")"
      ],
      "metadata": {
        "id": "ol-bVaMC9bhx"
      },
      "execution_count": 44,
      "outputs": []
    },
    {
      "cell_type": "code",
      "source": [
        "historico = model.fit(train_dataset,\n",
        "                      epochs=10,\n",
        "                      validation_data=val_dataset,\n",
        "                      callbacks=callbacks)"
      ],
      "metadata": {
        "colab": {
          "base_uri": "https://localhost:8080/"
        },
        "id": "kEx6TlIf-ETd",
        "outputId": "738954c8-70b2-4b90-f511-27dca031d541"
      },
      "execution_count": 46,
      "outputs": [
        {
          "output_type": "stream",
          "name": "stdout",
          "text": [
            "Epoch 1/10\n",
            "819/819 [==============================] - 55s 67ms/step - loss: 11.6588 - mae: 2.6564 - val_loss: 12.4909 - val_mae: 2.7956\n",
            "Epoch 2/10\n",
            "819/819 [==============================] - 57s 69ms/step - loss: 8.7718 - mae: 2.3295 - val_loss: 13.2168 - val_mae: 2.8576\n",
            "Epoch 3/10\n",
            "819/819 [==============================] - 57s 69ms/step - loss: 8.1041 - mae: 2.2420 - val_loss: 11.2949 - val_mae: 2.6499\n",
            "Epoch 4/10\n",
            "819/819 [==============================] - 53s 64ms/step - loss: 7.6719 - mae: 2.1799 - val_loss: 11.3086 - val_mae: 2.6581\n",
            "Epoch 5/10\n",
            "819/819 [==============================] - 53s 64ms/step - loss: 7.4038 - mae: 2.1452 - val_loss: 11.5322 - val_mae: 2.6729\n",
            "Epoch 6/10\n",
            "819/819 [==============================] - 53s 65ms/step - loss: 7.1700 - mae: 2.1092 - val_loss: 11.8538 - val_mae: 2.7298\n",
            "Epoch 7/10\n",
            "819/819 [==============================] - 53s 64ms/step - loss: 6.9783 - mae: 2.0819 - val_loss: 11.7224 - val_mae: 2.7038\n",
            "Epoch 8/10\n",
            "819/819 [==============================] - 53s 64ms/step - loss: 6.8416 - mae: 2.0584 - val_loss: 12.0672 - val_mae: 2.7526\n",
            "Epoch 9/10\n",
            "819/819 [==============================] - 53s 64ms/step - loss: 6.7159 - mae: 2.0401 - val_loss: 11.7202 - val_mae: 2.7090\n",
            "Epoch 10/10\n",
            "819/819 [==============================] - 57s 69ms/step - loss: 6.5873 - mae: 2.0199 - val_loss: 13.0024 - val_mae: 2.8559\n"
          ]
        }
      ]
    },
    {
      "cell_type": "code",
      "source": [
        "model = keras.models.load_model(\"/content/jean_dense.keras\")"
      ],
      "metadata": {
        "id": "lEv_aNxtBcrl"
      },
      "execution_count": 47,
      "outputs": []
    },
    {
      "cell_type": "code",
      "source": [
        "print(model.evaluate(test_dataset)[1])"
      ],
      "metadata": {
        "colab": {
          "base_uri": "https://localhost:8080/"
        },
        "id": "jy2KC089BidH",
        "outputId": "585a131a-e21d-4765-c9c7-6908bc1c4e6b"
      },
      "execution_count": 50,
      "outputs": [
        {
          "output_type": "stream",
          "name": "stdout",
          "text": [
            "405/405 [==============================] - 18s 42ms/step - loss: 11.2949 - mae: 2.6499\n",
            "2.649888038635254\n"
          ]
        }
      ]
    },
    {
      "cell_type": "code",
      "source": [
        "import matplotlib.pyplot as plt\n",
        "\n",
        "loss= historico.history[\"mae\"]\n",
        "val_loss=historico.history[\"val_mae\"]\n",
        "plt.plot(loss, \"bo\",label=\"Treino mae\")\n",
        "plt.plot(val_loss, \"b\",label=\"Validacao mae\")\n",
        "plt.legend()\n"
      ],
      "metadata": {
        "colab": {
          "base_uri": "https://localhost:8080/",
          "height": 283
        },
        "id": "t4CvEYdkBuBZ",
        "outputId": "7e1bc58b-cd82-44c6-e034-37ea844c2c72"
      },
      "execution_count": 52,
      "outputs": [
        {
          "output_type": "execute_result",
          "data": {
            "text/plain": [
              "<matplotlib.legend.Legend at 0x7f5525fa6490>"
            ]
          },
          "metadata": {},
          "execution_count": 52
        },
        {
          "output_type": "display_data",
          "data": {
            "text/plain": [
              "<Figure size 432x288 with 1 Axes>"
            ],
            "image/png": "[encoded data removed]"
          },
          "metadata": {
            "needs_background": "light"
          }
        }
      ]
    },
    {
      "cell_type": "markdown",
      "source": [
        "## Rede Neural Recorrente"
      ],
      "metadata": {
        "id": "EPN0m8BFDDXD"
      }
    },
    {
      "cell_type": "code",
      "source": [
        "inputs = keras.Input(shape=(sequence_length, raw_data.shape[-1]))\n",
        "x = keras.layers.LSTM(16)(inputs)\n",
        "outputs = keras.layers.Dense(1)(x)\n",
        "model = keras.Model(inputs,outputs)\n",
        "\n",
        "callbacks=[\n",
        "  keras.callbacks.ModelCheckpoint(\"jena_lstm.keras\", save_best_only=True) \n",
        "]\n",
        "\n",
        "model.compile(\n",
        "    optimizer=\"rmsprop\",\n",
        "    loss=\"mse\",\n",
        "    metrics=[\"mae\"]\n",
        ")\n",
        "\n",
        "historico = model.fit(train_dataset,\n",
        "                      epochs=10,\n",
        "                      validation_data=val_dataset,\n",
        "                      callbacks=callbacks)\n",
        "\n"
      ],
      "metadata": {
        "colab": {
          "base_uri": "https://localhost:8080/"
        },
        "id": "tr5eQFPdCi3o",
        "outputId": "f335e35a-ad2f-4bc8-c65c-237d0a26b045"
      },
      "execution_count": 54,
      "outputs": [
        {
          "output_type": "stream",
          "name": "stdout",
          "text": [
            "Epoch 1/10\n",
            "819/819 [==============================] - 104s 124ms/step - loss: 42.5791 - mae: 4.7457 - val_loss: 13.2625 - val_mae: 2.7682\n",
            "Epoch 2/10\n",
            "819/819 [==============================] - 99s 120ms/step - loss: 11.2228 - mae: 2.6033 - val_loss: 9.7781 - val_mae: 2.4370\n",
            "Epoch 3/10\n",
            "819/819 [==============================] - 99s 120ms/step - loss: 9.8453 - mae: 2.4414 - val_loss: 9.3697 - val_mae: 2.3789\n",
            "Epoch 4/10\n",
            "819/819 [==============================] - 100s 121ms/step - loss: 9.3065 - mae: 2.3739 - val_loss: 9.5735 - val_mae: 2.4094\n",
            "Epoch 5/10\n",
            "819/819 [==============================] - 99s 120ms/step - loss: 8.8627 - mae: 2.3180 - val_loss: 9.6285 - val_mae: 2.4168\n",
            "Epoch 6/10\n",
            "819/819 [==============================] - 101s 123ms/step - loss: 8.5061 - mae: 2.2742 - val_loss: 9.6030 - val_mae: 2.4204\n",
            "Epoch 7/10\n",
            "819/819 [==============================] - 98s 120ms/step - loss: 8.2351 - mae: 2.2385 - val_loss: 9.8932 - val_mae: 2.4624\n",
            "Epoch 8/10\n",
            "819/819 [==============================] - 100s 121ms/step - loss: 8.0338 - mae: 2.2128 - val_loss: 9.7875 - val_mae: 2.4536\n",
            "Epoch 9/10\n",
            "819/819 [==============================] - 100s 122ms/step - loss: 7.8633 - mae: 2.1902 - val_loss: 9.9462 - val_mae: 2.4720\n",
            "Epoch 10/10\n",
            "819/819 [==============================] - 102s 125ms/step - loss: 7.7408 - mae: 2.1749 - val_loss: 10.1731 - val_mae: 2.5007\n"
          ]
        }
      ]
    },
    {
      "cell_type": "code",
      "source": [
        "model= keras.models.load_model(\"jena_lstm.keras\")\n",
        "print(model.evaluate(test_dataset)[1])"
      ],
      "metadata": {
        "colab": {
          "base_uri": "https://localhost:8080/"
        },
        "id": "QS_Fh0yJDO0y",
        "outputId": "3af359c8-a8d7-4163-ee42-96a70fc3744e"
      },
      "execution_count": 56,
      "outputs": [
        {
          "output_type": "stream",
          "name": "stdout",
          "text": [
            "405/405 [==============================] - 24s 58ms/step - loss: 10.7767 - mae: 2.5615\n",
            "2.561511516571045\n"
          ]
        }
      ]
    },
    {
      "cell_type": "code",
      "source": [
        "loss= historico.history[\"mae\"]\n",
        "val_loss=historico.history[\"val_mae\"]\n",
        "plt.plot(loss, \"bo\",label=\"Treino mae\")\n",
        "plt.plot(val_loss, \"b\",label=\"Validacao mae\")\n",
        "plt.legend()"
      ],
      "metadata": {
        "colab": {
          "base_uri": "https://localhost:8080/",
          "height": 283
        },
        "id": "401_JFyNJf9X",
        "outputId": "5a8aed74-f8c6-44cd-a067-d7b209f27dfa"
      },
      "execution_count": 57,
      "outputs": [
        {
          "output_type": "execute_result",
          "data": {
            "text/plain": [
              "<matplotlib.legend.Legend at 0x7f55257bdb10>"
            ]
          },
          "metadata": {},
          "execution_count": 57
        },
        {
          "output_type": "display_data",
          "data": {
            "text/plain": [
              "<Figure size 432x288 with 1 Axes>"
            ],
            "image/png": "[encoded data removed]"
          },
          "metadata": {
            "needs_background": "light"
          }
        }
      ]
    },
    {
      "cell_type": "markdown",
      "source": [
        "##Dropout com RNN"
      ],
      "metadata": {
        "id": "Rqz8MAcaQF3g"
      }
    },
    {
      "cell_type": "code",
      "source": [
        "inputs = keras.Input(shape=(sequence_length, raw_data.shape[-1]))\n",
        "x = keras.layers.LSTM(32, recurrent_dropout=0.25)(inputs)\n",
        "x = keras.layers.Dropout(0.5)(x)\n",
        "outputs = keras.layers.Dense(1)(x)\n",
        "model = keras.Model(inputs,outputs)\n",
        "\n",
        "callbacks=[\n",
        "  keras.callbacks.ModelCheckpoint(\"jena_lstm_dropout.keras\", save_best_only=True) \n",
        "]\n",
        "\n",
        "model.compile(\n",
        "    optimizer=\"rmsprop\",\n",
        "    loss=\"mse\",\n",
        "    metrics=[\"mae\"]\n",
        ")\n",
        "\n",
        "historico = model.fit(train_dataset,\n",
        "                      epochs=10,\n",
        "                      validation_data=val_dataset,\n",
        "                      callbacks=callbacks)"
      ],
      "metadata": {
        "colab": {
          "base_uri": "https://localhost:8080/"
        },
        "id": "5M0kWD55QJRJ",
        "outputId": "b7e4564a-cd15-4c69-f160-782b3b5633f8"
      },
      "execution_count": 35,
      "outputs": [
        {
          "output_type": "stream",
          "name": "stdout",
          "text": [
            "WARNING:tensorflow:Layer lstm_4 will not use cuDNN kernels since it doesn't meet the criteria. It will use a generic GPU kernel as fallback when running on GPU.\n",
            "Epoch 1/10\n",
            "819/819 [==============================] - 425s 428ms/step - loss: 28.4765 - mae: 3.9329 - val_loss: 9.9676 - val_mae: 2.4469\n",
            "Epoch 2/10\n",
            "819/819 [==============================] - 348s 425ms/step - loss: 14.8016 - mae: 2.9859 - val_loss: 9.3803 - val_mae: 2.3745\n",
            "Epoch 3/10\n",
            "819/819 [==============================] - 344s 419ms/step - loss: 13.9298 - mae: 2.8915 - val_loss: 9.5079 - val_mae: 2.3924\n",
            "Epoch 4/10\n",
            "819/819 [==============================] - 346s 423ms/step - loss: 13.3513 - mae: 2.8306 - val_loss: 9.3707 - val_mae: 2.3760\n",
            "Epoch 5/10\n",
            "819/819 [==============================] - 347s 423ms/step - loss: 12.8786 - mae: 2.7794 - val_loss: 9.6252 - val_mae: 2.4085\n",
            "Epoch 6/10\n",
            "819/819 [==============================] - 344s 420ms/step - loss: 12.4645 - mae: 2.7367 - val_loss: 9.3097 - val_mae: 2.3678\n",
            "Epoch 7/10\n",
            "819/819 [==============================] - 343s 418ms/step - loss: 12.1232 - mae: 2.6997 - val_loss: 9.5338 - val_mae: 2.3989\n",
            "Epoch 8/10\n",
            "819/819 [==============================] - 345s 421ms/step - loss: 11.8416 - mae: 2.6709 - val_loss: 9.5902 - val_mae: 2.4089\n",
            "Epoch 9/10\n",
            "819/819 [==============================] - 343s 419ms/step - loss: 11.6023 - mae: 2.6433 - val_loss: 9.3384 - val_mae: 2.3688\n",
            "Epoch 10/10\n",
            "819/819 [==============================] - 344s 419ms/step - loss: 11.3795 - mae: 2.6201 - val_loss: 9.2805 - val_mae: 2.3744\n"
          ]
        }
      ]
    },
    {
      "cell_type": "code",
      "source": [
        "model= keras.models.load_model(\"jena_lstm_dropout.keras\")\n",
        "print(model.evaluate(test_dataset)[1])"
      ],
      "metadata": {
        "colab": {
          "base_uri": "https://localhost:8080/"
        },
        "id": "IVBGI_BpQ8bu",
        "outputId": "09d2fa8b-2f7f-47af-82a8-2404ddf7c322"
      },
      "execution_count": 36,
      "outputs": [
        {
          "output_type": "stream",
          "name": "stdout",
          "text": [
            "WARNING:tensorflow:Layer lstm_4 will not use cuDNN kernels since it doesn't meet the criteria. It will use a generic GPU kernel as fallback when running on GPU.\n",
            "405/405 [==============================] - 26s 63ms/step - loss: 10.7572 - mae: 2.5855\n",
            "2.585517644882202\n"
          ]
        }
      ]
    },
    {
      "cell_type": "code",
      "source": [
        "loss= historico.history[\"mae\"]\n",
        "val_loss=historico.history[\"val_mae\"]\n",
        "plt.plot(loss, \"bo\",label=\"Treino mae\")\n",
        "plt.plot(val_loss, \"b\",label=\"Validacao mae\")\n",
        "plt.legend()"
      ],
      "metadata": {
        "colab": {
          "base_uri": "https://localhost:8080/",
          "height": 286
        },
        "id": "rhZZpPw_RCIb",
        "outputId": "5d4958aa-a753-495a-d3f2-d595fa4d767f"
      },
      "execution_count": 37,
      "outputs": [
        {
          "output_type": "execute_result",
          "data": {
            "text/plain": [
              "<matplotlib.legend.Legend at 0x7f452c34e590>"
            ]
          },
          "metadata": {},
          "execution_count": 37
        },
        {
          "output_type": "display_data",
          "data": {
            "text/plain": [
              "<Figure size 432x288 with 1 Axes>"
            ],
            "image/png": "[encoded data removed]"
          },
          "metadata": {
            "needs_background": "light"
          }
        }
      ]
    }
  ]
}
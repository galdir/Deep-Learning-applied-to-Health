{
  "nbformat": 4,
  "nbformat_minor": 0,
  "metadata": {
    "colab": {
      "name": "Unidade 2 - Deep Learning em Saude.ipynb",
      "provenance": [],
      "toc_visible": true
    },
    "kernelspec": {
      "name": "python3",
      "display_name": "Python 3"
    },
    "language_info": {
      "name": "python"
    }
  },
  "cells": [
    {
      "cell_type": "markdown",
      "source": [
        "#Preparando os dados"
      ],
      "metadata": {
        "id": "CIz127r8zhs6"
      }
    },
    {
      "cell_type": "code",
      "execution_count": null,
      "metadata": {
        "id": "NC23ifiOv9vW"
      },
      "outputs": [],
      "source": [
        "import pandas as pd\n",
        "\n",
        "url_arquivo=\"http://storage.googleapis.com/download.tensorflow.org/data/heart.csv\"\n",
        "dados = pd.read_csv(url_arquivo)"
      ]
    },
    {
      "cell_type": "code",
      "source": [
        "dados"
      ],
      "metadata": {
        "colab": {
          "base_uri": "https://localhost:8080/",
          "height": 423
        },
        "id": "GU8t6cj4z7Ga",
        "outputId": "e1d2bbc7-68aa-4b7a-8c2d-601654322fde"
      },
      "execution_count": null,
      "outputs": [
        {
          "output_type": "execute_result",
          "data": {
            "text/plain": [
              "     age  sex  cp  trestbps  chol  fbs  restecg  thalach  exang  oldpeak  \\\n",
              "0     63    1   1       145   233    1        2      150      0      2.3   \n",
              "1     67    1   4       160   286    0        2      108      1      1.5   \n",
              "2     67    1   4       120   229    0        2      129      1      2.6   \n",
              "3     37    1   3       130   250    0        0      187      0      3.5   \n",
              "4     41    0   2       130   204    0        2      172      0      1.4   \n",
              "..   ...  ...  ..       ...   ...  ...      ...      ...    ...      ...   \n",
              "298   52    1   1       118   186    0        2      190      0      0.0   \n",
              "299   43    0   4       132   341    1        2      136      1      3.0   \n",
              "300   65    1   4       135   254    0        2      127      0      2.8   \n",
              "301   48    1   4       130   256    1        2      150      1      0.0   \n",
              "302   63    0   4       150   407    0        2      154      0      4.0   \n",
              "\n",
              "     slope  ca        thal  target  \n",
              "0        3   0       fixed       0  \n",
              "1        2   3      normal       1  \n",
              "2        2   2  reversible       0  \n",
              "3        3   0      normal       0  \n",
              "4        1   0      normal       0  \n",
              "..     ...  ..         ...     ...  \n",
              "298      2   0       fixed       0  \n",
              "299      2   0  reversible       1  \n",
              "300      2   1  reversible       1  \n",
              "301      1   2  reversible       1  \n",
              "302      2   3  reversible       1  \n",
              "\n",
              "[303 rows x 14 columns]"
            ],
            "text/html": [
              "\n",
              "  <div id=\"df-1ed42efd-1ca8-4bad-bcda-27ba13096aa2\">\n",
              "    <div class=\"colab-df-container\">\n",
              "      <div>\n",
              "<style scoped>\n",
              "    .dataframe tbody tr th:only-of-type {\n",
              "        vertical-align: middle;\n",
              "    }\n",
              "\n",
              "    .dataframe tbody tr th {\n",
              "        vertical-align: top;\n",
              "    }\n",
              "\n",
              "    .dataframe thead th {\n",
              "        text-align: right;\n",
              "    }\n",
              "</style>\n",
              "<table border=\"1\" class=\"dataframe\">\n",
              "  <thead>\n",
              "    <tr style=\"text-align: right;\">\n",
              "      <th></th>\n",
              "      <th>age</th>\n",
              "      <th>sex</th>\n",
              "      <th>cp</th>\n",
              "      <th>trestbps</th>\n",
              "      <th>chol</th>\n",
              "      <th>fbs</th>\n",
              "      <th>restecg</th>\n",
              "      <th>thalach</th>\n",
              "      <th>exang</th>\n",
              "      <th>oldpeak</th>\n",
              "      <th>slope</th>\n",
              "      <th>ca</th>\n",
              "      <th>thal</th>\n",
              "      <th>target</th>\n",
              "    </tr>\n",
              "  </thead>\n",
              "  <tbody>\n",
              "    <tr>\n",
              "      <th>0</th>\n",
              "      <td>63</td>\n",
              "      <td>1</td>\n",
              "      <td>1</td>\n",
              "      <td>145</td>\n",
              "      <td>233</td>\n",
              "      <td>1</td>\n",
              "      <td>2</td>\n",
              "      <td>150</td>\n",
              "      <td>0</td>\n",
              "      <td>2.3</td>\n",
              "      <td>3</td>\n",
              "      <td>0</td>\n",
              "      <td>fixed</td>\n",
              "      <td>0</td>\n",
              "    </tr>\n",
              "    <tr>\n",
              "      <th>1</th>\n",
              "      <td>67</td>\n",
              "      <td>1</td>\n",
              "      <td>4</td>\n",
              "      <td>160</td>\n",
              "      <td>286</td>\n",
              "      <td>0</td>\n",
              "      <td>2</td>\n",
              "      <td>108</td>\n",
              "      <td>1</td>\n",
              "      <td>1.5</td>\n",
              "      <td>2</td>\n",
              "      <td>3</td>\n",
              "      <td>normal</td>\n",
              "      <td>1</td>\n",
              "    </tr>\n",
              "    <tr>\n",
              "      <th>2</th>\n",
              "      <td>67</td>\n",
              "      <td>1</td>\n",
              "      <td>4</td>\n",
              "      <td>120</td>\n",
              "      <td>229</td>\n",
              "      <td>0</td>\n",
              "      <td>2</td>\n",
              "      <td>129</td>\n",
              "      <td>1</td>\n",
              "      <td>2.6</td>\n",
              "      <td>2</td>\n",
              "      <td>2</td>\n",
              "      <td>reversible</td>\n",
              "      <td>0</td>\n",
              "    </tr>\n",
              "    <tr>\n",
              "      <th>3</th>\n",
              "      <td>37</td>\n",
              "      <td>1</td>\n",
              "      <td>3</td>\n",
              "      <td>130</td>\n",
              "      <td>250</td>\n",
              "      <td>0</td>\n",
              "      <td>0</td>\n",
              "      <td>187</td>\n",
              "      <td>0</td>\n",
              "      <td>3.5</td>\n",
              "      <td>3</td>\n",
              "      <td>0</td>\n",
              "      <td>normal</td>\n",
              "      <td>0</td>\n",
              "    </tr>\n",
              "    <tr>\n",
              "      <th>4</th>\n",
              "      <td>41</td>\n",
              "      <td>0</td>\n",
              "      <td>2</td>\n",
              "      <td>130</td>\n",
              "      <td>204</td>\n",
              "      <td>0</td>\n",
              "      <td>2</td>\n",
              "      <td>172</td>\n",
              "      <td>0</td>\n",
              "      <td>1.4</td>\n",
              "      <td>1</td>\n",
              "      <td>0</td>\n",
              "      <td>normal</td>\n",
              "      <td>0</td>\n",
              "    </tr>\n",
              "    <tr>\n",
              "      <th>...</th>\n",
              "      <td>...</td>\n",
              "      <td>...</td>\n",
              "      <td>...</td>\n",
              "      <td>...</td>\n",
              "      <td>...</td>\n",
              "      <td>...</td>\n",
              "      <td>...</td>\n",
              "      <td>...</td>\n",
              "      <td>...</td>\n",
              "      <td>...</td>\n",
              "      <td>...</td>\n",
              "      <td>...</td>\n",
              "      <td>...</td>\n",
              "      <td>...</td>\n",
              "    </tr>\n",
              "    <tr>\n",
              "      <th>298</th>\n",
              "      <td>52</td>\n",
              "      <td>1</td>\n",
              "      <td>1</td>\n",
              "      <td>118</td>\n",
              "      <td>186</td>\n",
              "      <td>0</td>\n",
              "      <td>2</td>\n",
              "      <td>190</td>\n",
              "      <td>0</td>\n",
              "      <td>0.0</td>\n",
              "      <td>2</td>\n",
              "      <td>0</td>\n",
              "      <td>fixed</td>\n",
              "      <td>0</td>\n",
              "    </tr>\n",
              "    <tr>\n",
              "      <th>299</th>\n",
              "      <td>43</td>\n",
              "      <td>0</td>\n",
              "      <td>4</td>\n",
              "      <td>132</td>\n",
              "      <td>341</td>\n",
              "      <td>1</td>\n",
              "      <td>2</td>\n",
              "      <td>136</td>\n",
              "      <td>1</td>\n",
              "      <td>3.0</td>\n",
              "      <td>2</td>\n",
              "      <td>0</td>\n",
              "      <td>reversible</td>\n",
              "      <td>1</td>\n",
              "    </tr>\n",
              "    <tr>\n",
              "      <th>300</th>\n",
              "      <td>65</td>\n",
              "      <td>1</td>\n",
              "      <td>4</td>\n",
              "      <td>135</td>\n",
              "      <td>254</td>\n",
              "      <td>0</td>\n",
              "      <td>2</td>\n",
              "      <td>127</td>\n",
              "      <td>0</td>\n",
              "      <td>2.8</td>\n",
              "      <td>2</td>\n",
              "      <td>1</td>\n",
              "      <td>reversible</td>\n",
              "      <td>1</td>\n",
              "    </tr>\n",
              "    <tr>\n",
              "      <th>301</th>\n",
              "      <td>48</td>\n",
              "      <td>1</td>\n",
              "      <td>4</td>\n",
              "      <td>130</td>\n",
              "      <td>256</td>\n",
              "      <td>1</td>\n",
              "      <td>2</td>\n",
              "      <td>150</td>\n",
              "      <td>1</td>\n",
              "      <td>0.0</td>\n",
              "      <td>1</td>\n",
              "      <td>2</td>\n",
              "      <td>reversible</td>\n",
              "      <td>1</td>\n",
              "    </tr>\n",
              "    <tr>\n",
              "      <th>302</th>\n",
              "      <td>63</td>\n",
              "      <td>0</td>\n",
              "      <td>4</td>\n",
              "      <td>150</td>\n",
              "      <td>407</td>\n",
              "      <td>0</td>\n",
              "      <td>2</td>\n",
              "      <td>154</td>\n",
              "      <td>0</td>\n",
              "      <td>4.0</td>\n",
              "      <td>2</td>\n",
              "      <td>3</td>\n",
              "      <td>reversible</td>\n",
              "      <td>1</td>\n",
              "    </tr>\n",
              "  </tbody>\n",
              "</table>\n",
              "<p>303 rows × 14 columns</p>\n",
              "</div>\n",
              "      <button class=\"colab-df-convert\" onclick=\"convertToInteractive('df-1ed42efd-1ca8-4bad-bcda-27ba13096aa2')\"\n",
              "              title=\"Convert this dataframe to an interactive table.\"\n",
              "              style=\"display:none;\">\n",
              "        \n",
              "  <svg xmlns=\"http://www.w3.org/2000/svg\" height=\"24px\"viewBox=\"0 0 24 24\"\n",
              "       width=\"24px\">\n",
              "    <path d=\"M0 0h24v24H0V0z\" fill=\"none\"/>\n",
              "    <path d=\"M18.56 5.44l.94 2.06.94-2.06 2.06-.94-2.06-.94-.94-2.06-.94 2.06-2.06.94zm-11 1L8.5 8.5l.94-2.06 2.06-.94-2.06-.94L8.5 2.5l-.94 2.06-2.06.94zm10 10l.94 2.06.94-2.06 2.06-.94-2.06-.94-.94-2.06-.94 2.06-2.06.94z\"/><path d=\"M17.41 7.96l-1.37-1.37c-.4-.4-.92-.59-1.43-.59-.52 0-1.04.2-1.43.59L10.3 9.45l-7.72 7.72c-.78.78-.78 2.05 0 2.83L4 21.41c.39.39.9.59 1.41.59.51 0 1.02-.2 1.41-.59l7.78-7.78 2.81-2.81c.8-.78.8-2.07 0-2.86zM5.41 20L4 18.59l7.72-7.72 1.47 1.35L5.41 20z\"/>\n",
              "  </svg>\n",
              "      </button>\n",
              "      \n",
              "  <style>\n",
              "    .colab-df-container {\n",
              "      display:flex;\n",
              "      flex-wrap:wrap;\n",
              "      gap: 12px;\n",
              "    }\n",
              "\n",
              "    .colab-df-convert {\n",
              "      background-color: #E8F0FE;\n",
              "      border: none;\n",
              "      border-radius: 50%;\n",
              "      cursor: pointer;\n",
              "      display: none;\n",
              "      fill: #1967D2;\n",
              "      height: 32px;\n",
              "      padding: 0 0 0 0;\n",
              "      width: 32px;\n",
              "    }\n",
              "\n",
              "    .colab-df-convert:hover {\n",
              "      background-color: #E2EBFA;\n",
              "      box-shadow: 0px 1px 2px rgba(60, 64, 67, 0.3), 0px 1px 3px 1px rgba(60, 64, 67, 0.15);\n",
              "      fill: #174EA6;\n",
              "    }\n",
              "\n",
              "    [theme=dark] .colab-df-convert {\n",
              "      background-color: #3B4455;\n",
              "      fill: #D2E3FC;\n",
              "    }\n",
              "\n",
              "    [theme=dark] .colab-df-convert:hover {\n",
              "      background-color: #434B5C;\n",
              "      box-shadow: 0px 1px 3px 1px rgba(0, 0, 0, 0.15);\n",
              "      filter: drop-shadow(0px 1px 2px rgba(0, 0, 0, 0.3));\n",
              "      fill: #FFFFFF;\n",
              "    }\n",
              "  </style>\n",
              "\n",
              "      <script>\n",
              "        const buttonEl =\n",
              "          document.querySelector('#df-1ed42efd-1ca8-4bad-bcda-27ba13096aa2 button.colab-df-convert');\n",
              "        buttonEl.style.display =\n",
              "          google.colab.kernel.accessAllowed ? 'block' : 'none';\n",
              "\n",
              "        async function convertToInteractive(key) {\n",
              "          const element = document.querySelector('#df-1ed42efd-1ca8-4bad-bcda-27ba13096aa2');\n",
              "          const dataTable =\n",
              "            await google.colab.kernel.invokeFunction('convertToInteractive',\n",
              "                                                     [key], {});\n",
              "          if (!dataTable) return;\n",
              "\n",
              "          const docLinkHtml = 'Like what you see? Visit the ' +\n",
              "            '<a target=\"_blank\" href=https://colab.research.google.com/notebooks/data_table.ipynb>data table notebook</a>'\n",
              "            + ' to learn more about interactive tables.';\n",
              "          element.innerHTML = '';\n",
              "          dataTable['output_type'] = 'display_data';\n",
              "          await google.colab.output.renderOutput(dataTable, element);\n",
              "          const docLink = document.createElement('div');\n",
              "          docLink.innerHTML = docLinkHtml;\n",
              "          element.appendChild(docLink);\n",
              "        }\n",
              "      </script>\n",
              "    </div>\n",
              "  </div>\n",
              "  "
            ]
          },
          "metadata": {},
          "execution_count": 3
        }
      ]
    },
    {
      "cell_type": "code",
      "source": [
        "dados.shape"
      ],
      "metadata": {
        "colab": {
          "base_uri": "https://localhost:8080/"
        },
        "id": "NqGYOTxr0ISP",
        "outputId": "686cdd98-127a-4d2e-d8ef-016ebc02c17d"
      },
      "execution_count": null,
      "outputs": [
        {
          "output_type": "execute_result",
          "data": {
            "text/plain": [
              "(303, 14)"
            ]
          },
          "metadata": {},
          "execution_count": 4
        }
      ]
    },
    {
      "cell_type": "code",
      "source": [
        "dados.head()"
      ],
      "metadata": {
        "colab": {
          "base_uri": "https://localhost:8080/",
          "height": 206
        },
        "id": "cxEN151p0XIR",
        "outputId": "94cf94de-523b-4c20-ffc2-bbf1590ed600"
      },
      "execution_count": null,
      "outputs": [
        {
          "output_type": "execute_result",
          "data": {
            "text/plain": [
              "   age  sex  cp  trestbps  chol  fbs  restecg  thalach  exang  oldpeak  slope  \\\n",
              "0   63    1   1       145   233    1        2      150      0      2.3      3   \n",
              "1   67    1   4       160   286    0        2      108      1      1.5      2   \n",
              "2   67    1   4       120   229    0        2      129      1      2.6      2   \n",
              "3   37    1   3       130   250    0        0      187      0      3.5      3   \n",
              "4   41    0   2       130   204    0        2      172      0      1.4      1   \n",
              "\n",
              "   ca        thal  target  \n",
              "0   0       fixed       0  \n",
              "1   3      normal       1  \n",
              "2   2  reversible       0  \n",
              "3   0      normal       0  \n",
              "4   0      normal       0  "
            ],
            "text/html": [
              "\n",
              "  <div id=\"df-59d7a085-86f1-4fb3-b71b-972a93e0e9d9\">\n",
              "    <div class=\"colab-df-container\">\n",
              "      <div>\n",
              "<style scoped>\n",
              "    .dataframe tbody tr th:only-of-type {\n",
              "        vertical-align: middle;\n",
              "    }\n",
              "\n",
              "    .dataframe tbody tr th {\n",
              "        vertical-align: top;\n",
              "    }\n",
              "\n",
              "    .dataframe thead th {\n",
              "        text-align: right;\n",
              "    }\n",
              "</style>\n",
              "<table border=\"1\" class=\"dataframe\">\n",
              "  <thead>\n",
              "    <tr style=\"text-align: right;\">\n",
              "      <th></th>\n",
              "      <th>age</th>\n",
              "      <th>sex</th>\n",
              "      <th>cp</th>\n",
              "      <th>trestbps</th>\n",
              "      <th>chol</th>\n",
              "      <th>fbs</th>\n",
              "      <th>restecg</th>\n",
              "      <th>thalach</th>\n",
              "      <th>exang</th>\n",
              "      <th>oldpeak</th>\n",
              "      <th>slope</th>\n",
              "      <th>ca</th>\n",
              "      <th>thal</th>\n",
              "      <th>target</th>\n",
              "    </tr>\n",
              "  </thead>\n",
              "  <tbody>\n",
              "    <tr>\n",
              "      <th>0</th>\n",
              "      <td>63</td>\n",
              "      <td>1</td>\n",
              "      <td>1</td>\n",
              "      <td>145</td>\n",
              "      <td>233</td>\n",
              "      <td>1</td>\n",
              "      <td>2</td>\n",
              "      <td>150</td>\n",
              "      <td>0</td>\n",
              "      <td>2.3</td>\n",
              "      <td>3</td>\n",
              "      <td>0</td>\n",
              "      <td>fixed</td>\n",
              "      <td>0</td>\n",
              "    </tr>\n",
              "    <tr>\n",
              "      <th>1</th>\n",
              "      <td>67</td>\n",
              "      <td>1</td>\n",
              "      <td>4</td>\n",
              "      <td>160</td>\n",
              "      <td>286</td>\n",
              "      <td>0</td>\n",
              "      <td>2</td>\n",
              "      <td>108</td>\n",
              "      <td>1</td>\n",
              "      <td>1.5</td>\n",
              "      <td>2</td>\n",
              "      <td>3</td>\n",
              "      <td>normal</td>\n",
              "      <td>1</td>\n",
              "    </tr>\n",
              "    <tr>\n",
              "      <th>2</th>\n",
              "      <td>67</td>\n",
              "      <td>1</td>\n",
              "      <td>4</td>\n",
              "      <td>120</td>\n",
              "      <td>229</td>\n",
              "      <td>0</td>\n",
              "      <td>2</td>\n",
              "      <td>129</td>\n",
              "      <td>1</td>\n",
              "      <td>2.6</td>\n",
              "      <td>2</td>\n",
              "      <td>2</td>\n",
              "      <td>reversible</td>\n",
              "      <td>0</td>\n",
              "    </tr>\n",
              "    <tr>\n",
              "      <th>3</th>\n",
              "      <td>37</td>\n",
              "      <td>1</td>\n",
              "      <td>3</td>\n",
              "      <td>130</td>\n",
              "      <td>250</td>\n",
              "      <td>0</td>\n",
              "      <td>0</td>\n",
              "      <td>187</td>\n",
              "      <td>0</td>\n",
              "      <td>3.5</td>\n",
              "      <td>3</td>\n",
              "      <td>0</td>\n",
              "      <td>normal</td>\n",
              "      <td>0</td>\n",
              "    </tr>\n",
              "    <tr>\n",
              "      <th>4</th>\n",
              "      <td>41</td>\n",
              "      <td>0</td>\n",
              "      <td>2</td>\n",
              "      <td>130</td>\n",
              "      <td>204</td>\n",
              "      <td>0</td>\n",
              "      <td>2</td>\n",
              "      <td>172</td>\n",
              "      <td>0</td>\n",
              "      <td>1.4</td>\n",
              "      <td>1</td>\n",
              "      <td>0</td>\n",
              "      <td>normal</td>\n",
              "      <td>0</td>\n",
              "    </tr>\n",
              "  </tbody>\n",
              "</table>\n",
              "</div>\n",
              "      <button class=\"colab-df-convert\" onclick=\"convertToInteractive('df-59d7a085-86f1-4fb3-b71b-972a93e0e9d9')\"\n",
              "              title=\"Convert this dataframe to an interactive table.\"\n",
              "              style=\"display:none;\">\n",
              "        \n",
              "  <svg xmlns=\"http://www.w3.org/2000/svg\" height=\"24px\"viewBox=\"0 0 24 24\"\n",
              "       width=\"24px\">\n",
              "    <path d=\"M0 0h24v24H0V0z\" fill=\"none\"/>\n",
              "    <path d=\"M18.56 5.44l.94 2.06.94-2.06 2.06-.94-2.06-.94-.94-2.06-.94 2.06-2.06.94zm-11 1L8.5 8.5l.94-2.06 2.06-.94-2.06-.94L8.5 2.5l-.94 2.06-2.06.94zm10 10l.94 2.06.94-2.06 2.06-.94-2.06-.94-.94-2.06-.94 2.06-2.06.94z\"/><path d=\"M17.41 7.96l-1.37-1.37c-.4-.4-.92-.59-1.43-.59-.52 0-1.04.2-1.43.59L10.3 9.45l-7.72 7.72c-.78.78-.78 2.05 0 2.83L4 21.41c.39.39.9.59 1.41.59.51 0 1.02-.2 1.41-.59l7.78-7.78 2.81-2.81c.8-.78.8-2.07 0-2.86zM5.41 20L4 18.59l7.72-7.72 1.47 1.35L5.41 20z\"/>\n",
              "  </svg>\n",
              "      </button>\n",
              "      \n",
              "  <style>\n",
              "    .colab-df-container {\n",
              "      display:flex;\n",
              "      flex-wrap:wrap;\n",
              "      gap: 12px;\n",
              "    }\n",
              "\n",
              "    .colab-df-convert {\n",
              "      background-color: #E8F0FE;\n",
              "      border: none;\n",
              "      border-radius: 50%;\n",
              "      cursor: pointer;\n",
              "      display: none;\n",
              "      fill: #1967D2;\n",
              "      height: 32px;\n",
              "      padding: 0 0 0 0;\n",
              "      width: 32px;\n",
              "    }\n",
              "\n",
              "    .colab-df-convert:hover {\n",
              "      background-color: #E2EBFA;\n",
              "      box-shadow: 0px 1px 2px rgba(60, 64, 67, 0.3), 0px 1px 3px 1px rgba(60, 64, 67, 0.15);\n",
              "      fill: #174EA6;\n",
              "    }\n",
              "\n",
              "    [theme=dark] .colab-df-convert {\n",
              "      background-color: #3B4455;\n",
              "      fill: #D2E3FC;\n",
              "    }\n",
              "\n",
              "    [theme=dark] .colab-df-convert:hover {\n",
              "      background-color: #434B5C;\n",
              "      box-shadow: 0px 1px 3px 1px rgba(0, 0, 0, 0.15);\n",
              "      filter: drop-shadow(0px 1px 2px rgba(0, 0, 0, 0.3));\n",
              "      fill: #FFFFFF;\n",
              "    }\n",
              "  </style>\n",
              "\n",
              "      <script>\n",
              "        const buttonEl =\n",
              "          document.querySelector('#df-59d7a085-86f1-4fb3-b71b-972a93e0e9d9 button.colab-df-convert');\n",
              "        buttonEl.style.display =\n",
              "          google.colab.kernel.accessAllowed ? 'block' : 'none';\n",
              "\n",
              "        async function convertToInteractive(key) {\n",
              "          const element = document.querySelector('#df-59d7a085-86f1-4fb3-b71b-972a93e0e9d9');\n",
              "          const dataTable =\n",
              "            await google.colab.kernel.invokeFunction('convertToInteractive',\n",
              "                                                     [key], {});\n",
              "          if (!dataTable) return;\n",
              "\n",
              "          const docLinkHtml = 'Like what you see? Visit the ' +\n",
              "            '<a target=\"_blank\" href=https://colab.research.google.com/notebooks/data_table.ipynb>data table notebook</a>'\n",
              "            + ' to learn more about interactive tables.';\n",
              "          element.innerHTML = '';\n",
              "          dataTable['output_type'] = 'display_data';\n",
              "          await google.colab.output.renderOutput(dataTable, element);\n",
              "          const docLink = document.createElement('div');\n",
              "          docLink.innerHTML = docLinkHtml;\n",
              "          element.appendChild(docLink);\n",
              "        }\n",
              "      </script>\n",
              "    </div>\n",
              "  </div>\n",
              "  "
            ]
          },
          "metadata": {},
          "execution_count": 5
        }
      ]
    },
    {
      "cell_type": "code",
      "source": [
        "X=dados.values[:,0:13]\n",
        "y=dados.values[:,13]"
      ],
      "metadata": {
        "id": "WpzrJZJI0Zxz"
      },
      "execution_count": null,
      "outputs": []
    },
    {
      "cell_type": "code",
      "source": [
        "X.shape"
      ],
      "metadata": {
        "colab": {
          "base_uri": "https://localhost:8080/"
        },
        "id": "LFRQ-4Nf005d",
        "outputId": "badad364-7b7b-418a-ffd7-d561107fe717"
      },
      "execution_count": null,
      "outputs": [
        {
          "output_type": "execute_result",
          "data": {
            "text/plain": [
              "(303, 13)"
            ]
          },
          "metadata": {},
          "execution_count": 7
        }
      ]
    },
    {
      "cell_type": "code",
      "source": [
        "y.shape"
      ],
      "metadata": {
        "colab": {
          "base_uri": "https://localhost:8080/"
        },
        "id": "_ZjlqjQ302SW",
        "outputId": "ac7066cf-13ed-4887-f58f-8662f3ea1a4d"
      },
      "execution_count": null,
      "outputs": [
        {
          "output_type": "execute_result",
          "data": {
            "text/plain": [
              "(303,)"
            ]
          },
          "metadata": {},
          "execution_count": 8
        }
      ]
    },
    {
      "cell_type": "code",
      "source": [
        "X[0]"
      ],
      "metadata": {
        "colab": {
          "base_uri": "https://localhost:8080/"
        },
        "id": "DgCWq5VS040V",
        "outputId": "6f0c544c-864f-442d-c708-1e7dd8a46a01"
      },
      "execution_count": null,
      "outputs": [
        {
          "output_type": "execute_result",
          "data": {
            "text/plain": [
              "array([63, 1, 1, 145, 233, 1, 2, 150, 0, 2.3, 3, 0, 'fixed'], dtype=object)"
            ]
          },
          "metadata": {},
          "execution_count": 9
        }
      ]
    },
    {
      "cell_type": "code",
      "source": [
        "y[0]"
      ],
      "metadata": {
        "colab": {
          "base_uri": "https://localhost:8080/"
        },
        "id": "MeEQjWrE08zu",
        "outputId": "33f616ff-af33-4f0d-c47f-e05f268b8aba"
      },
      "execution_count": null,
      "outputs": [
        {
          "output_type": "execute_result",
          "data": {
            "text/plain": [
              "0"
            ]
          },
          "metadata": {},
          "execution_count": 10
        }
      ]
    },
    {
      "cell_type": "code",
      "source": [
        "y"
      ],
      "metadata": {
        "colab": {
          "base_uri": "https://localhost:8080/"
        },
        "id": "jAmqN33b1A9R",
        "outputId": "278232ea-32c3-4a9e-9fae-37dd68b27cb4"
      },
      "execution_count": null,
      "outputs": [
        {
          "output_type": "execute_result",
          "data": {
            "text/plain": [
              "array([0, 1, 0, 0, 0, 0, 1, 0, 1, 0, 0, 0, 1, 0, 0, 0, 0, 0, 0, 0, 0, 0,\n",
              "       0, 1, 1, 0, 0, 0, 0, 1, 0, 1, 0, 0, 0, 0, 1, 0, 1, 0, 1, 0, 1, 0,\n",
              "       0, 0, 0, 0, 0, 0, 1, 0, 0, 0, 1, 0, 0, 0, 0, 0, 0, 1, 0, 0, 0, 0,\n",
              "       1, 0, 0, 0, 1, 0, 1, 0, 0, 1, 1, 0, 0, 0, 0, 0, 0, 0, 0, 1, 1, 0,\n",
              "       0, 0, 0, 0, 0, 0, 0, 1, 0, 0, 0, 0, 0, 0, 1, 1, 0, 0, 0, 1, 0, 0,\n",
              "       1, 0, 0, 0, 0, 0, 0, 0, 1, 0, 0, 0, 1, 0, 0, 0, 0, 0, 1, 1, 0, 0,\n",
              "       0, 0, 0, 1, 0, 1, 0, 1, 1, 0, 1, 0, 0, 0, 0, 0, 0, 0, 0, 0, 1, 1,\n",
              "       1, 0, 0, 0, 1, 0, 1, 0, 0, 0, 0, 0, 0, 0, 0, 0, 1, 0, 0, 0, 0, 1,\n",
              "       1, 0, 1, 0, 0, 0, 1, 1, 0, 0, 0, 0, 0, 0, 1, 0, 1, 1, 0, 1, 0, 0,\n",
              "       0, 0, 0, 0, 0, 0, 0, 0, 0, 0, 1, 0, 0, 1, 1, 1, 0, 0, 0, 0, 1, 0,\n",
              "       0, 0, 0, 0, 0, 0, 1, 0, 1, 0, 1, 1, 1, 0, 0, 0, 0, 1, 1, 0, 0, 1,\n",
              "       0, 0, 1, 1, 0, 0, 0, 0, 0, 0, 0, 0, 0, 0, 0, 1, 0, 1, 0, 0, 0, 0,\n",
              "       1, 0, 0, 0, 0, 0, 0, 0, 1, 0, 0, 0, 1, 1, 0, 0, 1, 0, 1, 1, 0, 0,\n",
              "       0, 0, 0, 0, 1, 0, 1, 0, 1, 1, 0, 0, 0, 1, 1, 1, 1], dtype=object)"
            ]
          },
          "metadata": {},
          "execution_count": 11
        }
      ]
    },
    {
      "cell_type": "code",
      "source": [
        "y=y.astype('int')"
      ],
      "metadata": {
        "id": "jORB_thN1D5R"
      },
      "execution_count": null,
      "outputs": []
    },
    {
      "cell_type": "code",
      "source": [
        "y"
      ],
      "metadata": {
        "colab": {
          "base_uri": "https://localhost:8080/"
        },
        "id": "sm_RJtQe1OME",
        "outputId": "b0d47c23-a4fa-4794-cc7f-7b2c1858e905"
      },
      "execution_count": null,
      "outputs": [
        {
          "output_type": "execute_result",
          "data": {
            "text/plain": [
              "array([0, 1, 0, 0, 0, 0, 1, 0, 1, 0, 0, 0, 1, 0, 0, 0, 0, 0, 0, 0, 0, 0,\n",
              "       0, 1, 1, 0, 0, 0, 0, 1, 0, 1, 0, 0, 0, 0, 1, 0, 1, 0, 1, 0, 1, 0,\n",
              "       0, 0, 0, 0, 0, 0, 1, 0, 0, 0, 1, 0, 0, 0, 0, 0, 0, 1, 0, 0, 0, 0,\n",
              "       1, 0, 0, 0, 1, 0, 1, 0, 0, 1, 1, 0, 0, 0, 0, 0, 0, 0, 0, 1, 1, 0,\n",
              "       0, 0, 0, 0, 0, 0, 0, 1, 0, 0, 0, 0, 0, 0, 1, 1, 0, 0, 0, 1, 0, 0,\n",
              "       1, 0, 0, 0, 0, 0, 0, 0, 1, 0, 0, 0, 1, 0, 0, 0, 0, 0, 1, 1, 0, 0,\n",
              "       0, 0, 0, 1, 0, 1, 0, 1, 1, 0, 1, 0, 0, 0, 0, 0, 0, 0, 0, 0, 1, 1,\n",
              "       1, 0, 0, 0, 1, 0, 1, 0, 0, 0, 0, 0, 0, 0, 0, 0, 1, 0, 0, 0, 0, 1,\n",
              "       1, 0, 1, 0, 0, 0, 1, 1, 0, 0, 0, 0, 0, 0, 1, 0, 1, 1, 0, 1, 0, 0,\n",
              "       0, 0, 0, 0, 0, 0, 0, 0, 0, 0, 1, 0, 0, 1, 1, 1, 0, 0, 0, 0, 1, 0,\n",
              "       0, 0, 0, 0, 0, 0, 1, 0, 1, 0, 1, 1, 1, 0, 0, 0, 0, 1, 1, 0, 0, 1,\n",
              "       0, 0, 1, 1, 0, 0, 0, 0, 0, 0, 0, 0, 0, 0, 0, 1, 0, 1, 0, 0, 0, 0,\n",
              "       1, 0, 0, 0, 0, 0, 0, 0, 1, 0, 0, 0, 1, 1, 0, 0, 1, 0, 1, 1, 0, 0,\n",
              "       0, 0, 0, 0, 1, 0, 1, 0, 1, 1, 0, 0, 0, 1, 1, 1, 1])"
            ]
          },
          "metadata": {},
          "execution_count": 13
        }
      ]
    },
    {
      "cell_type": "code",
      "source": [
        "X"
      ],
      "metadata": {
        "colab": {
          "base_uri": "https://localhost:8080/"
        },
        "id": "FmA2Z5631PBY",
        "outputId": "19e71368-da75-4c8c-e3de-8aa4b967c0b2"
      },
      "execution_count": null,
      "outputs": [
        {
          "output_type": "execute_result",
          "data": {
            "text/plain": [
              "array([[63, 1, 1, ..., 3, 0, 'fixed'],\n",
              "       [67, 1, 4, ..., 2, 3, 'normal'],\n",
              "       [67, 1, 4, ..., 2, 2, 'reversible'],\n",
              "       ...,\n",
              "       [65, 1, 4, ..., 2, 1, 'reversible'],\n",
              "       [48, 1, 4, ..., 1, 2, 'reversible'],\n",
              "       [63, 0, 4, ..., 2, 3, 'reversible']], dtype=object)"
            ]
          },
          "metadata": {},
          "execution_count": 14
        }
      ]
    },
    {
      "cell_type": "code",
      "source": [
        "import numpy as np\n",
        "\n",
        "indices=np.where(X[:,12]=='fixed')"
      ],
      "metadata": {
        "id": "osIaOZWr1RyP"
      },
      "execution_count": null,
      "outputs": []
    },
    {
      "cell_type": "code",
      "source": [
        "indices"
      ],
      "metadata": {
        "colab": {
          "base_uri": "https://localhost:8080/"
        },
        "id": "T4Mgwp9811qR",
        "outputId": "bdc7b6a5-e162-46a6-8222-7212288228ee"
      },
      "execution_count": null,
      "outputs": [
        {
          "output_type": "execute_result",
          "data": {
            "text/plain": [
              "(array([  0,  10,  12,  37,  44,  67, 122, 125, 135, 197, 212, 213, 217,\n",
              "        231, 232, 237, 241, 298]),)"
            ]
          },
          "metadata": {},
          "execution_count": 16
        }
      ]
    },
    {
      "cell_type": "code",
      "source": [
        "X[indices,12]=0"
      ],
      "metadata": {
        "id": "o47Khc0b1274"
      },
      "execution_count": null,
      "outputs": []
    },
    {
      "cell_type": "code",
      "source": [
        "X"
      ],
      "metadata": {
        "colab": {
          "base_uri": "https://localhost:8080/"
        },
        "id": "JiztFp7j1-Bt",
        "outputId": "a22e6e0d-1e06-45e0-fa2b-91a4cae8bdfd"
      },
      "execution_count": null,
      "outputs": [
        {
          "output_type": "execute_result",
          "data": {
            "text/plain": [
              "array([[63, 1, 1, ..., 3, 0, 0],\n",
              "       [67, 1, 4, ..., 2, 3, 'normal'],\n",
              "       [67, 1, 4, ..., 2, 2, 'reversible'],\n",
              "       ...,\n",
              "       [65, 1, 4, ..., 2, 1, 'reversible'],\n",
              "       [48, 1, 4, ..., 1, 2, 'reversible'],\n",
              "       [63, 0, 4, ..., 2, 3, 'reversible']], dtype=object)"
            ]
          },
          "metadata": {},
          "execution_count": 18
        }
      ]
    },
    {
      "cell_type": "code",
      "source": [
        "indices=np.where(X[:,12]=='normal')\n",
        "X[indices,12]=1"
      ],
      "metadata": {
        "id": "T_drKSJa1_9N"
      },
      "execution_count": null,
      "outputs": []
    },
    {
      "cell_type": "code",
      "source": [
        "X"
      ],
      "metadata": {
        "colab": {
          "base_uri": "https://localhost:8080/"
        },
        "id": "NNt2uiNM2Gie",
        "outputId": "b03233ff-e85f-464a-c9aa-5bd65af21fb8"
      },
      "execution_count": null,
      "outputs": [
        {
          "output_type": "execute_result",
          "data": {
            "text/plain": [
              "array([[63, 1, 1, ..., 3, 0, 0],\n",
              "       [67, 1, 4, ..., 2, 3, 1],\n",
              "       [67, 1, 4, ..., 2, 2, 'reversible'],\n",
              "       ...,\n",
              "       [65, 1, 4, ..., 2, 1, 'reversible'],\n",
              "       [48, 1, 4, ..., 1, 2, 'reversible'],\n",
              "       [63, 0, 4, ..., 2, 3, 'reversible']], dtype=object)"
            ]
          },
          "metadata": {},
          "execution_count": 20
        }
      ]
    },
    {
      "cell_type": "code",
      "source": [
        "indices=np.where(X[:,12]=='reversible')\n",
        "X[indices,12]=2"
      ],
      "metadata": {
        "id": "bW-3XNET2Hm8"
      },
      "execution_count": null,
      "outputs": []
    },
    {
      "cell_type": "code",
      "source": [
        "X\n"
      ],
      "metadata": {
        "colab": {
          "base_uri": "https://localhost:8080/"
        },
        "id": "9aypXV4C2OGu",
        "outputId": "83001438-a0bd-4339-8489-0dfb03f1af89"
      },
      "execution_count": null,
      "outputs": [
        {
          "output_type": "execute_result",
          "data": {
            "text/plain": [
              "array([[63, 1, 1, ..., 3, 0, 0],\n",
              "       [67, 1, 4, ..., 2, 3, 1],\n",
              "       [67, 1, 4, ..., 2, 2, 2],\n",
              "       ...,\n",
              "       [65, 1, 4, ..., 2, 1, 2],\n",
              "       [48, 1, 4, ..., 1, 2, 2],\n",
              "       [63, 0, 4, ..., 2, 3, 2]], dtype=object)"
            ]
          },
          "metadata": {},
          "execution_count": 22
        }
      ]
    },
    {
      "cell_type": "markdown",
      "source": [
        "#Análise exploratória"
      ],
      "metadata": {
        "id": "kH-e9-5a2Viq"
      }
    },
    {
      "cell_type": "code",
      "source": [
        "import seaborn as sns\n",
        "\n",
        "p=sns.countplot(x='target', data=dados)\n",
        "p.set_title(\"Distribuição de doença cardiaca\")\n",
        "\n",
        "p.set_xticklabels([\"Sem doença cardiaca\",\"Com doença cardiaca\"])"
      ],
      "metadata": {
        "colab": {
          "base_uri": "https://localhost:8080/",
          "height": 313
        },
        "id": "q_m4QvdY2PQG",
        "outputId": "fcf4d676-2c8c-42a5-eb02-be3e31d4fec9"
      },
      "execution_count": null,
      "outputs": [
        {
          "output_type": "execute_result",
          "data": {
            "text/plain": [
              "[Text(0, 0, 'Sem doença cardiaca'), Text(0, 0, 'Com doença cardiaca')]"
            ]
          },
          "metadata": {},
          "execution_count": 23
        },
        {
          "output_type": "display_data",
          "data": {
            "text/plain": [
              "<Figure size 432x288 with 1 Axes>"
            ],
            "image/png": "[encoded data removed]"
          },
          "metadata": {
            "needs_background": "light"
          }
        }
      ]
    },
    {
      "cell_type": "code",
      "source": [
        "import matplotlib.pyplot as plt\n",
        "p = sns.countplot(x=\"target\", data=dados, hue=\"sex\")\n",
        "plt.legend([\"Mulher\", \"Homem\"])\n",
        "p.set_title(\"Doença no coração por gênero\")\n",
        "p.set_xticklabels([\"Sem doença cardiaca\",\"Com doença cardiaca\"])\n"
      ],
      "metadata": {
        "colab": {
          "base_uri": "https://localhost:8080/",
          "height": 313
        },
        "id": "tdV7v2z_24Kf",
        "outputId": "6b32e7f2-7cc3-434c-a084-440d5898e0da"
      },
      "execution_count": null,
      "outputs": [
        {
          "output_type": "execute_result",
          "data": {
            "text/plain": [
              "[Text(0, 0, 'Sem doença cardiaca'), Text(0, 0, 'Com doença cardiaca')]"
            ]
          },
          "metadata": {},
          "execution_count": 24
        },
        {
          "output_type": "display_data",
          "data": {
            "text/plain": [
              "<Figure size 432x288 with 1 Axes>"
            ],
            "image/png": "[encoded data removed]"
          },
          "metadata": {
            "needs_background": "light"
          }
        }
      ]
    },
    {
      "cell_type": "code",
      "source": [
        "matriz_corr = sns.heatmap(dados.corr(method=\"pearson\"), annot=True, fmt='.2f', linewidth=2)\n",
        "\n"
      ],
      "metadata": {
        "colab": {
          "base_uri": "https://localhost:8080/",
          "height": 300
        },
        "id": "yxB4Wky53sh5",
        "outputId": "0462aea8-f07f-463f-9c37-de5486f9bdef"
      },
      "execution_count": null,
      "outputs": [
        {
          "output_type": "display_data",
          "data": {
            "text/plain": [
              "<Figure size 432x288 with 2 Axes>"
            ],
            "image/png": "[encoded data removed]"
          },
          "metadata": {
            "needs_background": "light"
          }
        }
      ]
    },
    {
      "cell_type": "markdown",
      "source": [
        "#Construir Rede Neural"
      ],
      "metadata": {
        "id": "3hhFLQUi73PU"
      }
    },
    {
      "cell_type": "markdown",
      "source": [
        "##Classificador de linha de base"
      ],
      "metadata": {
        "id": "4oZMsp7q76fi"
      }
    },
    {
      "cell_type": "code",
      "source": [
        "from sklearn.dummy import DummyClassifier\n",
        "\n",
        "clf_dummy = DummyClassifier(strategy=\"most_frequent\")\n",
        "clf_dummy.fit(X,y)\n",
        "clf_dummy.score(X,y)"
      ],
      "metadata": {
        "colab": {
          "base_uri": "https://localhost:8080/"
        },
        "id": "4-RRJGrp6GoT",
        "outputId": "f14af3a4-9669-48b6-e8fe-9d5204678106"
      },
      "execution_count": null,
      "outputs": [
        {
          "output_type": "execute_result",
          "data": {
            "text/plain": [
              "0.7260726072607261"
            ]
          },
          "metadata": {},
          "execution_count": 26
        }
      ]
    },
    {
      "cell_type": "code",
      "source": [
        "import tensorflow\n",
        "from tensorflow import keras"
      ],
      "metadata": {
        "id": "5AKQCm-38drG"
      },
      "execution_count": null,
      "outputs": []
    },
    {
      "cell_type": "code",
      "source": [
        "qtd_saida=1;\n",
        "qtd_entrada=len(X[0])"
      ],
      "metadata": {
        "id": "5WX5E_158puD"
      },
      "execution_count": null,
      "outputs": []
    },
    {
      "cell_type": "code",
      "source": [
        "from sklearn.preprocessing import StandardScaler\n",
        "\n",
        "padronizador = StandardScaler()"
      ],
      "metadata": {
        "id": "XEprW4A681Yr"
      },
      "execution_count": null,
      "outputs": []
    },
    {
      "cell_type": "code",
      "source": [
        "X_padronizado = padronizador.fit_transform(X)"
      ],
      "metadata": {
        "id": "Agt-bnLQ9IbE"
      },
      "execution_count": null,
      "outputs": []
    },
    {
      "cell_type": "code",
      "source": [
        "X"
      ],
      "metadata": {
        "colab": {
          "base_uri": "https://localhost:8080/"
        },
        "id": "HrmopEI89RVY",
        "outputId": "4330055c-9fb7-4912-89f5-d8af2726dfa4"
      },
      "execution_count": null,
      "outputs": [
        {
          "output_type": "execute_result",
          "data": {
            "text/plain": [
              "array([[63, 1, 1, ..., 3, 0, 0],\n",
              "       [67, 1, 4, ..., 2, 3, 1],\n",
              "       [67, 1, 4, ..., 2, 2, 2],\n",
              "       ...,\n",
              "       [65, 1, 4, ..., 2, 1, 2],\n",
              "       [48, 1, 4, ..., 1, 2, 2],\n",
              "       [63, 0, 4, ..., 2, 3, 2]], dtype=object)"
            ]
          },
          "metadata": {},
          "execution_count": 31
        }
      ]
    },
    {
      "cell_type": "code",
      "source": [
        "X_padronizado"
      ],
      "metadata": {
        "colab": {
          "base_uri": "https://localhost:8080/"
        },
        "id": "fM6OwLa59Sg8",
        "outputId": "85e5c788-1792-456f-f08f-fa09f5dd371f"
      },
      "execution_count": null,
      "outputs": [
        {
          "output_type": "execute_result",
          "data": {
            "text/plain": [
              "array([[ 0.9338399 ,  0.69141072, -2.05403599, ...,  2.28495852,\n",
              "        -0.72970605, -2.27760043],\n",
              "       [ 1.3782113 ,  0.69141072,  0.86790253, ...,  0.66354767,\n",
              "         2.47465531, -0.55662055],\n",
              "       [ 1.3782113 ,  0.69141072,  0.86790253, ...,  0.66354767,\n",
              "         1.40653485,  1.16435932],\n",
              "       ...,\n",
              "       [ 1.1560256 ,  0.69141072,  0.86790253, ...,  0.66354767,\n",
              "         0.3384144 ,  1.16435932],\n",
              "       [-0.73255285,  0.69141072,  0.86790253, ..., -0.95786317,\n",
              "         1.40653485,  1.16435932],\n",
              "       [ 0.9338399 , -1.44631834,  0.86790253, ...,  0.66354767,\n",
              "         2.47465531,  1.16435932]])"
            ]
          },
          "metadata": {},
          "execution_count": 32
        }
      ]
    },
    {
      "cell_type": "code",
      "source": [
        "from sklearn.model_selection import train_test_split\n",
        "\n",
        "X_treino, X_teste, y_treino, y_teste=train_test_split(X_padronizado, y, test_size=0.33, random_state=42)"
      ],
      "metadata": {
        "id": "IZBo4zGS9U1c"
      },
      "execution_count": null,
      "outputs": []
    },
    {
      "cell_type": "code",
      "source": [
        "X_treino.shape"
      ],
      "metadata": {
        "colab": {
          "base_uri": "https://localhost:8080/"
        },
        "id": "B6o07IYS92XW",
        "outputId": "8c8b7697-2e50-49ac-e249-76be0b6d0f3b"
      },
      "execution_count": null,
      "outputs": [
        {
          "output_type": "execute_result",
          "data": {
            "text/plain": [
              "(203, 13)"
            ]
          },
          "metadata": {},
          "execution_count": 34
        }
      ]
    },
    {
      "cell_type": "code",
      "source": [
        "y_treino.shape"
      ],
      "metadata": {
        "colab": {
          "base_uri": "https://localhost:8080/"
        },
        "id": "5Cp26FRw94vM",
        "outputId": "0ee452fe-e570-4c2c-d86d-19c1e8980e50"
      },
      "execution_count": null,
      "outputs": [
        {
          "output_type": "execute_result",
          "data": {
            "text/plain": [
              "(203,)"
            ]
          },
          "metadata": {},
          "execution_count": 35
        }
      ]
    },
    {
      "cell_type": "markdown",
      "source": [
        "## Configurando a rede neural"
      ],
      "metadata": {
        "id": "5pR-Ogdb_OKb"
      }
    },
    {
      "cell_type": "code",
      "source": [
        "modelo = keras.Sequential()\n",
        "modelo.add(keras.layers.Input(13))\n",
        "modelo.add(keras.layers.Dense(13, activation='relu'))\n",
        "modelo.add(keras.layers.Dense(1, activation='sigmoid'))"
      ],
      "metadata": {
        "id": "RVudekMk99Bp"
      },
      "execution_count": null,
      "outputs": []
    },
    {
      "cell_type": "code",
      "source": [
        "modelo.compile(\n",
        "    optimizer=keras.optimizers.SGD(),\n",
        "    loss=keras.losses.binary_crossentropy,\n",
        "    metrics=['accuracy']\n",
        ")"
      ],
      "metadata": {
        "id": "bk3xj9k__ueV"
      },
      "execution_count": null,
      "outputs": []
    },
    {
      "cell_type": "code",
      "source": [
        "modelo.summary()"
      ],
      "metadata": {
        "colab": {
          "base_uri": "https://localhost:8080/"
        },
        "id": "jfy4b6rQALN8",
        "outputId": "3d056b5b-74cf-40a9-9c89-ec563ebdf1e8"
      },
      "execution_count": null,
      "outputs": [
        {
          "output_type": "stream",
          "name": "stdout",
          "text": [
            "Model: \"sequential\"\n",
            "_________________________________________________________________\n",
            " Layer (type)                Output Shape              Param #   \n",
            "=================================================================\n",
            " dense (Dense)               (None, 13)                182       \n",
            "                                                                 \n",
            " dense_1 (Dense)             (None, 1)                 14        \n",
            "                                                                 \n",
            "=================================================================\n",
            "Total params: 196\n",
            "Trainable params: 196\n",
            "Non-trainable params: 0\n",
            "_________________________________________________________________\n"
          ]
        }
      ]
    },
    {
      "cell_type": "code",
      "source": [
        "historico = modelo.fit(X_treino, y_treino, epochs=20) #batch_size"
      ],
      "metadata": {
        "colab": {
          "base_uri": "https://localhost:8080/"
        },
        "id": "ih93h8wZANPl",
        "outputId": "1ffb611a-6b03-42c1-db49-4661665de9e1"
      },
      "execution_count": null,
      "outputs": [
        {
          "output_type": "stream",
          "name": "stdout",
          "text": [
            "Epoch 1/20\n",
            "7/7 [==============================] - 1s 2ms/step - loss: 0.9967 - accuracy: 0.3350\n",
            "Epoch 2/20\n",
            "7/7 [==============================] - 0s 2ms/step - loss: 0.9512 - accuracy: 0.3399\n",
            "Epoch 3/20\n",
            "7/7 [==============================] - 0s 2ms/step - loss: 0.9106 - accuracy: 0.3547\n",
            "Epoch 4/20\n",
            "7/7 [==============================] - 0s 3ms/step - loss: 0.8740 - accuracy: 0.3596\n",
            "Epoch 5/20\n",
            "7/7 [==============================] - 0s 2ms/step - loss: 0.8404 - accuracy: 0.4138\n",
            "Epoch 6/20\n",
            "7/7 [==============================] - 0s 2ms/step - loss: 0.8107 - accuracy: 0.4384\n",
            "Epoch 7/20\n",
            "7/7 [==============================] - 0s 2ms/step - loss: 0.7847 - accuracy: 0.4778\n",
            "Epoch 8/20\n",
            "7/7 [==============================] - 0s 2ms/step - loss: 0.7620 - accuracy: 0.4975\n",
            "Epoch 9/20\n",
            "7/7 [==============================] - 0s 2ms/step - loss: 0.7418 - accuracy: 0.5271\n",
            "Epoch 10/20\n",
            "7/7 [==============================] - 0s 2ms/step - loss: 0.7226 - accuracy: 0.5813\n",
            "Epoch 11/20\n",
            "7/7 [==============================] - 0s 3ms/step - loss: 0.7052 - accuracy: 0.6010\n",
            "Epoch 12/20\n",
            "7/7 [==============================] - 0s 3ms/step - loss: 0.6887 - accuracy: 0.6207\n",
            "Epoch 13/20\n",
            "7/7 [==============================] - 0s 3ms/step - loss: 0.6741 - accuracy: 0.6355\n",
            "Epoch 14/20\n",
            "7/7 [==============================] - 0s 2ms/step - loss: 0.6596 - accuracy: 0.6453\n",
            "Epoch 15/20\n",
            "7/7 [==============================] - 0s 3ms/step - loss: 0.6456 - accuracy: 0.6552\n",
            "Epoch 16/20\n",
            "7/7 [==============================] - 0s 2ms/step - loss: 0.6326 - accuracy: 0.6650\n",
            "Epoch 17/20\n",
            "7/7 [==============================] - 0s 3ms/step - loss: 0.6214 - accuracy: 0.6749\n",
            "Epoch 18/20\n",
            "7/7 [==============================] - 0s 2ms/step - loss: 0.6107 - accuracy: 0.6847\n",
            "Epoch 19/20\n",
            "7/7 [==============================] - 0s 2ms/step - loss: 0.6001 - accuracy: 0.6946\n",
            "Epoch 20/20\n",
            "7/7 [==============================] - 0s 4ms/step - loss: 0.5907 - accuracy: 0.6946\n"
          ]
        }
      ]
    },
    {
      "cell_type": "code",
      "source": [
        "plt.figure(figsize=(10, 5))\n",
        "plt.subplot(1, 2, 1)\n",
        "plt.plot(historico.history['accuracy'])\n",
        "plt.title('Acurácia por época')\n",
        "plt.xlabel('época')\n",
        "plt.ylabel('acurácia')\n",
        "plt.legend(['treino'])\n",
        "\n",
        "plt.subplot(1, 2, 2)\n",
        "plt.plot(historico.history['loss'])\n",
        "plt.title('Perda por época')\n",
        "plt.xlabel('época')\n",
        "plt.ylabel('perda')\n",
        "plt.legend(['treino'])"
      ],
      "metadata": {
        "colab": {
          "base_uri": "https://localhost:8080/"
        },
        "id": "Wkz4yl-RAfxU",
        "outputId": "926f4ecc-9246-470b-ffdb-0138b1adab3c"
      },
      "execution_count": null,
      "outputs": [
        {
          "output_type": "execute_result",
          "data": {
            "text/plain": [
              "<matplotlib.legend.Legend at 0x7fd6f4fd88d0>"
            ]
          },
          "metadata": {},
          "execution_count": 40
        },
        {
          "output_type": "display_data",
          "data": {
            "text/plain": [
              "<Figure size 720x360 with 2 Axes>"
            ],
            "image/png": "[encoded data removed]"
          },
          "metadata": {
            "needs_background": "light"
          }
        }
      ]
    },
    {
      "cell_type": "code",
      "source": [
        "perda_teste, acuracia_teste=modelo.evaluate(X_teste, y_teste)\n",
        "print(acuracia_teste)"
      ],
      "metadata": {
        "colab": {
          "base_uri": "https://localhost:8080/"
        },
        "id": "wXk6Nk_EBQJT",
        "outputId": "f0ffb072-a833-46c8-acc3-30a68529ce70"
      },
      "execution_count": null,
      "outputs": [
        {
          "output_type": "stream",
          "name": "stdout",
          "text": [
            "4/4 [==============================] - 0s 3ms/step - loss: 0.5279 - accuracy: 0.7800\n",
            "0.7799999713897705\n"
          ]
        }
      ]
    },
    {
      "cell_type": "markdown",
      "source": [
        "#Revisando o modelo de diagnóstico"
      ],
      "metadata": {
        "id": "HX5it_eCWEU5"
      }
    },
    {
      "cell_type": "markdown",
      "source": [
        "## Mais neurônios e mais camadas"
      ],
      "metadata": {
        "id": "gIzNt2hPWNhr"
      }
    },
    {
      "cell_type": "code",
      "source": [
        "modelo = keras.Sequential()\n",
        "modelo.add(keras.layers.Input(13))\n",
        "modelo.add(keras.layers.Dense(13, activation='relu'))\n",
        "modelo.add(keras.layers.Dense(13, activation='relu'))\n",
        "modelo.add(keras.layers.Dense(1, activation='sigmoid'))\n",
        "\n",
        "modelo.compile(\n",
        "    optimizer=keras.optimizers.SGD(),\n",
        "    loss=keras.losses.binary_crossentropy,\n",
        "    metrics=['accuracy']\n",
        ")\n",
        "\n",
        "modelo.summary()"
      ],
      "metadata": {
        "colab": {
          "base_uri": "https://localhost:8080/"
        },
        "id": "rchkGumCBY-x",
        "outputId": "a1c0e9d9-99d9-4a0a-dd60-365f1fb2c9ac"
      },
      "execution_count": null,
      "outputs": [
        {
          "output_type": "stream",
          "name": "stdout",
          "text": [
            "Model: \"sequential_1\"\n",
            "_________________________________________________________________\n",
            " Layer (type)                Output Shape              Param #   \n",
            "=================================================================\n",
            " dense_2 (Dense)             (None, 13)                182       \n",
            "                                                                 \n",
            " dense_3 (Dense)             (None, 13)                182       \n",
            "                                                                 \n",
            " dense_4 (Dense)             (None, 1)                 14        \n",
            "                                                                 \n",
            "=================================================================\n",
            "Total params: 378\n",
            "Trainable params: 378\n",
            "Non-trainable params: 0\n",
            "_________________________________________________________________\n"
          ]
        }
      ]
    },
    {
      "cell_type": "code",
      "source": [
        "historico = modelo.fit(X_treino, y_treino, epochs=20) #batch_size"
      ],
      "metadata": {
        "colab": {
          "base_uri": "https://localhost:8080/"
        },
        "id": "mqxg1w_8WZRX",
        "outputId": "3804f60a-5c6d-4589-8792-f7c14e9cfac7"
      },
      "execution_count": null,
      "outputs": [
        {
          "output_type": "stream",
          "name": "stdout",
          "text": [
            "Epoch 1/20\n",
            "7/7 [==============================] - 0s 3ms/step - loss: 0.8389 - accuracy: 0.2857\n",
            "Epoch 2/20\n",
            "7/7 [==============================] - 0s 2ms/step - loss: 0.8020 - accuracy: 0.2906\n",
            "Epoch 3/20\n",
            "7/7 [==============================] - 0s 2ms/step - loss: 0.7680 - accuracy: 0.3054\n",
            "Epoch 4/20\n",
            "7/7 [==============================] - 0s 2ms/step - loss: 0.7399 - accuracy: 0.3596\n",
            "Epoch 5/20\n",
            "7/7 [==============================] - 0s 2ms/step - loss: 0.7174 - accuracy: 0.4631\n",
            "Epoch 6/20\n",
            "7/7 [==============================] - 0s 3ms/step - loss: 0.6984 - accuracy: 0.5172\n",
            "Epoch 7/20\n",
            "7/7 [==============================] - 0s 3ms/step - loss: 0.6806 - accuracy: 0.5764\n",
            "Epoch 8/20\n",
            "7/7 [==============================] - 0s 2ms/step - loss: 0.6640 - accuracy: 0.6502\n",
            "Epoch 9/20\n",
            "7/7 [==============================] - 0s 2ms/step - loss: 0.6505 - accuracy: 0.6897\n",
            "Epoch 10/20\n",
            "7/7 [==============================] - 0s 2ms/step - loss: 0.6385 - accuracy: 0.7291\n",
            "Epoch 11/20\n",
            "7/7 [==============================] - 0s 3ms/step - loss: 0.6277 - accuracy: 0.7734\n",
            "Epoch 12/20\n",
            "7/7 [==============================] - 0s 2ms/step - loss: 0.6190 - accuracy: 0.7685\n",
            "Epoch 13/20\n",
            "7/7 [==============================] - 0s 2ms/step - loss: 0.6098 - accuracy: 0.7833\n",
            "Epoch 14/20\n",
            "7/7 [==============================] - 0s 4ms/step - loss: 0.6009 - accuracy: 0.7882\n",
            "Epoch 15/20\n",
            "7/7 [==============================] - 0s 3ms/step - loss: 0.5926 - accuracy: 0.7783\n",
            "Epoch 16/20\n",
            "7/7 [==============================] - 0s 2ms/step - loss: 0.5849 - accuracy: 0.7488\n",
            "Epoch 17/20\n",
            "7/7 [==============================] - 0s 2ms/step - loss: 0.5783 - accuracy: 0.7537\n",
            "Epoch 18/20\n",
            "7/7 [==============================] - 0s 2ms/step - loss: 0.5722 - accuracy: 0.7635\n",
            "Epoch 19/20\n",
            "7/7 [==============================] - 0s 2ms/step - loss: 0.5663 - accuracy: 0.7537\n",
            "Epoch 20/20\n",
            "7/7 [==============================] - 0s 2ms/step - loss: 0.5605 - accuracy: 0.7537\n"
          ]
        }
      ]
    },
    {
      "cell_type": "code",
      "source": [
        "perda_teste, acuracia_teste=modelo.evaluate(X_teste, y_teste)\n",
        "print(acuracia_teste)"
      ],
      "metadata": {
        "colab": {
          "base_uri": "https://localhost:8080/"
        },
        "id": "goqiNrwBWxVY",
        "outputId": "af556e01-3023-4017-905d-e21a491caa61"
      },
      "execution_count": null,
      "outputs": [
        {
          "output_type": "stream",
          "name": "stdout",
          "text": [
            "4/4 [==============================] - 0s 3ms/step - loss: 0.5525 - accuracy: 0.8200\n",
            "0.8199999928474426\n"
          ]
        }
      ]
    },
    {
      "cell_type": "code",
      "source": [
        "modelo = keras.Sequential()\n",
        "modelo.add(keras.layers.Input(13))\n",
        "modelo.add(keras.layers.Dense(13, activation='relu'))\n",
        "modelo.add(keras.layers.Dense(13, activation='relu'))\n",
        "modelo.add(keras.layers.Dense(1, activation='sigmoid'))\n",
        "\n",
        "modelo.compile(\n",
        "    optimizer=keras.optimizers.SGD(),\n",
        "    loss=keras.losses.binary_crossentropy,\n",
        "    metrics=['accuracy']\n",
        ")\n",
        "\n",
        "modelo.summary()"
      ],
      "metadata": {
        "colab": {
          "base_uri": "https://localhost:8080/"
        },
        "id": "c0htCsXPXAQo",
        "outputId": "d649254a-c86d-487f-b86a-1bd76a38d501"
      },
      "execution_count": null,
      "outputs": [
        {
          "output_type": "stream",
          "name": "stdout",
          "text": [
            "Model: \"sequential_2\"\n",
            "_________________________________________________________________\n",
            " Layer (type)                Output Shape              Param #   \n",
            "=================================================================\n",
            " dense_5 (Dense)             (None, 13)                182       \n",
            "                                                                 \n",
            " dense_6 (Dense)             (None, 13)                182       \n",
            "                                                                 \n",
            " dense_7 (Dense)             (None, 1)                 14        \n",
            "                                                                 \n",
            "=================================================================\n",
            "Total params: 378\n",
            "Trainable params: 378\n",
            "Non-trainable params: 0\n",
            "_________________________________________________________________\n"
          ]
        }
      ]
    },
    {
      "cell_type": "code",
      "source": [
        "historico = modelo.fit(X_treino, y_treino, epochs=20, batch_size=32)"
      ],
      "metadata": {
        "colab": {
          "base_uri": "https://localhost:8080/"
        },
        "id": "LcnfKDAlXlyu",
        "outputId": "02af00cd-1af1-4c6c-8be1-dfe525c13f90"
      },
      "execution_count": null,
      "outputs": [
        {
          "output_type": "stream",
          "name": "stdout",
          "text": [
            "Epoch 1/20\n",
            "7/7 [==============================] - 0s 2ms/step - loss: 0.7179 - accuracy: 0.4828\n",
            "Epoch 2/20\n",
            "7/7 [==============================] - 0s 2ms/step - loss: 0.7081 - accuracy: 0.5025\n",
            "Epoch 3/20\n",
            "7/7 [==============================] - 0s 3ms/step - loss: 0.6987 - accuracy: 0.5123\n",
            "Epoch 4/20\n",
            "7/7 [==============================] - 0s 3ms/step - loss: 0.6903 - accuracy: 0.5271\n",
            "Epoch 5/20\n",
            "7/7 [==============================] - 0s 2ms/step - loss: 0.6830 - accuracy: 0.5320\n",
            "Epoch 6/20\n",
            "7/7 [==============================] - 0s 3ms/step - loss: 0.6764 - accuracy: 0.5714\n",
            "Epoch 7/20\n",
            "7/7 [==============================] - 0s 2ms/step - loss: 0.6696 - accuracy: 0.5813\n",
            "Epoch 8/20\n",
            "7/7 [==============================] - 0s 2ms/step - loss: 0.6635 - accuracy: 0.6108\n",
            "Epoch 9/20\n",
            "7/7 [==============================] - 0s 2ms/step - loss: 0.6577 - accuracy: 0.6158\n",
            "Epoch 10/20\n",
            "7/7 [==============================] - 0s 2ms/step - loss: 0.6521 - accuracy: 0.6207\n",
            "Epoch 11/20\n",
            "7/7 [==============================] - 0s 3ms/step - loss: 0.6467 - accuracy: 0.6552\n",
            "Epoch 12/20\n",
            "7/7 [==============================] - 0s 3ms/step - loss: 0.6421 - accuracy: 0.6650\n",
            "Epoch 13/20\n",
            "7/7 [==============================] - 0s 2ms/step - loss: 0.6372 - accuracy: 0.6798\n",
            "Epoch 14/20\n",
            "7/7 [==============================] - 0s 2ms/step - loss: 0.6330 - accuracy: 0.6847\n",
            "Epoch 15/20\n",
            "7/7 [==============================] - 0s 2ms/step - loss: 0.6291 - accuracy: 0.6995\n",
            "Epoch 16/20\n",
            "7/7 [==============================] - 0s 2ms/step - loss: 0.6252 - accuracy: 0.6995\n",
            "Epoch 17/20\n",
            "7/7 [==============================] - 0s 2ms/step - loss: 0.6215 - accuracy: 0.7044\n",
            "Epoch 18/20\n",
            "7/7 [==============================] - 0s 3ms/step - loss: 0.6173 - accuracy: 0.7094\n",
            "Epoch 19/20\n",
            "7/7 [==============================] - 0s 3ms/step - loss: 0.6137 - accuracy: 0.7094\n",
            "Epoch 20/20\n",
            "7/7 [==============================] - 0s 2ms/step - loss: 0.6104 - accuracy: 0.7094\n"
          ]
        }
      ]
    },
    {
      "cell_type": "code",
      "source": [
        "modelo = keras.Sequential()\n",
        "modelo.add(keras.layers.Input(13))\n",
        "modelo.add(keras.layers.Dense(13, activation='relu'))\n",
        "modelo.add(keras.layers.Dense(13, activation='relu'))\n",
        "modelo.add(keras.layers.Dense(1, activation='sigmoid'))\n",
        "\n",
        "modelo.compile(\n",
        "    optimizer=keras.optimizers.SGD(),\n",
        "    loss=keras.losses.binary_crossentropy,\n",
        "    metrics=['accuracy']\n",
        ")\n",
        "\n",
        "modelo.summary()\n",
        "\n",
        "historico = modelo.fit(X_treino, y_treino, epochs=20, batch_size=128)"
      ],
      "metadata": {
        "colab": {
          "base_uri": "https://localhost:8080/"
        },
        "id": "wvjY6qNPXCm5",
        "outputId": "de586364-ba63-4acb-92c6-00d715351e0d"
      },
      "execution_count": null,
      "outputs": [
        {
          "output_type": "stream",
          "name": "stdout",
          "text": [
            "Model: \"sequential_3\"\n",
            "_________________________________________________________________\n",
            " Layer (type)                Output Shape              Param #   \n",
            "=================================================================\n",
            " dense_8 (Dense)             (None, 13)                182       \n",
            "                                                                 \n",
            " dense_9 (Dense)             (None, 13)                182       \n",
            "                                                                 \n",
            " dense_10 (Dense)            (None, 1)                 14        \n",
            "                                                                 \n",
            "=================================================================\n",
            "Total params: 378\n",
            "Trainable params: 378\n",
            "Non-trainable params: 0\n",
            "_________________________________________________________________\n",
            "Epoch 1/20\n",
            "2/2 [==============================] - 0s 5ms/step - loss: 0.7123 - accuracy: 0.5074\n",
            "Epoch 2/20\n",
            "2/2 [==============================] - 0s 6ms/step - loss: 0.7071 - accuracy: 0.5074\n",
            "Epoch 3/20\n",
            "2/2 [==============================] - 0s 5ms/step - loss: 0.7020 - accuracy: 0.5271\n",
            "Epoch 4/20\n",
            "2/2 [==============================] - 0s 4ms/step - loss: 0.6972 - accuracy: 0.5222\n",
            "Epoch 5/20\n",
            "2/2 [==============================] - 0s 4ms/step - loss: 0.6924 - accuracy: 0.5222\n",
            "Epoch 6/20\n",
            "2/2 [==============================] - 0s 4ms/step - loss: 0.6877 - accuracy: 0.5172\n",
            "Epoch 7/20\n",
            "2/2 [==============================] - 0s 5ms/step - loss: 0.6831 - accuracy: 0.5222\n",
            "Epoch 8/20\n",
            "2/2 [==============================] - 0s 4ms/step - loss: 0.6787 - accuracy: 0.5567\n",
            "Epoch 9/20\n",
            "2/2 [==============================] - 0s 5ms/step - loss: 0.6743 - accuracy: 0.5813\n",
            "Epoch 10/20\n",
            "2/2 [==============================] - 0s 7ms/step - loss: 0.6702 - accuracy: 0.6010\n",
            "Epoch 11/20\n",
            "2/2 [==============================] - 0s 5ms/step - loss: 0.6661 - accuracy: 0.6207\n",
            "Epoch 12/20\n",
            "2/2 [==============================] - 0s 3ms/step - loss: 0.6619 - accuracy: 0.6158\n",
            "Epoch 13/20\n",
            "2/2 [==============================] - 0s 6ms/step - loss: 0.6580 - accuracy: 0.6207\n",
            "Epoch 14/20\n",
            "2/2 [==============================] - 0s 13ms/step - loss: 0.6540 - accuracy: 0.6256\n",
            "Epoch 15/20\n",
            "2/2 [==============================] - 0s 9ms/step - loss: 0.6503 - accuracy: 0.6355\n",
            "Epoch 16/20\n",
            "2/2 [==============================] - 0s 8ms/step - loss: 0.6467 - accuracy: 0.6453\n",
            "Epoch 17/20\n",
            "2/2 [==============================] - 0s 8ms/step - loss: 0.6431 - accuracy: 0.6552\n",
            "Epoch 18/20\n",
            "2/2 [==============================] - 0s 7ms/step - loss: 0.6395 - accuracy: 0.6552\n",
            "Epoch 19/20\n",
            "2/2 [==============================] - 0s 7ms/step - loss: 0.6362 - accuracy: 0.6601\n",
            "Epoch 20/20\n",
            "2/2 [==============================] - 0s 7ms/step - loss: 0.6327 - accuracy: 0.6601\n"
          ]
        }
      ]
    },
    {
      "cell_type": "code",
      "source": [
        "modelo = keras.Sequential()\n",
        "modelo.add(keras.layers.Input(13))\n",
        "modelo.add(keras.layers.Dense(13, activation='relu'))\n",
        "modelo.add(keras.layers.Dense(13, activation='relu'))\n",
        "modelo.add(keras.layers.Dense(1, activation='sigmoid'))\n",
        "\n",
        "modelo.compile(\n",
        "    optimizer=keras.optimizers.SGD(),\n",
        "    loss=keras.losses.binary_crossentropy,\n",
        "    metrics=['accuracy']\n",
        ")\n",
        "\n",
        "modelo.summary()\n",
        "\n",
        "historico = modelo.fit(X_treino, y_treino, epochs=20, batch_size=32)"
      ],
      "metadata": {
        "colab": {
          "base_uri": "https://localhost:8080/"
        },
        "id": "EvSGT2ViXLAJ",
        "outputId": "982d3bdc-31be-4407-82e8-85f475eb811a"
      },
      "execution_count": null,
      "outputs": [
        {
          "output_type": "stream",
          "name": "stdout",
          "text": [
            "Model: \"sequential_4\"\n",
            "_________________________________________________________________\n",
            " Layer (type)                Output Shape              Param #   \n",
            "=================================================================\n",
            " dense_11 (Dense)            (None, 13)                182       \n",
            "                                                                 \n",
            " dense_12 (Dense)            (None, 13)                182       \n",
            "                                                                 \n",
            " dense_13 (Dense)            (None, 1)                 14        \n",
            "                                                                 \n",
            "=================================================================\n",
            "Total params: 378\n",
            "Trainable params: 378\n",
            "Non-trainable params: 0\n",
            "_________________________________________________________________\n",
            "Epoch 1/20\n",
            "7/7 [==============================] - 0s 2ms/step - loss: 0.7262 - accuracy: 0.5419\n",
            "Epoch 2/20\n",
            "7/7 [==============================] - 0s 2ms/step - loss: 0.7008 - accuracy: 0.5567\n",
            "Epoch 3/20\n",
            "7/7 [==============================] - 0s 2ms/step - loss: 0.6762 - accuracy: 0.5813\n",
            "Epoch 4/20\n",
            "7/7 [==============================] - 0s 2ms/step - loss: 0.6562 - accuracy: 0.5911\n",
            "Epoch 5/20\n",
            "7/7 [==============================] - 0s 3ms/step - loss: 0.6393 - accuracy: 0.6256\n",
            "Epoch 6/20\n",
            "7/7 [==============================] - 0s 2ms/step - loss: 0.6245 - accuracy: 0.6355\n",
            "Epoch 7/20\n",
            "7/7 [==============================] - 0s 3ms/step - loss: 0.6103 - accuracy: 0.6502\n",
            "Epoch 8/20\n",
            "7/7 [==============================] - 0s 2ms/step - loss: 0.5976 - accuracy: 0.6601\n",
            "Epoch 9/20\n",
            "7/7 [==============================] - 0s 3ms/step - loss: 0.5873 - accuracy: 0.6749\n",
            "Epoch 10/20\n",
            "7/7 [==============================] - 0s 3ms/step - loss: 0.5773 - accuracy: 0.6798\n",
            "Epoch 11/20\n",
            "7/7 [==============================] - 0s 3ms/step - loss: 0.5685 - accuracy: 0.6897\n",
            "Epoch 12/20\n",
            "7/7 [==============================] - 0s 2ms/step - loss: 0.5598 - accuracy: 0.6946\n",
            "Epoch 13/20\n",
            "7/7 [==============================] - 0s 3ms/step - loss: 0.5512 - accuracy: 0.6995\n",
            "Epoch 14/20\n",
            "7/7 [==============================] - 0s 2ms/step - loss: 0.5439 - accuracy: 0.7044\n",
            "Epoch 15/20\n",
            "7/7 [==============================] - 0s 2ms/step - loss: 0.5368 - accuracy: 0.7044\n",
            "Epoch 16/20\n",
            "7/7 [==============================] - 0s 2ms/step - loss: 0.5310 - accuracy: 0.7044\n",
            "Epoch 17/20\n",
            "7/7 [==============================] - 0s 3ms/step - loss: 0.5248 - accuracy: 0.6995\n",
            "Epoch 18/20\n",
            "7/7 [==============================] - 0s 2ms/step - loss: 0.5189 - accuracy: 0.7094\n",
            "Epoch 19/20\n",
            "7/7 [==============================] - 0s 3ms/step - loss: 0.5138 - accuracy: 0.7094\n",
            "Epoch 20/20\n",
            "7/7 [==============================] - 0s 2ms/step - loss: 0.5085 - accuracy: 0.7044\n"
          ]
        }
      ]
    },
    {
      "cell_type": "code",
      "source": [
        "perda_teste, acuracia_teste=modelo.evaluate(X_teste, y_teste)\n",
        "print(acuracia_teste)"
      ],
      "metadata": {
        "colab": {
          "base_uri": "https://localhost:8080/"
        },
        "id": "N_rK91VGX0ex",
        "outputId": "fdbbd913-5caa-40db-8ad6-e0e5787cd042"
      },
      "execution_count": null,
      "outputs": [
        {
          "output_type": "stream",
          "name": "stdout",
          "text": [
            "4/4 [==============================] - 0s 3ms/step - loss: 0.5241 - accuracy: 0.6900\n",
            "0.6899999976158142\n"
          ]
        }
      ]
    },
    {
      "cell_type": "code",
      "source": [
        "plt.figure(figsize=(10, 5))\n",
        "plt.subplot(1, 2, 1)\n",
        "plt.plot(historico.history['accuracy'])\n",
        "plt.title('Acurácia por época')\n",
        "plt.xlabel('época')\n",
        "plt.ylabel('acurácia')\n",
        "plt.legend(['treino'])\n",
        "\n",
        "plt.subplot(1, 2, 2)\n",
        "plt.plot(historico.history['loss'])\n",
        "plt.title('Perda por época')\n",
        "plt.xlabel('época')\n",
        "plt.ylabel('perda')\n",
        "plt.legend(['treino'])"
      ],
      "metadata": {
        "colab": {
          "base_uri": "https://localhost:8080/",
          "height": 368
        },
        "id": "gQKp83oHX-WN",
        "outputId": "ed56d100-0cbb-4298-a4e1-926580c0c928"
      },
      "execution_count": null,
      "outputs": [
        {
          "output_type": "execute_result",
          "data": {
            "text/plain": [
              "<matplotlib.legend.Legend at 0x7fd6f4a0b750>"
            ]
          },
          "metadata": {},
          "execution_count": 50
        },
        {
          "output_type": "display_data",
          "data": {
            "text/plain": [
              "<Figure size 720x360 with 2 Axes>"
            ],
            "image/png": "[encoded data removed]"
          },
          "metadata": {
            "needs_background": "light"
          }
        }
      ]
    },
    {
      "cell_type": "code",
      "source": [
        "modelo = keras.Sequential()\n",
        "modelo.add(keras.layers.Input(13))\n",
        "modelo.add(keras.layers.Dense(13, activation='relu'))\n",
        "modelo.add(keras.layers.Dense(13, activation='relu'))\n",
        "modelo.add(keras.layers.Dense(1, activation='sigmoid'))\n",
        "\n",
        "modelo.compile(\n",
        "    optimizer=keras.optimizers.SGD(1), #gradiente descendente estocastico\n",
        "    loss=keras.losses.binary_crossentropy,\n",
        "    metrics=['accuracy']\n",
        ")\n",
        "\n",
        "modelo.summary()\n",
        "\n",
        "historico = modelo.fit(X_treino, y_treino, epochs=20, batch_size=32)"
      ],
      "metadata": {
        "colab": {
          "base_uri": "https://localhost:8080/"
        },
        "id": "Ip65lsqyYQhf",
        "outputId": "a92911d9-9134-4778-95fd-a3b0547f4f57"
      },
      "execution_count": null,
      "outputs": [
        {
          "output_type": "stream",
          "name": "stdout",
          "text": [
            "Model: \"sequential_5\"\n",
            "_________________________________________________________________\n",
            " Layer (type)                Output Shape              Param #   \n",
            "=================================================================\n",
            " dense_14 (Dense)            (None, 13)                182       \n",
            "                                                                 \n",
            " dense_15 (Dense)            (None, 13)                182       \n",
            "                                                                 \n",
            " dense_16 (Dense)            (None, 1)                 14        \n",
            "                                                                 \n",
            "=================================================================\n",
            "Total params: 378\n",
            "Trainable params: 378\n",
            "Non-trainable params: 0\n",
            "_________________________________________________________________\n",
            "Epoch 1/20\n",
            "7/7 [==============================] - 0s 3ms/step - loss: 0.5436 - accuracy: 0.6552\n",
            "Epoch 2/20\n",
            "7/7 [==============================] - 0s 2ms/step - loss: 0.3804 - accuracy: 0.8079\n",
            "Epoch 3/20\n",
            "7/7 [==============================] - 0s 2ms/step - loss: 0.3019 - accuracy: 0.8522\n",
            "Epoch 4/20\n",
            "7/7 [==============================] - 0s 3ms/step - loss: 0.2787 - accuracy: 0.8621\n",
            "Epoch 5/20\n",
            "7/7 [==============================] - 0s 2ms/step - loss: 0.2756 - accuracy: 0.8818\n",
            "Epoch 6/20\n",
            "7/7 [==============================] - 0s 2ms/step - loss: 0.2528 - accuracy: 0.8719\n",
            "Epoch 7/20\n",
            "7/7 [==============================] - 0s 2ms/step - loss: 0.2336 - accuracy: 0.8818\n",
            "Epoch 8/20\n",
            "7/7 [==============================] - 0s 3ms/step - loss: 0.2287 - accuracy: 0.8867\n",
            "Epoch 9/20\n",
            "7/7 [==============================] - 0s 2ms/step - loss: 0.2047 - accuracy: 0.8916\n",
            "Epoch 10/20\n",
            "7/7 [==============================] - 0s 2ms/step - loss: 0.2081 - accuracy: 0.8916\n",
            "Epoch 11/20\n",
            "7/7 [==============================] - 0s 2ms/step - loss: 0.1959 - accuracy: 0.9064\n",
            "Epoch 12/20\n",
            "7/7 [==============================] - 0s 3ms/step - loss: 0.1936 - accuracy: 0.9064\n",
            "Epoch 13/20\n",
            "7/7 [==============================] - 0s 3ms/step - loss: 0.1858 - accuracy: 0.9113\n",
            "Epoch 14/20\n",
            "7/7 [==============================] - 0s 3ms/step - loss: 0.1602 - accuracy: 0.9212\n",
            "Epoch 15/20\n",
            "7/7 [==============================] - 0s 2ms/step - loss: 0.1745 - accuracy: 0.9212\n",
            "Epoch 16/20\n",
            "7/7 [==============================] - 0s 2ms/step - loss: 0.1535 - accuracy: 0.9212\n",
            "Epoch 17/20\n",
            "7/7 [==============================] - 0s 3ms/step - loss: 0.1469 - accuracy: 0.9163\n",
            "Epoch 18/20\n",
            "7/7 [==============================] - 0s 2ms/step - loss: 0.1346 - accuracy: 0.9212\n",
            "Epoch 19/20\n",
            "7/7 [==============================] - 0s 2ms/step - loss: 0.1343 - accuracy: 0.9360\n",
            "Epoch 20/20\n",
            "7/7 [==============================] - 0s 3ms/step - loss: 0.1237 - accuracy: 0.9458\n"
          ]
        }
      ]
    },
    {
      "cell_type": "code",
      "source": [
        "perda_teste, acuracia_teste=modelo.evaluate(X_teste, y_teste)\n",
        "print(acuracia_teste)"
      ],
      "metadata": {
        "colab": {
          "base_uri": "https://localhost:8080/"
        },
        "id": "MoYSUXH0YoQM",
        "outputId": "be97c65d-53aa-4573-f62b-9db7ac2513fa"
      },
      "execution_count": null,
      "outputs": [
        {
          "output_type": "stream",
          "name": "stdout",
          "text": [
            "4/4 [==============================] - 0s 3ms/step - loss: 0.8758 - accuracy: 0.7900\n",
            "0.7900000214576721\n"
          ]
        }
      ]
    },
    {
      "cell_type": "code",
      "source": [
        "plt.figure(figsize=(10, 5))\n",
        "plt.subplot(1, 2, 1)\n",
        "plt.plot(historico.history['accuracy'])\n",
        "plt.title('Acurácia por época')\n",
        "plt.xlabel('época')\n",
        "plt.ylabel('acurácia')\n",
        "plt.legend(['treino'])\n",
        "\n",
        "plt.subplot(1, 2, 2)\n",
        "plt.plot(historico.history['loss'])\n",
        "plt.title('Perda por época')\n",
        "plt.xlabel('época')\n",
        "plt.ylabel('perda')\n",
        "plt.legend(['treino'])"
      ],
      "metadata": {
        "colab": {
          "base_uri": "https://localhost:8080/",
          "height": 368
        },
        "id": "pRqXTmutY1kS",
        "outputId": "1d1c82f0-2bde-4e49-8eee-63cf2ed910c1"
      },
      "execution_count": null,
      "outputs": [
        {
          "output_type": "execute_result",
          "data": {
            "text/plain": [
              "<matplotlib.legend.Legend at 0x7fd6ee057250>"
            ]
          },
          "metadata": {},
          "execution_count": 53
        },
        {
          "output_type": "display_data",
          "data": {
            "text/plain": [
              "<Figure size 720x360 with 2 Axes>"
            ],
            "image/png": "[encoded data removed]"
          },
          "metadata": {
            "needs_background": "light"
          }
        }
      ]
    },
    {
      "cell_type": "code",
      "source": [
        "modelo = keras.Sequential()\n",
        "modelo.add(keras.layers.Input(13))\n",
        "modelo.add(keras.layers.Dense(13, activation='relu'))\n",
        "modelo.add(keras.layers.Dense(13, activation='relu'))\n",
        "modelo.add(keras.layers.Dense(1, activation='sigmoid'))\n",
        "\n",
        "modelo.compile(\n",
        "    optimizer=keras.optimizers.SGD(0.001), #gradiente descendente estocastico\n",
        "    loss=keras.losses.binary_crossentropy,\n",
        "    metrics=['accuracy']\n",
        ")\n",
        "\n",
        "modelo.summary()\n",
        "\n",
        "historico = modelo.fit(X_treino, y_treino, epochs=20, batch_size=32)"
      ],
      "metadata": {
        "colab": {
          "base_uri": "https://localhost:8080/"
        },
        "id": "iOZJyr26ZKtE",
        "outputId": "00b1d0cd-ef43-4efa-e9ed-5448dacd3a07"
      },
      "execution_count": null,
      "outputs": [
        {
          "output_type": "stream",
          "name": "stdout",
          "text": [
            "Model: \"sequential_6\"\n",
            "_________________________________________________________________\n",
            " Layer (type)                Output Shape              Param #   \n",
            "=================================================================\n",
            " dense_17 (Dense)            (None, 13)                182       \n",
            "                                                                 \n",
            " dense_18 (Dense)            (None, 13)                182       \n",
            "                                                                 \n",
            " dense_19 (Dense)            (None, 1)                 14        \n",
            "                                                                 \n",
            "=================================================================\n",
            "Total params: 378\n",
            "Trainable params: 378\n",
            "Non-trainable params: 0\n",
            "_________________________________________________________________\n",
            "Epoch 1/20\n",
            "7/7 [==============================] - 0s 2ms/step - loss: 0.7775 - accuracy: 0.3596\n",
            "Epoch 2/20\n",
            "7/7 [==============================] - 0s 3ms/step - loss: 0.7749 - accuracy: 0.3547\n",
            "Epoch 3/20\n",
            "7/7 [==============================] - 0s 2ms/step - loss: 0.7723 - accuracy: 0.3547\n",
            "Epoch 4/20\n",
            "7/7 [==============================] - 0s 2ms/step - loss: 0.7698 - accuracy: 0.3645\n",
            "Epoch 5/20\n",
            "7/7 [==============================] - 0s 2ms/step - loss: 0.7672 - accuracy: 0.3744\n",
            "Epoch 6/20\n",
            "7/7 [==============================] - 0s 3ms/step - loss: 0.7647 - accuracy: 0.3842\n",
            "Epoch 7/20\n",
            "7/7 [==============================] - 0s 2ms/step - loss: 0.7622 - accuracy: 0.3990\n",
            "Epoch 8/20\n",
            "7/7 [==============================] - 0s 2ms/step - loss: 0.7598 - accuracy: 0.3990\n",
            "Epoch 9/20\n",
            "7/7 [==============================] - 0s 2ms/step - loss: 0.7575 - accuracy: 0.4039\n",
            "Epoch 10/20\n",
            "7/7 [==============================] - 0s 3ms/step - loss: 0.7551 - accuracy: 0.4138\n",
            "Epoch 11/20\n",
            "7/7 [==============================] - 0s 3ms/step - loss: 0.7530 - accuracy: 0.4236\n",
            "Epoch 12/20\n",
            "7/7 [==============================] - 0s 2ms/step - loss: 0.7507 - accuracy: 0.4286\n",
            "Epoch 13/20\n",
            "7/7 [==============================] - 0s 2ms/step - loss: 0.7485 - accuracy: 0.4286\n",
            "Epoch 14/20\n",
            "7/7 [==============================] - 0s 2ms/step - loss: 0.7461 - accuracy: 0.4384\n",
            "Epoch 15/20\n",
            "7/7 [==============================] - 0s 2ms/step - loss: 0.7438 - accuracy: 0.4532\n",
            "Epoch 16/20\n",
            "7/7 [==============================] - 0s 2ms/step - loss: 0.7417 - accuracy: 0.4532\n",
            "Epoch 17/20\n",
            "7/7 [==============================] - 0s 2ms/step - loss: 0.7395 - accuracy: 0.4680\n",
            "Epoch 18/20\n",
            "7/7 [==============================] - 0s 2ms/step - loss: 0.7374 - accuracy: 0.4631\n",
            "Epoch 19/20\n",
            "7/7 [==============================] - 0s 2ms/step - loss: 0.7353 - accuracy: 0.4680\n",
            "Epoch 20/20\n",
            "7/7 [==============================] - 0s 3ms/step - loss: 0.7331 - accuracy: 0.4729\n"
          ]
        }
      ]
    },
    {
      "cell_type": "code",
      "source": [
        "perda_teste, acuracia_teste=modelo.evaluate(X_teste, y_teste)\n",
        "print(acuracia_teste)"
      ],
      "metadata": {
        "colab": {
          "base_uri": "https://localhost:8080/"
        },
        "id": "-LmRWTHWZZhy",
        "outputId": "21c32f7c-589e-47a4-dc0b-671c72a94987"
      },
      "execution_count": null,
      "outputs": [
        {
          "output_type": "stream",
          "name": "stdout",
          "text": [
            "4/4 [==============================] - 0s 3ms/step - loss: 0.7299 - accuracy: 0.5000\n",
            "0.5\n"
          ]
        }
      ]
    },
    {
      "cell_type": "code",
      "source": [
        "plt.figure(figsize=(10, 5))\n",
        "plt.subplot(1, 2, 1)\n",
        "plt.plot(historico.history['accuracy'])\n",
        "plt.title('Acurácia por época')\n",
        "plt.xlabel('época')\n",
        "plt.ylabel('acurácia')\n",
        "plt.legend(['treino'])\n",
        "\n",
        "plt.subplot(1, 2, 2)\n",
        "plt.plot(historico.history['loss'])\n",
        "plt.title('Perda por época')\n",
        "plt.xlabel('época')\n",
        "plt.ylabel('perda')\n",
        "plt.legend(['treino'])"
      ],
      "metadata": {
        "colab": {
          "base_uri": "https://localhost:8080/",
          "height": 368
        },
        "id": "pYkfB0BjZekO",
        "outputId": "f545d2c1-5444-4faf-a77d-06d3492be11c"
      },
      "execution_count": null,
      "outputs": [
        {
          "output_type": "execute_result",
          "data": {
            "text/plain": [
              "<matplotlib.legend.Legend at 0x7fd6ede0dc90>"
            ]
          },
          "metadata": {},
          "execution_count": 56
        },
        {
          "output_type": "display_data",
          "data": {
            "text/plain": [
              "<Figure size 720x360 with 2 Axes>"
            ],
            "image/png": "[encoded data removed]"
          },
          "metadata": {
            "needs_background": "light"
          }
        }
      ]
    },
    {
      "cell_type": "code",
      "source": [
        "modelo = keras.Sequential()\n",
        "modelo.add(keras.layers.Input(13))\n",
        "modelo.add(keras.layers.Dense(13, activation='relu'))\n",
        "modelo.add(keras.layers.Dense(13, activation='relu'))\n",
        "modelo.add(keras.layers.Dense(1, activation='sigmoid'))\n",
        "\n",
        "modelo.compile(\n",
        "    optimizer=keras.optimizers.RMSprop(), \n",
        "    loss=keras.losses.binary_crossentropy,\n",
        "    metrics=['accuracy']\n",
        ")\n",
        "\n",
        "modelo.summary()\n",
        "\n",
        "historico = modelo.fit(X_treino, y_treino, epochs=20, batch_size=32)"
      ],
      "metadata": {
        "colab": {
          "base_uri": "https://localhost:8080/"
        },
        "id": "hF2MQYvaZsdd",
        "outputId": "0a8c2160-b715-48af-c8a5-3f9d29568a17"
      },
      "execution_count": null,
      "outputs": [
        {
          "output_type": "stream",
          "name": "stdout",
          "text": [
            "Model: \"sequential_7\"\n",
            "_________________________________________________________________\n",
            " Layer (type)                Output Shape              Param #   \n",
            "=================================================================\n",
            " dense_20 (Dense)            (None, 13)                182       \n",
            "                                                                 \n",
            " dense_21 (Dense)            (None, 13)                182       \n",
            "                                                                 \n",
            " dense_22 (Dense)            (None, 1)                 14        \n",
            "                                                                 \n",
            "=================================================================\n",
            "Total params: 378\n",
            "Trainable params: 378\n",
            "Non-trainable params: 0\n",
            "_________________________________________________________________\n",
            "Epoch 1/20\n",
            "7/7 [==============================] - 1s 3ms/step - loss: 0.6854 - accuracy: 0.5862\n",
            "Epoch 2/20\n",
            "7/7 [==============================] - 0s 3ms/step - loss: 0.6433 - accuracy: 0.6207\n",
            "Epoch 3/20\n",
            "7/7 [==============================] - 0s 3ms/step - loss: 0.6166 - accuracy: 0.6700\n",
            "Epoch 4/20\n",
            "7/7 [==============================] - 0s 3ms/step - loss: 0.5952 - accuracy: 0.7094\n",
            "Epoch 5/20\n",
            "7/7 [==============================] - 0s 3ms/step - loss: 0.5752 - accuracy: 0.7192\n",
            "Epoch 6/20\n",
            "7/7 [==============================] - 0s 3ms/step - loss: 0.5578 - accuracy: 0.7291\n",
            "Epoch 7/20\n",
            "7/7 [==============================] - 0s 3ms/step - loss: 0.5412 - accuracy: 0.7537\n",
            "Epoch 8/20\n",
            "7/7 [==============================] - 0s 3ms/step - loss: 0.5252 - accuracy: 0.7586\n",
            "Epoch 9/20\n",
            "7/7 [==============================] - 0s 2ms/step - loss: 0.5095 - accuracy: 0.7586\n",
            "Epoch 10/20\n",
            "7/7 [==============================] - 0s 2ms/step - loss: 0.4945 - accuracy: 0.7635\n",
            "Epoch 11/20\n",
            "7/7 [==============================] - 0s 3ms/step - loss: 0.4807 - accuracy: 0.7734\n",
            "Epoch 12/20\n",
            "7/7 [==============================] - 0s 4ms/step - loss: 0.4677 - accuracy: 0.7833\n",
            "Epoch 13/20\n",
            "7/7 [==============================] - 0s 3ms/step - loss: 0.4550 - accuracy: 0.7783\n",
            "Epoch 14/20\n",
            "7/7 [==============================] - 0s 4ms/step - loss: 0.4436 - accuracy: 0.7833\n",
            "Epoch 15/20\n",
            "7/7 [==============================] - 0s 3ms/step - loss: 0.4338 - accuracy: 0.7882\n",
            "Epoch 16/20\n",
            "7/7 [==============================] - 0s 2ms/step - loss: 0.4241 - accuracy: 0.7833\n",
            "Epoch 17/20\n",
            "7/7 [==============================] - 0s 3ms/step - loss: 0.4156 - accuracy: 0.7882\n",
            "Epoch 18/20\n",
            "7/7 [==============================] - 0s 3ms/step - loss: 0.4070 - accuracy: 0.7931\n",
            "Epoch 19/20\n",
            "7/7 [==============================] - 0s 3ms/step - loss: 0.3983 - accuracy: 0.7931\n",
            "Epoch 20/20\n",
            "7/7 [==============================] - 0s 3ms/step - loss: 0.3911 - accuracy: 0.8030\n"
          ]
        }
      ]
    },
    {
      "cell_type": "code",
      "source": [
        "perda_teste, acuracia_teste=modelo.evaluate(X_teste, y_teste)\n",
        "print(acuracia_teste)"
      ],
      "metadata": {
        "colab": {
          "base_uri": "https://localhost:8080/"
        },
        "id": "wdJJFQZGaI6k",
        "outputId": "5d330450-2c3d-4f8b-cefd-8ae3182447f6"
      },
      "execution_count": null,
      "outputs": [
        {
          "output_type": "stream",
          "name": "stdout",
          "text": [
            "4/4 [==============================] - 0s 3ms/step - loss: 0.4341 - accuracy: 0.7900\n",
            "0.7900000214576721\n"
          ]
        }
      ]
    },
    {
      "cell_type": "code",
      "source": [
        "plt.figure(figsize=(10, 5))\n",
        "plt.subplot(1, 2, 1)\n",
        "plt.plot(historico.history['accuracy'])\n",
        "plt.title('Acurácia por época')\n",
        "plt.xlabel('época')\n",
        "plt.ylabel('acurácia')\n",
        "plt.legend(['treino'])\n",
        "\n",
        "plt.subplot(1, 2, 2)\n",
        "plt.plot(historico.history['loss'])\n",
        "plt.title('Perda por época')\n",
        "plt.xlabel('época')\n",
        "plt.ylabel('perda')\n",
        "plt.legend(['treino'])"
      ],
      "metadata": {
        "colab": {
          "base_uri": "https://localhost:8080/",
          "height": 368
        },
        "id": "AjMnmjPpaQ51",
        "outputId": "4e663d17-4b8a-42fd-bf6f-547e8587f687"
      },
      "execution_count": null,
      "outputs": [
        {
          "output_type": "execute_result",
          "data": {
            "text/plain": [
              "<matplotlib.legend.Legend at 0x7fd6edb542d0>"
            ]
          },
          "metadata": {},
          "execution_count": 59
        },
        {
          "output_type": "display_data",
          "data": {
            "text/plain": [
              "<Figure size 720x360 with 2 Axes>"
            ],
            "image/png": "[encoded data removed]"
          },
          "metadata": {
            "needs_background": "light"
          }
        }
      ]
    },
    {
      "cell_type": "markdown",
      "source": [
        "# validacao durante o treino"
      ],
      "metadata": {
        "id": "E2fQxDj0a9oB"
      }
    },
    {
      "cell_type": "code",
      "source": [
        "modelo = keras.Sequential()\n",
        "modelo.add(keras.layers.Input(13))\n",
        "modelo.add(keras.layers.Dense(13, activation='relu'))\n",
        "modelo.add(keras.layers.Dense(13, activation='relu'))\n",
        "modelo.add(keras.layers.Dense(1, activation='sigmoid'))\n",
        "\n",
        "modelo.compile(\n",
        "    optimizer=keras.optimizers.RMSprop(), \n",
        "    loss=keras.losses.binary_crossentropy,\n",
        "    metrics=['accuracy']\n",
        ")\n",
        "\n",
        "modelo.summary()\n",
        "\n",
        "historico = modelo.fit(X_treino, y_treino, epochs=20, batch_size=32, validation_split=0.2)"
      ],
      "metadata": {
        "colab": {
          "base_uri": "https://localhost:8080/"
        },
        "id": "2_OohHLqa86i",
        "outputId": "bbbf5ef9-2135-4fe2-bc57-a7de2496280d"
      },
      "execution_count": null,
      "outputs": [
        {
          "output_type": "stream",
          "name": "stdout",
          "text": [
            "Model: \"sequential_8\"\n",
            "_________________________________________________________________\n",
            " Layer (type)                Output Shape              Param #   \n",
            "=================================================================\n",
            " dense_23 (Dense)            (None, 13)                182       \n",
            "                                                                 \n",
            " dense_24 (Dense)            (None, 13)                182       \n",
            "                                                                 \n",
            " dense_25 (Dense)            (None, 1)                 14        \n",
            "                                                                 \n",
            "=================================================================\n",
            "Total params: 378\n",
            "Trainable params: 378\n",
            "Non-trainable params: 0\n",
            "_________________________________________________________________\n",
            "Epoch 1/20\n",
            "6/6 [==============================] - 1s 34ms/step - loss: 0.7615 - accuracy: 0.3951 - val_loss: 0.7553 - val_accuracy: 0.4146\n",
            "Epoch 2/20\n",
            "6/6 [==============================] - 0s 6ms/step - loss: 0.7275 - accuracy: 0.4506 - val_loss: 0.7208 - val_accuracy: 0.5366\n",
            "Epoch 3/20\n",
            "6/6 [==============================] - 0s 7ms/step - loss: 0.7021 - accuracy: 0.5123 - val_loss: 0.6959 - val_accuracy: 0.5854\n",
            "Epoch 4/20\n",
            "6/6 [==============================] - 0s 6ms/step - loss: 0.6818 - accuracy: 0.5802 - val_loss: 0.6799 - val_accuracy: 0.5854\n",
            "Epoch 5/20\n",
            "6/6 [==============================] - 0s 7ms/step - loss: 0.6676 - accuracy: 0.6111 - val_loss: 0.6639 - val_accuracy: 0.6098\n",
            "Epoch 6/20\n",
            "6/6 [==============================] - 0s 7ms/step - loss: 0.6538 - accuracy: 0.6605 - val_loss: 0.6484 - val_accuracy: 0.6585\n",
            "Epoch 7/20\n",
            "6/6 [==============================] - 0s 7ms/step - loss: 0.6403 - accuracy: 0.7160 - val_loss: 0.6286 - val_accuracy: 0.7073\n",
            "Epoch 8/20\n",
            "6/6 [==============================] - 0s 8ms/step - loss: 0.6245 - accuracy: 0.7407 - val_loss: 0.6128 - val_accuracy: 0.7073\n",
            "Epoch 9/20\n",
            "6/6 [==============================] - 0s 7ms/step - loss: 0.6101 - accuracy: 0.7531 - val_loss: 0.5918 - val_accuracy: 0.7561\n",
            "Epoch 10/20\n",
            "6/6 [==============================] - 0s 6ms/step - loss: 0.5941 - accuracy: 0.7469 - val_loss: 0.5791 - val_accuracy: 0.7805\n",
            "Epoch 11/20\n",
            "6/6 [==============================] - 0s 6ms/step - loss: 0.5825 - accuracy: 0.7654 - val_loss: 0.5655 - val_accuracy: 0.8049\n",
            "Epoch 12/20\n",
            "6/6 [==============================] - 0s 7ms/step - loss: 0.5709 - accuracy: 0.7716 - val_loss: 0.5504 - val_accuracy: 0.8049\n",
            "Epoch 13/20\n",
            "6/6 [==============================] - 0s 7ms/step - loss: 0.5582 - accuracy: 0.7716 - val_loss: 0.5387 - val_accuracy: 0.8049\n",
            "Epoch 14/20\n",
            "6/6 [==============================] - 0s 7ms/step - loss: 0.5477 - accuracy: 0.7840 - val_loss: 0.5245 - val_accuracy: 0.8293\n",
            "Epoch 15/20\n",
            "6/6 [==============================] - 0s 7ms/step - loss: 0.5356 - accuracy: 0.7963 - val_loss: 0.5146 - val_accuracy: 0.8293\n",
            "Epoch 16/20\n",
            "6/6 [==============================] - 0s 7ms/step - loss: 0.5270 - accuracy: 0.7963 - val_loss: 0.5056 - val_accuracy: 0.8780\n",
            "Epoch 17/20\n",
            "6/6 [==============================] - 0s 7ms/step - loss: 0.5175 - accuracy: 0.7963 - val_loss: 0.4936 - val_accuracy: 0.8780\n",
            "Epoch 18/20\n",
            "6/6 [==============================] - 0s 8ms/step - loss: 0.5076 - accuracy: 0.7963 - val_loss: 0.4825 - val_accuracy: 0.8780\n",
            "Epoch 19/20\n",
            "6/6 [==============================] - 0s 7ms/step - loss: 0.4984 - accuracy: 0.7901 - val_loss: 0.4704 - val_accuracy: 0.8780\n",
            "Epoch 20/20\n",
            "6/6 [==============================] - 0s 8ms/step - loss: 0.4884 - accuracy: 0.7901 - val_loss: 0.4572 - val_accuracy: 0.8780\n"
          ]
        }
      ]
    },
    {
      "cell_type": "code",
      "source": [
        "plt.figure(figsize=(10, 5))\n",
        "plt.subplot(1, 2, 1)\n",
        "plt.plot(historico.history['accuracy'])\n",
        "plt.plot(historico.history['val_accuracy'])\n",
        "plt.title('Acurácia por época')\n",
        "plt.xlabel('época')\n",
        "plt.ylabel('acurácia')\n",
        "plt.legend(['treino','validação'])\n",
        "\n",
        "plt.subplot(1, 2, 2)\n",
        "plt.plot(historico.history['loss'])\n",
        "plt.plot(historico.history['val_loss'])\n",
        "plt.title('Perda por época')\n",
        "plt.xlabel('época')\n",
        "plt.ylabel('perda')\n",
        "plt.legend(['treino','validação'])"
      ],
      "metadata": {
        "colab": {
          "base_uri": "https://localhost:8080/",
          "height": 368
        },
        "id": "FmnsuVc3bth8",
        "outputId": "fd03f729-6ff5-42df-fe5a-0d7d3045e3b6"
      },
      "execution_count": null,
      "outputs": [
        {
          "output_type": "execute_result",
          "data": {
            "text/plain": [
              "<matplotlib.legend.Legend at 0x7fd6ea8c4250>"
            ]
          },
          "metadata": {},
          "execution_count": 61
        },
        {
          "output_type": "display_data",
          "data": {
            "text/plain": [
              "<Figure size 720x360 with 2 Axes>"
            ],
            "image/png": "[encoded data removed]"
          },
          "metadata": {
            "needs_background": "light"
          }
        }
      ]
    },
    {
      "cell_type": "markdown",
      "source": [
        "#Experimentos com overfitting"
      ],
      "metadata": {
        "id": "7PrxIn7cYPf-"
      }
    },
    {
      "cell_type": "code",
      "source": [
        "modelo = keras.Sequential()\n",
        "modelo.add(keras.layers.Input(13))\n",
        "modelo.add(keras.layers.Dense(130, activation='relu'))\n",
        "modelo.add(keras.layers.Dense(130, activation='relu'))\n",
        "modelo.add(keras.layers.Dense(1, activation='sigmoid'))\n",
        "\n",
        "modelo.compile(\n",
        "    optimizer=keras.optimizers.RMSprop(), \n",
        "    loss=keras.losses.binary_crossentropy,\n",
        "    metrics=['accuracy']\n",
        ")\n",
        "\n",
        "modelo.summary()\n",
        "\n",
        "historico = modelo.fit(X_treino, y_treino, epochs=20, batch_size=32, validation_split=0.2)"
      ],
      "metadata": {
        "colab": {
          "base_uri": "https://localhost:8080/"
        },
        "id": "u6SRNq2rYTbE",
        "outputId": "24b4411d-bfcc-41da-d6af-e768d13d38af"
      },
      "execution_count": null,
      "outputs": [
        {
          "output_type": "stream",
          "name": "stdout",
          "text": [
            "Model: \"sequential_9\"\n",
            "_________________________________________________________________\n",
            " Layer (type)                Output Shape              Param #   \n",
            "=================================================================\n",
            " dense_26 (Dense)            (None, 130)               1820      \n",
            "                                                                 \n",
            " dense_27 (Dense)            (None, 130)               17030     \n",
            "                                                                 \n",
            " dense_28 (Dense)            (None, 1)                 131       \n",
            "                                                                 \n",
            "=================================================================\n",
            "Total params: 18,981\n",
            "Trainable params: 18,981\n",
            "Non-trainable params: 0\n",
            "_________________________________________________________________\n",
            "Epoch 1/20\n",
            "6/6 [==============================] - 1s 33ms/step - loss: 0.5625 - accuracy: 0.7037 - val_loss: 0.4343 - val_accuracy: 0.7805\n",
            "Epoch 2/20\n",
            "6/6 [==============================] - 0s 7ms/step - loss: 0.4201 - accuracy: 0.7963 - val_loss: 0.3876 - val_accuracy: 0.8049\n",
            "Epoch 3/20\n",
            "6/6 [==============================] - 0s 7ms/step - loss: 0.3643 - accuracy: 0.8395 - val_loss: 0.3591 - val_accuracy: 0.8537\n",
            "Epoch 4/20\n",
            "6/6 [==============================] - 0s 8ms/step - loss: 0.3369 - accuracy: 0.8580 - val_loss: 0.3612 - val_accuracy: 0.8049\n",
            "Epoch 5/20\n",
            "6/6 [==============================] - 0s 9ms/step - loss: 0.3191 - accuracy: 0.8580 - val_loss: 0.3443 - val_accuracy: 0.8293\n",
            "Epoch 6/20\n",
            "6/6 [==============================] - 0s 8ms/step - loss: 0.3021 - accuracy: 0.8889 - val_loss: 0.3292 - val_accuracy: 0.8293\n",
            "Epoch 7/20\n",
            "6/6 [==============================] - 0s 7ms/step - loss: 0.2857 - accuracy: 0.8889 - val_loss: 0.3292 - val_accuracy: 0.8293\n",
            "Epoch 8/20\n",
            "6/6 [==============================] - 0s 7ms/step - loss: 0.2751 - accuracy: 0.8827 - val_loss: 0.3278 - val_accuracy: 0.8293\n",
            "Epoch 9/20\n",
            "6/6 [==============================] - 0s 7ms/step - loss: 0.2617 - accuracy: 0.9012 - val_loss: 0.3203 - val_accuracy: 0.8780\n",
            "Epoch 10/20\n",
            "6/6 [==============================] - 0s 8ms/step - loss: 0.2528 - accuracy: 0.8951 - val_loss: 0.3183 - val_accuracy: 0.8537\n",
            "Epoch 11/20\n",
            "6/6 [==============================] - 0s 8ms/step - loss: 0.2423 - accuracy: 0.8951 - val_loss: 0.3181 - val_accuracy: 0.9024\n",
            "Epoch 12/20\n",
            "6/6 [==============================] - 0s 7ms/step - loss: 0.2362 - accuracy: 0.9012 - val_loss: 0.3205 - val_accuracy: 0.8780\n",
            "Epoch 13/20\n",
            "6/6 [==============================] - 0s 7ms/step - loss: 0.2222 - accuracy: 0.9012 - val_loss: 0.3223 - val_accuracy: 0.8780\n",
            "Epoch 14/20\n",
            "6/6 [==============================] - 0s 7ms/step - loss: 0.2118 - accuracy: 0.9136 - val_loss: 0.3591 - val_accuracy: 0.8293\n",
            "Epoch 15/20\n",
            "6/6 [==============================] - 0s 9ms/step - loss: 0.2084 - accuracy: 0.9259 - val_loss: 0.3472 - val_accuracy: 0.8293\n",
            "Epoch 16/20\n",
            "6/6 [==============================] - 0s 7ms/step - loss: 0.1957 - accuracy: 0.9259 - val_loss: 0.3490 - val_accuracy: 0.8293\n",
            "Epoch 17/20\n",
            "6/6 [==============================] - 0s 7ms/step - loss: 0.1880 - accuracy: 0.9259 - val_loss: 0.3521 - val_accuracy: 0.8049\n",
            "Epoch 18/20\n",
            "6/6 [==============================] - 0s 7ms/step - loss: 0.1838 - accuracy: 0.9259 - val_loss: 0.3449 - val_accuracy: 0.8049\n",
            "Epoch 19/20\n",
            "6/6 [==============================] - 0s 7ms/step - loss: 0.1712 - accuracy: 0.9383 - val_loss: 0.3484 - val_accuracy: 0.8537\n",
            "Epoch 20/20\n",
            "6/6 [==============================] - 0s 7ms/step - loss: 0.1683 - accuracy: 0.9321 - val_loss: 0.3512 - val_accuracy: 0.8537\n"
          ]
        }
      ]
    },
    {
      "cell_type": "code",
      "source": [
        "plt.figure(figsize=(10, 5))\n",
        "plt.subplot(1, 2, 1)\n",
        "plt.plot(historico.history['accuracy'])\n",
        "plt.plot(historico.history['val_accuracy'])\n",
        "plt.title('Acurácia por época')\n",
        "plt.xlabel('época')\n",
        "plt.ylabel('acurácia')\n",
        "plt.legend(['treino','validação'])\n",
        "\n",
        "plt.subplot(1, 2, 2)\n",
        "plt.plot(historico.history['loss'])\n",
        "plt.plot(historico.history['val_loss'])\n",
        "plt.title('Perda por época')\n",
        "plt.xlabel('época')\n",
        "plt.ylabel('perda')\n",
        "plt.legend(['treino','validação'])"
      ],
      "metadata": {
        "colab": {
          "base_uri": "https://localhost:8080/",
          "height": 368
        },
        "id": "6H7QanleZF-i",
        "outputId": "464f8229-9029-4518-9d9e-746c44b3207e"
      },
      "execution_count": null,
      "outputs": [
        {
          "output_type": "execute_result",
          "data": {
            "text/plain": [
              "<matplotlib.legend.Legend at 0x7fd6edd2fa50>"
            ]
          },
          "metadata": {},
          "execution_count": 63
        },
        {
          "output_type": "display_data",
          "data": {
            "text/plain": [
              "<Figure size 720x360 with 2 Axes>"
            ],
            "image/png": "[encoded data removed]"
          },
          "metadata": {
            "needs_background": "light"
          }
        }
      ]
    },
    {
      "cell_type": "code",
      "source": [
        "modelo = keras.Sequential()\n",
        "modelo.add(keras.layers.Input(13))\n",
        "modelo.add(keras.layers.Dense(260, activation='relu'))\n",
        "modelo.add(keras.layers.Dense(260, activation='relu'))\n",
        "modelo.add(keras.layers.Dense(1, activation='sigmoid'))\n",
        "\n",
        "modelo.compile(\n",
        "    optimizer=keras.optimizers.RMSprop(), \n",
        "    loss=keras.losses.binary_crossentropy,\n",
        "    metrics=['accuracy']\n",
        ")\n",
        "\n",
        "modelo.summary()\n",
        "\n",
        "historico = modelo.fit(X_treino, y_treino, epochs=20, batch_size=32, validation_split=0.2)"
      ],
      "metadata": {
        "colab": {
          "base_uri": "https://localhost:8080/"
        },
        "id": "o-X3AUfKZmzr",
        "outputId": "2dfa0a81-19c7-48c6-a991-899b9f0e88d3"
      },
      "execution_count": null,
      "outputs": [
        {
          "output_type": "stream",
          "name": "stdout",
          "text": [
            "Model: \"sequential_10\"\n",
            "_________________________________________________________________\n",
            " Layer (type)                Output Shape              Param #   \n",
            "=================================================================\n",
            " dense_29 (Dense)            (None, 260)               3640      \n",
            "                                                                 \n",
            " dense_30 (Dense)            (None, 260)               67860     \n",
            "                                                                 \n",
            " dense_31 (Dense)            (None, 1)                 261       \n",
            "                                                                 \n",
            "=================================================================\n",
            "Total params: 71,761\n",
            "Trainable params: 71,761\n",
            "Non-trainable params: 0\n",
            "_________________________________________________________________\n",
            "Epoch 1/20\n",
            "6/6 [==============================] - 1s 39ms/step - loss: 0.5528 - accuracy: 0.7037 - val_loss: 0.3713 - val_accuracy: 0.9268\n",
            "Epoch 2/20\n",
            "6/6 [==============================] - 0s 8ms/step - loss: 0.3659 - accuracy: 0.8272 - val_loss: 0.3238 - val_accuracy: 0.8780\n",
            "Epoch 3/20\n",
            "6/6 [==============================] - 0s 8ms/step - loss: 0.3139 - accuracy: 0.8642 - val_loss: 0.3192 - val_accuracy: 0.8537\n",
            "Epoch 4/20\n",
            "6/6 [==============================] - 0s 8ms/step - loss: 0.2972 - accuracy: 0.8519 - val_loss: 0.3316 - val_accuracy: 0.8537\n",
            "Epoch 5/20\n",
            "6/6 [==============================] - 0s 12ms/step - loss: 0.2682 - accuracy: 0.8889 - val_loss: 0.3167 - val_accuracy: 0.8537\n",
            "Epoch 6/20\n",
            "6/6 [==============================] - 0s 8ms/step - loss: 0.2539 - accuracy: 0.8951 - val_loss: 0.3223 - val_accuracy: 0.8780\n",
            "Epoch 7/20\n",
            "6/6 [==============================] - 0s 8ms/step - loss: 0.2462 - accuracy: 0.8889 - val_loss: 0.3146 - val_accuracy: 0.8537\n",
            "Epoch 8/20\n",
            "6/6 [==============================] - 0s 8ms/step - loss: 0.2188 - accuracy: 0.9136 - val_loss: 0.3371 - val_accuracy: 0.8537\n",
            "Epoch 9/20\n",
            "6/6 [==============================] - 0s 8ms/step - loss: 0.2094 - accuracy: 0.9074 - val_loss: 0.3398 - val_accuracy: 0.8537\n",
            "Epoch 10/20\n",
            "6/6 [==============================] - 0s 8ms/step - loss: 0.2039 - accuracy: 0.9198 - val_loss: 0.3408 - val_accuracy: 0.8293\n",
            "Epoch 11/20\n",
            "6/6 [==============================] - 0s 8ms/step - loss: 0.1841 - accuracy: 0.9321 - val_loss: 0.3487 - val_accuracy: 0.8537\n",
            "Epoch 12/20\n",
            "6/6 [==============================] - 0s 8ms/step - loss: 0.1838 - accuracy: 0.9198 - val_loss: 0.3475 - val_accuracy: 0.8537\n",
            "Epoch 13/20\n",
            "6/6 [==============================] - 0s 8ms/step - loss: 0.1616 - accuracy: 0.9321 - val_loss: 0.4267 - val_accuracy: 0.7805\n",
            "Epoch 14/20\n",
            "6/6 [==============================] - 0s 8ms/step - loss: 0.1614 - accuracy: 0.9568 - val_loss: 0.3936 - val_accuracy: 0.8293\n",
            "Epoch 15/20\n",
            "6/6 [==============================] - 0s 9ms/step - loss: 0.1469 - accuracy: 0.9506 - val_loss: 0.4137 - val_accuracy: 0.8293\n",
            "Epoch 16/20\n",
            "6/6 [==============================] - 0s 8ms/step - loss: 0.1358 - accuracy: 0.9506 - val_loss: 0.4333 - val_accuracy: 0.8293\n",
            "Epoch 17/20\n",
            "6/6 [==============================] - 0s 9ms/step - loss: 0.1237 - accuracy: 0.9691 - val_loss: 0.4272 - val_accuracy: 0.8293\n",
            "Epoch 18/20\n",
            "6/6 [==============================] - 0s 8ms/step - loss: 0.1116 - accuracy: 0.9630 - val_loss: 0.5138 - val_accuracy: 0.8049\n",
            "Epoch 19/20\n",
            "6/6 [==============================] - 0s 7ms/step - loss: 0.1157 - accuracy: 0.9691 - val_loss: 0.4899 - val_accuracy: 0.8293\n",
            "Epoch 20/20\n",
            "6/6 [==============================] - 0s 8ms/step - loss: 0.0962 - accuracy: 0.9753 - val_loss: 0.5083 - val_accuracy: 0.8293\n"
          ]
        }
      ]
    },
    {
      "cell_type": "code",
      "source": [
        "plt.figure(figsize=(10, 5))\n",
        "plt.subplot(1, 2, 1)\n",
        "plt.plot(historico.history['accuracy'])\n",
        "plt.plot(historico.history['val_accuracy'])\n",
        "plt.title('Acurácia por época')\n",
        "plt.xlabel('época')\n",
        "plt.ylabel('acurácia')\n",
        "plt.legend(['treino','validação'])\n",
        "\n",
        "plt.subplot(1, 2, 2)\n",
        "plt.plot(historico.history['loss'])\n",
        "plt.plot(historico.history['val_loss'])\n",
        "plt.title('Perda por época')\n",
        "plt.xlabel('época')\n",
        "plt.ylabel('perda')\n",
        "plt.legend(['treino','validação'])"
      ],
      "metadata": {
        "colab": {
          "base_uri": "https://localhost:8080/",
          "height": 368
        },
        "id": "CRqawc68ZxCL",
        "outputId": "05f72517-5c7c-48fb-b46f-b433c94c3218"
      },
      "execution_count": null,
      "outputs": [
        {
          "output_type": "execute_result",
          "data": {
            "text/plain": [
              "<matplotlib.legend.Legend at 0x7fd6ede86d10>"
            ]
          },
          "metadata": {},
          "execution_count": 65
        },
        {
          "output_type": "display_data",
          "data": {
            "text/plain": [
              "<Figure size 720x360 with 2 Axes>"
            ],
            "image/png": "[encoded data removed]"
          },
          "metadata": {
            "needs_background": "light"
          }
        }
      ]
    },
    {
      "cell_type": "code",
      "source": [
        "perda_teste, acuracia_teste=modelo.evaluate(X_teste, y_teste)\n",
        "print(acuracia_teste)"
      ],
      "metadata": {
        "colab": {
          "base_uri": "https://localhost:8080/"
        },
        "id": "ldI8bAfGaHin",
        "outputId": "7a0ad871-82c6-4eb1-c89f-99e5cfe5a7e4"
      },
      "execution_count": null,
      "outputs": [
        {
          "output_type": "stream",
          "name": "stdout",
          "text": [
            "4/4 [==============================] - 0s 3ms/step - loss: 0.5215 - accuracy: 0.8200\n",
            "0.8199999928474426\n"
          ]
        }
      ]
    },
    {
      "cell_type": "code",
      "source": [
        "modelo = keras.Sequential()\n",
        "modelo.add(keras.layers.Input(13))\n",
        "modelo.add(keras.layers.Dense(65, activation='relu'))\n",
        "modelo.add(keras.layers.Dense(65, activation='relu'))\n",
        "modelo.add(keras.layers.Dense(1, activation='sigmoid'))\n",
        "\n",
        "modelo.compile(\n",
        "    optimizer=keras.optimizers.RMSprop(), \n",
        "    loss=keras.losses.binary_crossentropy,\n",
        "    metrics=['accuracy']\n",
        ")\n",
        "\n",
        "modelo.summary()\n",
        "\n",
        "historico = modelo.fit(X_treino, y_treino, epochs=20, batch_size=32, validation_split=0.2)"
      ],
      "metadata": {
        "colab": {
          "base_uri": "https://localhost:8080/"
        },
        "id": "AF_1fnCpaXG3",
        "outputId": "18475878-8e86-41bc-c26c-0bd26ab053d2"
      },
      "execution_count": null,
      "outputs": [
        {
          "output_type": "stream",
          "name": "stdout",
          "text": [
            "Model: \"sequential_11\"\n",
            "_________________________________________________________________\n",
            " Layer (type)                Output Shape              Param #   \n",
            "=================================================================\n",
            " dense_32 (Dense)            (None, 65)                910       \n",
            "                                                                 \n",
            " dense_33 (Dense)            (None, 65)                4290      \n",
            "                                                                 \n",
            " dense_34 (Dense)            (None, 1)                 66        \n",
            "                                                                 \n",
            "=================================================================\n",
            "Total params: 5,266\n",
            "Trainable params: 5,266\n",
            "Non-trainable params: 0\n",
            "_________________________________________________________________\n",
            "Epoch 1/20\n",
            "6/6 [==============================] - 1s 33ms/step - loss: 0.6030 - accuracy: 0.7037 - val_loss: 0.5364 - val_accuracy: 0.6585\n",
            "Epoch 2/20\n",
            "6/6 [==============================] - 0s 10ms/step - loss: 0.5090 - accuracy: 0.7716 - val_loss: 0.4864 - val_accuracy: 0.7561\n",
            "Epoch 3/20\n",
            "6/6 [==============================] - 0s 7ms/step - loss: 0.4660 - accuracy: 0.8086 - val_loss: 0.4479 - val_accuracy: 0.7317\n",
            "Epoch 4/20\n",
            "6/6 [==============================] - 0s 7ms/step - loss: 0.4316 - accuracy: 0.8025 - val_loss: 0.4217 - val_accuracy: 0.7805\n",
            "Epoch 5/20\n",
            "6/6 [==============================] - 0s 6ms/step - loss: 0.4083 - accuracy: 0.8519 - val_loss: 0.3972 - val_accuracy: 0.7561\n",
            "Epoch 6/20\n",
            "6/6 [==============================] - 0s 7ms/step - loss: 0.3866 - accuracy: 0.8457 - val_loss: 0.3749 - val_accuracy: 0.8537\n",
            "Epoch 7/20\n",
            "6/6 [==============================] - 0s 7ms/step - loss: 0.3676 - accuracy: 0.8519 - val_loss: 0.3582 - val_accuracy: 0.8537\n",
            "Epoch 8/20\n",
            "6/6 [==============================] - 0s 7ms/step - loss: 0.3520 - accuracy: 0.8580 - val_loss: 0.3403 - val_accuracy: 0.8780\n",
            "Epoch 9/20\n",
            "6/6 [==============================] - 0s 6ms/step - loss: 0.3370 - accuracy: 0.8519 - val_loss: 0.3298 - val_accuracy: 0.9024\n",
            "Epoch 10/20\n",
            "6/6 [==============================] - 0s 8ms/step - loss: 0.3256 - accuracy: 0.8827 - val_loss: 0.3184 - val_accuracy: 0.8780\n",
            "Epoch 11/20\n",
            "6/6 [==============================] - 0s 6ms/step - loss: 0.3127 - accuracy: 0.8642 - val_loss: 0.3154 - val_accuracy: 0.9268\n",
            "Epoch 12/20\n",
            "6/6 [==============================] - 0s 6ms/step - loss: 0.3053 - accuracy: 0.8704 - val_loss: 0.3126 - val_accuracy: 0.8780\n",
            "Epoch 13/20\n",
            "6/6 [==============================] - 0s 7ms/step - loss: 0.2991 - accuracy: 0.8580 - val_loss: 0.3065 - val_accuracy: 0.8780\n",
            "Epoch 14/20\n",
            "6/6 [==============================] - 0s 7ms/step - loss: 0.2901 - accuracy: 0.8765 - val_loss: 0.2984 - val_accuracy: 0.9024\n",
            "Epoch 15/20\n",
            "6/6 [==============================] - 0s 6ms/step - loss: 0.2812 - accuracy: 0.8827 - val_loss: 0.2932 - val_accuracy: 0.8780\n",
            "Epoch 16/20\n",
            "6/6 [==============================] - 0s 7ms/step - loss: 0.2741 - accuracy: 0.8889 - val_loss: 0.2909 - val_accuracy: 0.9024\n",
            "Epoch 17/20\n",
            "6/6 [==============================] - 0s 7ms/step - loss: 0.2657 - accuracy: 0.8827 - val_loss: 0.2919 - val_accuracy: 0.9024\n",
            "Epoch 18/20\n",
            "6/6 [==============================] - 0s 6ms/step - loss: 0.2625 - accuracy: 0.9074 - val_loss: 0.2890 - val_accuracy: 0.9024\n",
            "Epoch 19/20\n",
            "6/6 [==============================] - 0s 7ms/step - loss: 0.2528 - accuracy: 0.9012 - val_loss: 0.2817 - val_accuracy: 0.8780\n",
            "Epoch 20/20\n",
            "6/6 [==============================] - 0s 7ms/step - loss: 0.2470 - accuracy: 0.8951 - val_loss: 0.2793 - val_accuracy: 0.8780\n"
          ]
        }
      ]
    },
    {
      "cell_type": "code",
      "source": [
        "plt.figure(figsize=(10, 5))\n",
        "plt.subplot(1, 2, 1)\n",
        "plt.plot(historico.history['accuracy'])\n",
        "plt.plot(historico.history['val_accuracy'])\n",
        "plt.title('Acurácia por época')\n",
        "plt.xlabel('época')\n",
        "plt.ylabel('acurácia')\n",
        "plt.legend(['treino','validação'])\n",
        "\n",
        "plt.subplot(1, 2, 2)\n",
        "plt.plot(historico.history['loss'])\n",
        "plt.plot(historico.history['val_loss'])\n",
        "plt.title('Perda por época')\n",
        "plt.xlabel('época')\n",
        "plt.ylabel('perda')\n",
        "plt.legend(['treino','validação'])"
      ],
      "metadata": {
        "colab": {
          "base_uri": "https://localhost:8080/",
          "height": 368
        },
        "id": "Pl8IIpDhafPi",
        "outputId": "257c8fbd-51a8-4487-e1d0-6f98b9c42491"
      },
      "execution_count": null,
      "outputs": [
        {
          "output_type": "execute_result",
          "data": {
            "text/plain": [
              "<matplotlib.legend.Legend at 0x7fd6edc73a10>"
            ]
          },
          "metadata": {},
          "execution_count": 68
        },
        {
          "output_type": "display_data",
          "data": {
            "text/plain": [
              "<Figure size 720x360 with 2 Axes>"
            ],
            "image/png": "[encoded data removed]"
          },
          "metadata": {
            "needs_background": "light"
          }
        }
      ]
    },
    {
      "cell_type": "code",
      "source": [
        "perda_teste, acuracia_teste=modelo.evaluate(X_teste, y_teste)\n",
        "print(acuracia_teste)"
      ],
      "metadata": {
        "colab": {
          "base_uri": "https://localhost:8080/"
        },
        "id": "cfERCWlQaqPf",
        "outputId": "81e20e9d-11d5-490f-dcfe-579a9c0a78a1"
      },
      "execution_count": null,
      "outputs": [
        {
          "output_type": "stream",
          "name": "stdout",
          "text": [
            "4/4 [==============================] - 0s 4ms/step - loss: 0.3161 - accuracy: 0.8700\n",
            "0.8700000047683716\n"
          ]
        }
      ]
    },
    {
      "cell_type": "markdown",
      "source": [
        "#Avaliando modelos de Machine Learning"
      ],
      "metadata": {
        "id": "3-_2Uy3Ed-lR"
      }
    },
    {
      "cell_type": "code",
      "source": [
        "y_matriz = np.array([y_treino]).T"
      ],
      "metadata": {
        "id": "_gcfx1-qeC9x"
      },
      "execution_count": null,
      "outputs": []
    },
    {
      "cell_type": "code",
      "source": [
        "y_treino.shape"
      ],
      "metadata": {
        "colab": {
          "base_uri": "https://localhost:8080/"
        },
        "id": "eX7GLSVyeVmw",
        "outputId": "55bf8e0a-9188-449f-bdf0-c4083cbf35d8"
      },
      "execution_count": null,
      "outputs": [
        {
          "output_type": "execute_result",
          "data": {
            "text/plain": [
              "(203,)"
            ]
          },
          "metadata": {},
          "execution_count": 72
        }
      ]
    },
    {
      "cell_type": "code",
      "source": [
        "y_matriz.shape"
      ],
      "metadata": {
        "colab": {
          "base_uri": "https://localhost:8080/"
        },
        "id": "9CRVJQXveb7x",
        "outputId": "60d224ca-34fb-479c-ff1d-b0d87cfc8114"
      },
      "execution_count": null,
      "outputs": [
        {
          "output_type": "execute_result",
          "data": {
            "text/plain": [
              "(203, 1)"
            ]
          },
          "metadata": {},
          "execution_count": 74
        }
      ]
    },
    {
      "cell_type": "code",
      "source": [
        "X_treino.shape"
      ],
      "metadata": {
        "colab": {
          "base_uri": "https://localhost:8080/"
        },
        "id": "9khRkWkReegI",
        "outputId": "e19b7657-a66b-4b3f-8ba4-ee71fdaaf6b7"
      },
      "execution_count": null,
      "outputs": [
        {
          "output_type": "execute_result",
          "data": {
            "text/plain": [
              "(203, 13)"
            ]
          },
          "metadata": {},
          "execution_count": 76
        }
      ]
    },
    {
      "cell_type": "code",
      "source": [
        "Xy = np.concatenate(\n",
        "    (X_treino, y_matriz),\n",
        "    axis=1\n",
        ")\n",
        "Xy.shape"
      ],
      "metadata": {
        "colab": {
          "base_uri": "https://localhost:8080/"
        },
        "id": "GqknECHpeind",
        "outputId": "14eefcdf-0002-4832-a5b1-e2323975ac5e"
      },
      "execution_count": null,
      "outputs": [
        {
          "output_type": "execute_result",
          "data": {
            "text/plain": [
              "(203, 14)"
            ]
          },
          "metadata": {},
          "execution_count": 78
        }
      ]
    },
    {
      "cell_type": "markdown",
      "source": [
        "k fold"
      ],
      "metadata": {
        "id": "pTX5VMSofHYb"
      }
    },
    {
      "cell_type": "code",
      "source": [
        "k=3\n",
        "\n",
        "num_amostras_validacao = len(Xy)//k\n",
        "\n",
        "notas_validacao = []\n",
        "\n",
        "for fold in range(k):\n",
        "  print(fold)\n",
        "  dados_validacao = Xy[num_amostras_validacao * fold : num_amostras_validacao * (fold+1)]\n",
        "  dados_treino = np.concatenate(\n",
        "      (Xy[:num_amostras_validacao * fold], Xy[num_amostras_validacao * (fold+1):])   \n",
        "  )\n",
        "  modelo = keras.Sequential()\n",
        "  modelo.add(keras.layers.Input(13))\n",
        "  modelo.add(keras.layers.Dense(65, activation='relu'))\n",
        "  modelo.add(keras.layers.Dense(65, activation='relu'))\n",
        "  modelo.add(keras.layers.Dense(1, activation='sigmoid'))\n",
        "  modelo.compile(\n",
        "    optimizer=keras.optimizers.RMSprop(), \n",
        "    loss=keras.losses.binary_crossentropy,\n",
        "    metrics=['accuracy']\n",
        "  )\n",
        "  modelo.fit(dados_treino[:,0:13], dados_treino[:,13], epochs=20)\n",
        "  nota_validacao=modelo.evaluate(dados_validacao[:,0:13], dados_validacao[:,13])\n",
        "  notas_validacao.append(nota_validacao[1])\n",
        "\n",
        "nota_validacao = np.average(notas_validacao)\n"
      ],
      "metadata": {
        "colab": {
          "base_uri": "https://localhost:8080/"
        },
        "id": "dKqldrxKfDs9",
        "outputId": "52e78e81-ea43-4234-9010-de770b33a9c6"
      },
      "execution_count": null,
      "outputs": [
        {
          "output_type": "stream",
          "name": "stdout",
          "text": [
            "0\n",
            "Epoch 1/20\n",
            "5/5 [==============================] - 1s 3ms/step - loss: 0.5992 - accuracy: 0.7500\n",
            "Epoch 2/20\n",
            "5/5 [==============================] - 0s 3ms/step - loss: 0.4823 - accuracy: 0.8088\n",
            "Epoch 3/20\n",
            "5/5 [==============================] - 0s 3ms/step - loss: 0.4343 - accuracy: 0.7941\n",
            "Epoch 4/20\n",
            "5/5 [==============================] - 0s 3ms/step - loss: 0.3975 - accuracy: 0.8456\n",
            "Epoch 5/20\n",
            "5/5 [==============================] - 0s 4ms/step - loss: 0.3714 - accuracy: 0.8382\n",
            "Epoch 6/20\n",
            "5/5 [==============================] - 0s 4ms/step - loss: 0.3510 - accuracy: 0.8603\n",
            "Epoch 7/20\n",
            "5/5 [==============================] - 0s 3ms/step - loss: 0.3324 - accuracy: 0.8529\n",
            "Epoch 8/20\n",
            "5/5 [==============================] - 0s 3ms/step - loss: 0.3159 - accuracy: 0.8456\n",
            "Epoch 9/20\n",
            "5/5 [==============================] - 0s 4ms/step - loss: 0.3030 - accuracy: 0.8750\n",
            "Epoch 10/20\n",
            "5/5 [==============================] - 0s 3ms/step - loss: 0.2934 - accuracy: 0.8750\n",
            "Epoch 11/20\n",
            "5/5 [==============================] - 0s 3ms/step - loss: 0.2779 - accuracy: 0.9044\n",
            "Epoch 12/20\n",
            "5/5 [==============================] - 0s 3ms/step - loss: 0.2679 - accuracy: 0.9044\n",
            "Epoch 13/20\n",
            "5/5 [==============================] - 0s 3ms/step - loss: 0.2565 - accuracy: 0.9118\n",
            "Epoch 14/20\n",
            "5/5 [==============================] - 0s 3ms/step - loss: 0.2485 - accuracy: 0.9191\n",
            "Epoch 15/20\n",
            "5/5 [==============================] - 0s 3ms/step - loss: 0.2412 - accuracy: 0.9191\n",
            "Epoch 16/20\n",
            "5/5 [==============================] - 0s 3ms/step - loss: 0.2334 - accuracy: 0.9265\n",
            "Epoch 17/20\n",
            "5/5 [==============================] - 0s 3ms/step - loss: 0.2278 - accuracy: 0.9191\n",
            "Epoch 18/20\n",
            "5/5 [==============================] - 0s 3ms/step - loss: 0.2223 - accuracy: 0.9265\n",
            "Epoch 19/20\n",
            "5/5 [==============================] - 0s 3ms/step - loss: 0.2143 - accuracy: 0.9265\n",
            "Epoch 20/20\n",
            "5/5 [==============================] - 0s 3ms/step - loss: 0.2092 - accuracy: 0.9265\n",
            "WARNING:tensorflow:5 out of the last 54 calls to <function Model.make_test_function.<locals>.test_function at 0x7fd6f2a9aa70> triggered tf.function retracing. Tracing is expensive and the excessive number of tracings could be due to (1) creating @tf.function repeatedly in a loop, (2) passing tensors with different shapes, (3) passing Python objects instead of tensors. For (1), please define your @tf.function outside of the loop. For (2), @tf.function has experimental_relax_shapes=True option that relaxes argument shapes that can avoid unnecessary retracing. For (3), please refer to https://www.tensorflow.org/guide/function#controlling_retracing and https://www.tensorflow.org/api_docs/python/tf/function for  more details.\n",
            "3/3 [==============================] - 0s 6ms/step - loss: 0.3896 - accuracy: 0.8060\n",
            "1\n",
            "Epoch 1/20\n",
            "5/5 [==============================] - 1s 3ms/step - loss: 0.6162 - accuracy: 0.6838\n",
            "Epoch 2/20\n",
            "5/5 [==============================] - 0s 3ms/step - loss: 0.5096 - accuracy: 0.8015\n",
            "Epoch 3/20\n",
            "5/5 [==============================] - 0s 3ms/step - loss: 0.4531 - accuracy: 0.8235\n",
            "Epoch 4/20\n",
            "5/5 [==============================] - 0s 3ms/step - loss: 0.4122 - accuracy: 0.8529\n",
            "Epoch 5/20\n",
            "5/5 [==============================] - 0s 4ms/step - loss: 0.3801 - accuracy: 0.8676\n",
            "Epoch 6/20\n",
            "5/5 [==============================] - 0s 3ms/step - loss: 0.3531 - accuracy: 0.8750\n",
            "Epoch 7/20\n",
            "5/5 [==============================] - 0s 4ms/step - loss: 0.3323 - accuracy: 0.8676\n",
            "Epoch 8/20\n",
            "5/5 [==============================] - 0s 4ms/step - loss: 0.3149 - accuracy: 0.8750\n",
            "Epoch 9/20\n",
            "5/5 [==============================] - 0s 5ms/step - loss: 0.3018 - accuracy: 0.8676\n",
            "Epoch 10/20\n",
            "5/5 [==============================] - 0s 4ms/step - loss: 0.2899 - accuracy: 0.8897\n",
            "Epoch 11/20\n",
            "5/5 [==============================] - 0s 3ms/step - loss: 0.2775 - accuracy: 0.8971\n",
            "Epoch 12/20\n",
            "5/5 [==============================] - 0s 4ms/step - loss: 0.2685 - accuracy: 0.8824\n",
            "Epoch 13/20\n",
            "5/5 [==============================] - 0s 5ms/step - loss: 0.2600 - accuracy: 0.8897\n",
            "Epoch 14/20\n",
            "5/5 [==============================] - 0s 4ms/step - loss: 0.2514 - accuracy: 0.8897\n",
            "Epoch 15/20\n",
            "5/5 [==============================] - 0s 3ms/step - loss: 0.2436 - accuracy: 0.8824\n",
            "Epoch 16/20\n",
            "5/5 [==============================] - 0s 3ms/step - loss: 0.2362 - accuracy: 0.8897\n",
            "Epoch 17/20\n",
            "5/5 [==============================] - 0s 3ms/step - loss: 0.2288 - accuracy: 0.9044\n",
            "Epoch 18/20\n",
            "5/5 [==============================] - 0s 3ms/step - loss: 0.2247 - accuracy: 0.9044\n",
            "Epoch 19/20\n",
            "5/5 [==============================] - 0s 3ms/step - loss: 0.2174 - accuracy: 0.8971\n",
            "Epoch 20/20\n",
            "5/5 [==============================] - 0s 4ms/step - loss: 0.2102 - accuracy: 0.9044\n",
            "WARNING:tensorflow:5 out of the last 13 calls to <function Model.make_test_function.<locals>.test_function at 0x7fd6f28353b0> triggered tf.function retracing. Tracing is expensive and the excessive number of tracings could be due to (1) creating @tf.function repeatedly in a loop, (2) passing tensors with different shapes, (3) passing Python objects instead of tensors. For (1), please define your @tf.function outside of the loop. For (2), @tf.function has experimental_relax_shapes=True option that relaxes argument shapes that can avoid unnecessary retracing. For (3), please refer to https://www.tensorflow.org/guide/function#controlling_retracing and https://www.tensorflow.org/api_docs/python/tf/function for  more details.\n",
            "3/3 [==============================] - 0s 7ms/step - loss: 0.4353 - accuracy: 0.7761\n",
            "2\n",
            "Epoch 1/20\n",
            "5/5 [==============================] - 1s 3ms/step - loss: 0.6958 - accuracy: 0.5221\n",
            "Epoch 2/20\n",
            "5/5 [==============================] - 0s 4ms/step - loss: 0.5669 - accuracy: 0.8162\n",
            "Epoch 3/20\n",
            "5/5 [==============================] - 0s 4ms/step - loss: 0.5082 - accuracy: 0.8235\n",
            "Epoch 4/20\n",
            "5/5 [==============================] - 0s 4ms/step - loss: 0.4608 - accuracy: 0.8382\n",
            "Epoch 5/20\n",
            "5/5 [==============================] - 0s 4ms/step - loss: 0.4273 - accuracy: 0.8603\n",
            "Epoch 6/20\n",
            "5/5 [==============================] - 0s 4ms/step - loss: 0.3994 - accuracy: 0.8382\n",
            "Epoch 7/20\n",
            "5/5 [==============================] - 0s 3ms/step - loss: 0.3763 - accuracy: 0.8456\n",
            "Epoch 8/20\n",
            "5/5 [==============================] - 0s 4ms/step - loss: 0.3571 - accuracy: 0.8603\n",
            "Epoch 9/20\n",
            "5/5 [==============================] - 0s 4ms/step - loss: 0.3386 - accuracy: 0.8750\n",
            "Epoch 10/20\n",
            "5/5 [==============================] - 0s 4ms/step - loss: 0.3271 - accuracy: 0.8529\n",
            "Epoch 11/20\n",
            "5/5 [==============================] - 0s 3ms/step - loss: 0.3146 - accuracy: 0.8750\n",
            "Epoch 12/20\n",
            "5/5 [==============================] - 0s 3ms/step - loss: 0.3029 - accuracy: 0.8824\n",
            "Epoch 13/20\n",
            "5/5 [==============================] - 0s 3ms/step - loss: 0.2918 - accuracy: 0.8750\n",
            "Epoch 14/20\n",
            "5/5 [==============================] - 0s 4ms/step - loss: 0.2816 - accuracy: 0.8824\n",
            "Epoch 15/20\n",
            "5/5 [==============================] - 0s 3ms/step - loss: 0.2743 - accuracy: 0.8824\n",
            "Epoch 16/20\n",
            "5/5 [==============================] - 0s 3ms/step - loss: 0.2630 - accuracy: 0.8971\n",
            "Epoch 17/20\n",
            "5/5 [==============================] - 0s 3ms/step - loss: 0.2564 - accuracy: 0.8897\n",
            "Epoch 18/20\n",
            "5/5 [==============================] - 0s 3ms/step - loss: 0.2488 - accuracy: 0.8971\n",
            "Epoch 19/20\n",
            "5/5 [==============================] - 0s 3ms/step - loss: 0.2438 - accuracy: 0.9044\n",
            "Epoch 20/20\n",
            "5/5 [==============================] - 0s 4ms/step - loss: 0.2332 - accuracy: 0.9044\n",
            "3/3 [==============================] - 0s 4ms/step - loss: 0.3550 - accuracy: 0.8358\n"
          ]
        }
      ]
    },
    {
      "cell_type": "code",
      "source": [
        "print(notas_validacao)"
      ],
      "metadata": {
        "colab": {
          "base_uri": "https://localhost:8080/"
        },
        "id": "-fZ9X8trhsmP",
        "outputId": "5f3ab1cf-b460-4e59-9428-dca6b22998b7"
      },
      "execution_count": null,
      "outputs": [
        {
          "output_type": "stream",
          "name": "stdout",
          "text": [
            "[0.8059701323509216, 0.7761194109916687, 0.8358209133148193]\n"
          ]
        }
      ]
    },
    {
      "cell_type": "code",
      "source": [
        "nota_validacao"
      ],
      "metadata": {
        "colab": {
          "base_uri": "https://localhost:8080/"
        },
        "id": "i4yyD53GhujC",
        "outputId": "32a079d6-dc13-417c-dc1e-f049b104af8f"
      },
      "execution_count": null,
      "outputs": [
        {
          "output_type": "execute_result",
          "data": {
            "text/plain": [
              "0.8059701522191366"
            ]
          },
          "metadata": {},
          "execution_count": 85
        }
      ]
    },
    {
      "cell_type": "code",
      "source": [
        "modelo = keras.Sequential()\n",
        "modelo.add(keras.layers.Input(13))\n",
        "modelo.add(keras.layers.Dense(65, activation='relu'))\n",
        "modelo.add(keras.layers.Dense(65, activation='relu'))\n",
        "modelo.add(keras.layers.Dense(1,activation='sigmoid'))\n",
        "\n",
        "modelo.compile(\n",
        "               optimizer=keras.optimizers.RMSprop(),\n",
        "               loss=keras.losses.binary_crossentropy,\n",
        "               metrics=['accuracy'])\n",
        "\n",
        "modelo.summary()\n",
        "\n",
        "historico = modelo.fit(X_treino, y_treino, epochs=20)"
      ],
      "metadata": {
        "colab": {
          "base_uri": "https://localhost:8080/"
        },
        "id": "o4_-mMjth05y",
        "outputId": "12be018b-4d2f-43e3-8353-088b7ec6a5c5"
      },
      "execution_count": null,
      "outputs": [
        {
          "output_type": "stream",
          "name": "stdout",
          "text": [
            "Model: \"sequential_18\"\n",
            "_________________________________________________________________\n",
            " Layer (type)                Output Shape              Param #   \n",
            "=================================================================\n",
            " dense_53 (Dense)            (None, 65)                910       \n",
            "                                                                 \n",
            " dense_54 (Dense)            (None, 65)                4290      \n",
            "                                                                 \n",
            " dense_55 (Dense)            (None, 1)                 66        \n",
            "                                                                 \n",
            "=================================================================\n",
            "Total params: 5,266\n",
            "Trainable params: 5,266\n",
            "Non-trainable params: 0\n",
            "_________________________________________________________________\n",
            "Epoch 1/20\n",
            "7/7 [==============================] - 1s 3ms/step - loss: 0.6199 - accuracy: 0.6946\n",
            "Epoch 2/20\n",
            "7/7 [==============================] - 0s 2ms/step - loss: 0.5055 - accuracy: 0.7882\n",
            "Epoch 3/20\n",
            "7/7 [==============================] - 0s 2ms/step - loss: 0.4438 - accuracy: 0.8030\n",
            "Epoch 4/20\n",
            "7/7 [==============================] - 0s 3ms/step - loss: 0.4035 - accuracy: 0.7931\n",
            "Epoch 5/20\n",
            "7/7 [==============================] - 0s 2ms/step - loss: 0.3702 - accuracy: 0.8325\n",
            "Epoch 6/20\n",
            "7/7 [==============================] - 0s 3ms/step - loss: 0.3456 - accuracy: 0.8522\n",
            "Epoch 7/20\n",
            "7/7 [==============================] - 0s 2ms/step - loss: 0.3249 - accuracy: 0.8621\n",
            "Epoch 8/20\n",
            "7/7 [==============================] - 0s 3ms/step - loss: 0.3139 - accuracy: 0.8719\n",
            "Epoch 9/20\n",
            "7/7 [==============================] - 0s 3ms/step - loss: 0.3011 - accuracy: 0.8719\n",
            "Epoch 10/20\n",
            "7/7 [==============================] - 0s 3ms/step - loss: 0.2887 - accuracy: 0.8670\n",
            "Epoch 11/20\n",
            "7/7 [==============================] - 0s 3ms/step - loss: 0.2796 - accuracy: 0.8818\n",
            "Epoch 12/20\n",
            "7/7 [==============================] - 0s 3ms/step - loss: 0.2708 - accuracy: 0.8867\n",
            "Epoch 13/20\n",
            "7/7 [==============================] - 0s 3ms/step - loss: 0.2652 - accuracy: 0.8966\n",
            "Epoch 14/20\n",
            "7/7 [==============================] - 0s 3ms/step - loss: 0.2550 - accuracy: 0.8867\n",
            "Epoch 15/20\n",
            "7/7 [==============================] - 0s 3ms/step - loss: 0.2474 - accuracy: 0.8867\n",
            "Epoch 16/20\n",
            "7/7 [==============================] - 0s 3ms/step - loss: 0.2433 - accuracy: 0.8916\n",
            "Epoch 17/20\n",
            "7/7 [==============================] - 0s 3ms/step - loss: 0.2359 - accuracy: 0.9015\n",
            "Epoch 18/20\n",
            "7/7 [==============================] - 0s 3ms/step - loss: 0.2282 - accuracy: 0.9064\n",
            "Epoch 19/20\n",
            "7/7 [==============================] - 0s 2ms/step - loss: 0.2233 - accuracy: 0.9064\n",
            "Epoch 20/20\n",
            "7/7 [==============================] - 0s 3ms/step - loss: 0.2171 - accuracy: 0.9163\n"
          ]
        }
      ]
    },
    {
      "cell_type": "code",
      "source": [
        "perda_teste, acuracia_teste=modelo.evaluate(X_teste, y_teste)\n",
        "print(acuracia_teste)"
      ],
      "metadata": {
        "colab": {
          "base_uri": "https://localhost:8080/"
        },
        "id": "nhVQ8sRmiuz_",
        "outputId": "80545baf-3895-43c9-8d29-bfdb3b930616"
      },
      "execution_count": null,
      "outputs": [
        {
          "output_type": "stream",
          "name": "stdout",
          "text": [
            "4/4 [==============================] - 0s 5ms/step - loss: 0.3664 - accuracy: 0.8400\n",
            "0.8399999737739563\n"
          ]
        }
      ]
    },
    {
      "cell_type": "markdown",
      "source": [
        "#Experimentando a regularização na prática"
      ],
      "metadata": {
        "id": "LRR6T5A8lM2p"
      }
    },
    {
      "cell_type": "code",
      "source": [
        "modelo = keras.Sequential()\n",
        "modelo.add(keras.layers.Input(13))\n",
        "modelo.add(keras.layers.Dense(65, activation='relu'))\n",
        "modelo.add(keras.layers.Dense(65, activation='relu'))\n",
        "modelo.add(keras.layers.Dense(1, activation='sigmoid'))\n",
        "\n",
        "modelo.compile(\n",
        "    optimizer=keras.optimizers.RMSprop(), \n",
        "    loss=keras.losses.binary_crossentropy,\n",
        "    metrics=['accuracy']\n",
        ")\n",
        "\n",
        "modelo.summary()\n",
        "\n",
        "historico = modelo.fit(X_treino, y_treino, epochs=20, batch_size=32, validation_split=0.2)"
      ],
      "metadata": {
        "colab": {
          "base_uri": "https://localhost:8080/"
        },
        "id": "yUyLoE2ClUWx",
        "outputId": "8714ad76-55ae-4df7-f1c8-87fa16050cac"
      },
      "execution_count": null,
      "outputs": [
        {
          "output_type": "stream",
          "name": "stdout",
          "text": [
            "Model: \"sequential_19\"\n",
            "_________________________________________________________________\n",
            " Layer (type)                Output Shape              Param #   \n",
            "=================================================================\n",
            " dense_56 (Dense)            (None, 65)                910       \n",
            "                                                                 \n",
            " dense_57 (Dense)            (None, 65)                4290      \n",
            "                                                                 \n",
            " dense_58 (Dense)            (None, 1)                 66        \n",
            "                                                                 \n",
            "=================================================================\n",
            "Total params: 5,266\n",
            "Trainable params: 5,266\n",
            "Non-trainable params: 0\n",
            "_________________________________________________________________\n",
            "Epoch 1/20\n",
            "6/6 [==============================] - 1s 33ms/step - loss: 0.5894 - accuracy: 0.7099 - val_loss: 0.5193 - val_accuracy: 0.7317\n",
            "Epoch 2/20\n",
            "6/6 [==============================] - 0s 6ms/step - loss: 0.4928 - accuracy: 0.7778 - val_loss: 0.4572 - val_accuracy: 0.7561\n",
            "Epoch 3/20\n",
            "6/6 [==============================] - 0s 7ms/step - loss: 0.4373 - accuracy: 0.8086 - val_loss: 0.4076 - val_accuracy: 0.8293\n",
            "Epoch 4/20\n",
            "6/6 [==============================] - 0s 7ms/step - loss: 0.3985 - accuracy: 0.8086 - val_loss: 0.3853 - val_accuracy: 0.8049\n",
            "Epoch 5/20\n",
            "6/6 [==============================] - 0s 7ms/step - loss: 0.3747 - accuracy: 0.8210 - val_loss: 0.3786 - val_accuracy: 0.8049\n",
            "Epoch 6/20\n",
            "6/6 [==============================] - 0s 8ms/step - loss: 0.3591 - accuracy: 0.8333 - val_loss: 0.3572 - val_accuracy: 0.8537\n",
            "Epoch 7/20\n",
            "6/6 [==============================] - 0s 6ms/step - loss: 0.3408 - accuracy: 0.8395 - val_loss: 0.3479 - val_accuracy: 0.8293\n",
            "Epoch 8/20\n",
            "6/6 [==============================] - 0s 7ms/step - loss: 0.3271 - accuracy: 0.8519 - val_loss: 0.3484 - val_accuracy: 0.8049\n",
            "Epoch 9/20\n",
            "6/6 [==============================] - 0s 7ms/step - loss: 0.3180 - accuracy: 0.8519 - val_loss: 0.3422 - val_accuracy: 0.8293\n",
            "Epoch 10/20\n",
            "6/6 [==============================] - 0s 7ms/step - loss: 0.3076 - accuracy: 0.8519 - val_loss: 0.3401 - val_accuracy: 0.8049\n",
            "Epoch 11/20\n",
            "6/6 [==============================] - 0s 7ms/step - loss: 0.2978 - accuracy: 0.8580 - val_loss: 0.3374 - val_accuracy: 0.8049\n",
            "Epoch 12/20\n",
            "6/6 [==============================] - 0s 7ms/step - loss: 0.2887 - accuracy: 0.8642 - val_loss: 0.3238 - val_accuracy: 0.8537\n",
            "Epoch 13/20\n",
            "6/6 [==============================] - 0s 7ms/step - loss: 0.2804 - accuracy: 0.8642 - val_loss: 0.3173 - val_accuracy: 0.8537\n",
            "Epoch 14/20\n",
            "6/6 [==============================] - 0s 7ms/step - loss: 0.2756 - accuracy: 0.8765 - val_loss: 0.3161 - val_accuracy: 0.8537\n",
            "Epoch 15/20\n",
            "6/6 [==============================] - 0s 7ms/step - loss: 0.2642 - accuracy: 0.8765 - val_loss: 0.3177 - val_accuracy: 0.8537\n",
            "Epoch 16/20\n",
            "6/6 [==============================] - 0s 7ms/step - loss: 0.2598 - accuracy: 0.8765 - val_loss: 0.3203 - val_accuracy: 0.8537\n",
            "Epoch 17/20\n",
            "6/6 [==============================] - 0s 7ms/step - loss: 0.2522 - accuracy: 0.8827 - val_loss: 0.3172 - val_accuracy: 0.8537\n",
            "Epoch 18/20\n",
            "6/6 [==============================] - 0s 8ms/step - loss: 0.2447 - accuracy: 0.8827 - val_loss: 0.3124 - val_accuracy: 0.8780\n",
            "Epoch 19/20\n",
            "6/6 [==============================] - 0s 7ms/step - loss: 0.2371 - accuracy: 0.8827 - val_loss: 0.3128 - val_accuracy: 0.8537\n",
            "Epoch 20/20\n",
            "6/6 [==============================] - 0s 7ms/step - loss: 0.2311 - accuracy: 0.8951 - val_loss: 0.3265 - val_accuracy: 0.8537\n"
          ]
        }
      ]
    },
    {
      "cell_type": "code",
      "source": [
        "plt.figure(figsize=(10, 5))\n",
        "plt.subplot(1, 2, 1)\n",
        "plt.plot(historico.history['accuracy'])\n",
        "plt.plot(historico.history['val_accuracy'])\n",
        "plt.title('Acurácia por época')\n",
        "plt.xlabel('época')\n",
        "plt.ylabel('acurácia')\n",
        "plt.legend(['treino','validação'])\n",
        "\n",
        "plt.subplot(1, 2, 2)\n",
        "plt.plot(historico.history['loss'])\n",
        "plt.plot(historico.history['val_loss'])\n",
        "plt.title('Perda por época')\n",
        "plt.xlabel('época')\n",
        "plt.ylabel('perda')\n",
        "plt.legend(['treino','validação'])"
      ],
      "metadata": {
        "colab": {
          "base_uri": "https://localhost:8080/",
          "height": 368
        },
        "id": "k7NK0yU-le0C",
        "outputId": "fdb9ae88-e569-4e05-b26c-c7479bf94771"
      },
      "execution_count": null,
      "outputs": [
        {
          "output_type": "execute_result",
          "data": {
            "text/plain": [
              "<matplotlib.legend.Legend at 0x7fd6f277eb10>"
            ]
          },
          "metadata": {},
          "execution_count": 89
        },
        {
          "output_type": "display_data",
          "data": {
            "text/plain": [
              "<Figure size 720x360 with 2 Axes>"
            ],
            "image/png": "[encoded data removed]"
          },
          "metadata": {
            "needs_background": "light"
          }
        }
      ]
    },
    {
      "cell_type": "code",
      "source": [
        "perda_teste, acuracia_teste=modelo.evaluate(X_teste, y_teste)\n",
        "print(acuracia_teste)"
      ],
      "metadata": {
        "colab": {
          "base_uri": "https://localhost:8080/"
        },
        "id": "rgD5SKVPlejj",
        "outputId": "d26dcccd-7eec-4ca0-e6d7-5bfd51fab0e0"
      },
      "execution_count": null,
      "outputs": [
        {
          "output_type": "stream",
          "name": "stdout",
          "text": [
            "4/4 [==============================] - 0s 4ms/step - loss: 0.3267 - accuracy: 0.8400\n",
            "0.8399999737739563\n"
          ]
        }
      ]
    },
    {
      "cell_type": "code",
      "source": [
        "from tensorflow.keras import regularizers\n",
        "\n",
        "modelo = keras.Sequential()\n",
        "modelo.add(keras.layers.Input(13))\n",
        "modelo.add(keras.layers.Dense(65, activation='relu', kernel_regularizer=regularizers.l2(0.002)))\n",
        "modelo.add(keras.layers.Dense(65, activation='relu',kernel_regularizer=regularizers.l2(0.002)))\n",
        "modelo.add(keras.layers.Dense(1, activation='sigmoid'))\n",
        "\n",
        "modelo.compile(\n",
        "    optimizer=keras.optimizers.RMSprop(), \n",
        "    loss=keras.losses.binary_crossentropy,\n",
        "    metrics=['accuracy']\n",
        ")\n",
        "\n",
        "modelo.summary()\n",
        "\n",
        "historico = modelo.fit(X_treino, y_treino, epochs=20, batch_size=32, validation_split=0.2)"
      ],
      "metadata": {
        "colab": {
          "base_uri": "https://localhost:8080/"
        },
        "id": "MglMogz-lv5T",
        "outputId": "173dbf1a-c217-49be-cc54-74e017a82a4d"
      },
      "execution_count": null,
      "outputs": [
        {
          "output_type": "stream",
          "name": "stdout",
          "text": [
            "Model: \"sequential_20\"\n",
            "_________________________________________________________________\n",
            " Layer (type)                Output Shape              Param #   \n",
            "=================================================================\n",
            " dense_59 (Dense)            (None, 65)                910       \n",
            "                                                                 \n",
            " dense_60 (Dense)            (None, 65)                4290      \n",
            "                                                                 \n",
            " dense_61 (Dense)            (None, 1)                 66        \n",
            "                                                                 \n",
            "=================================================================\n",
            "Total params: 5,266\n",
            "Trainable params: 5,266\n",
            "Non-trainable params: 0\n",
            "_________________________________________________________________\n",
            "Epoch 1/20\n",
            "6/6 [==============================] - 1s 36ms/step - loss: 0.7953 - accuracy: 0.6728 - val_loss: 0.7188 - val_accuracy: 0.7317\n",
            "Epoch 2/20\n",
            "6/6 [==============================] - 0s 8ms/step - loss: 0.6836 - accuracy: 0.8272 - val_loss: 0.6550 - val_accuracy: 0.7805\n",
            "Epoch 3/20\n",
            "6/6 [==============================] - 0s 9ms/step - loss: 0.6296 - accuracy: 0.8148 - val_loss: 0.6132 - val_accuracy: 0.7805\n",
            "Epoch 4/20\n",
            "6/6 [==============================] - 0s 7ms/step - loss: 0.5925 - accuracy: 0.8333 - val_loss: 0.5848 - val_accuracy: 0.7805\n",
            "Epoch 5/20\n",
            "6/6 [==============================] - 0s 9ms/step - loss: 0.5633 - accuracy: 0.8272 - val_loss: 0.5631 - val_accuracy: 0.7805\n",
            "Epoch 6/20\n",
            "6/6 [==============================] - 0s 7ms/step - loss: 0.5422 - accuracy: 0.8210 - val_loss: 0.5421 - val_accuracy: 0.7805\n",
            "Epoch 7/20\n",
            "6/6 [==============================] - 0s 8ms/step - loss: 0.5224 - accuracy: 0.8272 - val_loss: 0.5242 - val_accuracy: 0.8293\n",
            "Epoch 8/20\n",
            "6/6 [==============================] - 0s 7ms/step - loss: 0.5019 - accuracy: 0.8395 - val_loss: 0.5116 - val_accuracy: 0.8293\n",
            "Epoch 9/20\n",
            "6/6 [==============================] - 0s 7ms/step - loss: 0.4889 - accuracy: 0.8519 - val_loss: 0.5019 - val_accuracy: 0.8780\n",
            "Epoch 10/20\n",
            "6/6 [==============================] - 0s 7ms/step - loss: 0.4767 - accuracy: 0.8765 - val_loss: 0.4906 - val_accuracy: 0.8293\n",
            "Epoch 11/20\n",
            "6/6 [==============================] - 0s 9ms/step - loss: 0.4632 - accuracy: 0.8704 - val_loss: 0.4858 - val_accuracy: 0.8293\n",
            "Epoch 12/20\n",
            "6/6 [==============================] - 0s 7ms/step - loss: 0.4534 - accuracy: 0.8642 - val_loss: 0.4822 - val_accuracy: 0.8293\n",
            "Epoch 13/20\n",
            "6/6 [==============================] - 0s 8ms/step - loss: 0.4437 - accuracy: 0.8642 - val_loss: 0.4710 - val_accuracy: 0.8537\n",
            "Epoch 14/20\n",
            "6/6 [==============================] - 0s 8ms/step - loss: 0.4332 - accuracy: 0.8765 - val_loss: 0.4702 - val_accuracy: 0.9024\n",
            "Epoch 15/20\n",
            "6/6 [==============================] - 0s 7ms/step - loss: 0.4247 - accuracy: 0.8827 - val_loss: 0.4663 - val_accuracy: 0.9268\n",
            "Epoch 16/20\n",
            "6/6 [==============================] - 0s 7ms/step - loss: 0.4202 - accuracy: 0.8889 - val_loss: 0.4659 - val_accuracy: 0.8780\n",
            "Epoch 17/20\n",
            "6/6 [==============================] - 0s 8ms/step - loss: 0.4101 - accuracy: 0.8889 - val_loss: 0.4679 - val_accuracy: 0.8780\n",
            "Epoch 18/20\n",
            "6/6 [==============================] - 0s 7ms/step - loss: 0.4059 - accuracy: 0.8951 - val_loss: 0.4658 - val_accuracy: 0.8780\n",
            "Epoch 19/20\n",
            "6/6 [==============================] - 0s 7ms/step - loss: 0.3978 - accuracy: 0.9012 - val_loss: 0.4670 - val_accuracy: 0.8780\n",
            "Epoch 20/20\n",
            "6/6 [==============================] - 0s 8ms/step - loss: 0.3916 - accuracy: 0.8951 - val_loss: 0.4672 - val_accuracy: 0.8780\n"
          ]
        }
      ]
    },
    {
      "cell_type": "code",
      "source": [
        "plt.figure(figsize=(10, 5))\n",
        "plt.subplot(1, 2, 1)\n",
        "plt.plot(historico.history['accuracy'])\n",
        "plt.plot(historico.history['val_accuracy'])\n",
        "plt.title('Acurácia por época')\n",
        "plt.xlabel('época')\n",
        "plt.ylabel('acurácia')\n",
        "plt.legend(['treino','validação'])\n",
        "\n",
        "plt.subplot(1, 2, 2)\n",
        "plt.plot(historico.history['loss'])\n",
        "plt.plot(historico.history['val_loss'])\n",
        "plt.title('Perda por época')\n",
        "plt.xlabel('época')\n",
        "plt.ylabel('perda')\n",
        "plt.legend(['treino','validação'])"
      ],
      "metadata": {
        "colab": {
          "base_uri": "https://localhost:8080/",
          "height": 368
        },
        "id": "qG7KvQ82mM7n",
        "outputId": "423d6cd4-3f38-4567-f4f6-381a67559701"
      },
      "execution_count": null,
      "outputs": [
        {
          "output_type": "execute_result",
          "data": {
            "text/plain": [
              "<matplotlib.legend.Legend at 0x7fd6f04ba7d0>"
            ]
          },
          "metadata": {},
          "execution_count": 92
        },
        {
          "output_type": "display_data",
          "data": {
            "text/plain": [
              "<Figure size 720x360 with 2 Axes>"
            ],
            "image/png": "[encoded data removed]"
          },
          "metadata": {
            "needs_background": "light"
          }
        }
      ]
    },
    {
      "cell_type": "code",
      "source": [
        "perda_teste, acuracia_teste=modelo.evaluate(X_teste, y_teste)\n",
        "print(acuracia_teste)"
      ],
      "metadata": {
        "id": "bucD9uxzmZiX",
        "outputId": "a0cccf38-c507-49d7-8c05-0751c59784d7",
        "colab": {
          "base_uri": "https://localhost:8080/"
        }
      },
      "execution_count": null,
      "outputs": [
        {
          "output_type": "stream",
          "name": "stdout",
          "text": [
            "4/4 [==============================] - 0s 5ms/step - loss: 0.4532 - accuracy: 0.8500\n",
            "0.8500000238418579\n"
          ]
        }
      ]
    }
  ]
}